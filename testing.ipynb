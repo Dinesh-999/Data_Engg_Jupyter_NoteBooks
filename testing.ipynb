{
 "cells": [
  {
   "cell_type": "code",
   "execution_count": 13,
   "id": "2438c312",
   "metadata": {},
   "outputs": [
    {
     "name": "stdout",
     "output_type": "stream",
     "text": [
      "4567"
     ]
    }
   ],
   "source": [
    "list1 = [2,3,4,5]\n",
    "\n",
    "listmap = map(lambda x : x+2, list1)\n",
    "\n",
    "\n",
    "for i in listmap:\n",
    "    print(i, end = \"\")"
   ]
  },
  {
   "cell_type": "code",
   "execution_count": 16,
   "id": "97086329",
   "metadata": {},
   "outputs": [
    {
     "name": "stdout",
     "output_type": "stream",
     "text": [
      "3\n",
      "4\n",
      "5\n"
     ]
    }
   ],
   "source": [
    "# list1.filter(lambda x : x>2)\n",
    "\n",
    "for i in filter(lambda x : x>2, list1):\n",
    "    print(i)\n",
    "\n",
    "\n"
   ]
  },
  {
   "cell_type": "code",
   "execution_count": 20,
   "id": "f1edb91c",
   "metadata": {},
   "outputs": [
    {
     "data": {
      "text/plain": [
       "'how r u'"
      ]
     },
     "execution_count": 20,
     "metadata": {},
     "output_type": "execute_result"
    }
   ],
   "source": [
    "string = \"how rr u\"\n",
    "string.replace(\"rr\", \"r\")\n"
   ]
  },
  {
   "cell_type": "code",
   "execution_count": 23,
   "id": "301419e9",
   "metadata": {},
   "outputs": [
    {
     "data": {
      "text/plain": [
       "True"
      ]
     },
     "execution_count": 23,
     "metadata": {},
     "output_type": "execute_result"
    }
   ],
   "source": [
    "string.find(\"how\")\n",
    "\"how\" in string"
   ]
  },
  {
   "cell_type": "code",
   "execution_count": 24,
   "id": "f536b983",
   "metadata": {},
   "outputs": [
    {
     "name": "stdout",
     "output_type": "stream",
     "text": [
      "Telangana\n",
      "Gujarat\n",
      "Karnataka\n"
     ]
    }
   ],
   "source": [
    "state = [\n",
    "\"State->Telangana\" ,\n",
    "\"State->Gujarat\" ,\n",
    "\"State->Karnataka\"\n",
    "]\n",
    "\n",
    "states = map(lambda x : x.replace(\"State->\", \"\"), state)\n",
    "\n",
    "for i in states:\n",
    "    print(i)\n"
   ]
  },
  {
   "cell_type": "code",
   "execution_count": 25,
   "id": "fa3dd927",
   "metadata": {},
   "outputs": [
    {
     "data": {
      "text/plain": [
       "['State', 'City']"
      ]
     },
     "execution_count": 25,
     "metadata": {},
     "output_type": "execute_result"
    }
   ],
   "source": [
    "spl = \"State~City\"\n",
    "spl.split(\"~\")"
   ]
  },
  {
   "cell_type": "code",
   "execution_count": 26,
   "id": "3c865aa3",
   "metadata": {},
   "outputs": [
    {
     "data": {
      "text/plain": [
       "'C:\\\\Users\\\\dines\\\\anaconda3\\\\Lib\\\\site-packages\\\\pyspark'"
      ]
     },
     "execution_count": 26,
     "metadata": {},
     "output_type": "execute_result"
    }
   ],
   "source": [
    "import findspark\n",
    "findspark.init()\n",
    "findspark.find()"
   ]
  },
  {
   "cell_type": "code",
   "execution_count": 27,
   "id": "0c9aa354",
   "metadata": {},
   "outputs": [
    {
     "name": "stdout",
     "output_type": "stream",
     "text": [
      "imported\n"
     ]
    }
   ],
   "source": [
    "# Normal Imports\n",
    "import pyspark\n",
    "from pyspark.sql import SparkSession\n",
    "from pyspark import SparkConf, SparkContext\n",
    "from pyspark.sql.functions import col,struct,when, lit\n",
    "from pyspark.sql import Row\n",
    "\n",
    "print(\"imported\")"
   ]
  },
  {
   "cell_type": "code",
   "execution_count": 28,
   "id": "1f903425",
   "metadata": {},
   "outputs": [],
   "source": [
    "# spark context\n",
    "conf = SparkConf().setAppName(\"Spark\").setMaster(\"local[*]\")\n",
    "sc = SparkContext.getOrCreate(conf = conf)\n",
    "sc.setLogLevel(\"ERROR\")\n",
    "\n",
    "\n",
    "# spark session\n",
    "spark = SparkSession.builder.master(\"local[1]\").appName('SparkByExamples.com').getOrCreate()"
   ]
  },
  {
   "cell_type": "code",
   "execution_count": null,
   "id": "3b86785b",
   "metadata": {},
   "outputs": [],
   "source": [
    "# \"file:///D:/Data Analytics applications/Eclipse Projects/data_files/\""
   ]
  },
  {
   "cell_type": "code",
   "execution_count": 107,
   "id": "6cc9a8c6",
   "metadata": {},
   "outputs": [],
   "source": [
    "data = sc.textFile(\"file:///D:/Data Analytics applications/Eclipse Projects/data_files/datatxns.txt\")\n",
    "data.foreach(print)\n",
    "# data.foreach(lambda f : print(f))"
   ]
  },
  {
   "cell_type": "code",
   "execution_count": 45,
   "id": "54ea19bb",
   "metadata": {},
   "outputs": [
    {
     "data": {
      "text/plain": [
       "['00000003,Gymnastics,GymnasticsRings,credit',\n",
       " '00000014,Gymnastics,Vaulting,credit',\n",
       " '00000023,Gymnastics,GymnasticsRings,credit']"
      ]
     },
     "execution_count": 45,
     "metadata": {},
     "output_type": "execute_result"
    }
   ],
   "source": [
    "filterdata = data.filter(lambda x : len(x) > 30 )\n",
    "filterdata.foreach(print)\n",
    "data1 = filterdata.take(3)\n",
    "data1"
   ]
  },
  {
   "cell_type": "code",
   "execution_count": 48,
   "id": "2c5be384",
   "metadata": {},
   "outputs": [
    {
     "data": {
      "text/plain": [
       "[['00000003', 'Gymnastics', 'GymnasticsRings', 'credit'],\n",
       " ['00000014', 'Gymnastics', 'Vaulting', 'credit'],\n",
       " ['00000023', 'Gymnastics', 'GymnasticsRings', 'credit'],\n",
       " ['00000045', 'Exercise', 'Abdominal', 'credit']]"
      ]
     },
     "execution_count": 48,
     "metadata": {},
     "output_type": "execute_result"
    }
   ],
   "source": [
    "splitdata = filterdata.map(lambda x : x.split(\",\"))\n",
    "splitdata.foreach(print)\n",
    "splitdata.take(4)"
   ]
  },
  {
   "cell_type": "code",
   "execution_count": 49,
   "id": "47f9800a",
   "metadata": {},
   "outputs": [],
   "source": [
    "splitdf = splitdata.toDF()"
   ]
  },
  {
   "cell_type": "code",
   "execution_count": 50,
   "id": "939f7f4e",
   "metadata": {},
   "outputs": [
    {
     "name": "stdout",
     "output_type": "stream",
     "text": [
      "+--------+----------+---------------+------+\n",
      "|      _1|        _2|             _3|    _4|\n",
      "+--------+----------+---------------+------+\n",
      "|00000003|Gymnastics|GymnasticsRings|credit|\n",
      "|00000014|Gymnastics|       Vaulting|credit|\n",
      "|00000023|Gymnastics|GymnasticsRings|credit|\n",
      "|00000045|  Exercise|      Abdominal|credit|\n",
      "|00000046|Gymnastics|       Vaulting|credit|\n",
      "+--------+----------+---------------+------+\n",
      "\n"
     ]
    }
   ],
   "source": [
    "splitdf.show()"
   ]
  },
  {
   "cell_type": "code",
   "execution_count": 52,
   "id": "cf54c2f3",
   "metadata": {},
   "outputs": [
    {
     "name": "stdout",
     "output_type": "stream",
     "text": [
      "-RECORD 0---------------------------------\n",
      " first_name   | James                     \n",
      " last_name    | Butt                      \n",
      " company_name | Benton, John B Jr         \n",
      " address      | 6649 N Blue Gum St        \n",
      " city         | New Orleans               \n",
      " county       | Orleans                   \n",
      " state        | LA                        \n",
      " zip          | 70116                     \n",
      " age          | 9                         \n",
      " phone1       | 504-621-8927              \n",
      " phone2       | 504-845-1427              \n",
      " email        | jbutt@gmail.com           \n",
      " web          | http://www.bentonjohnb... \n",
      "-RECORD 1---------------------------------\n",
      " first_name   | Josephine                 \n",
      " last_name    | Darakjy                   \n",
      " company_name | Chanay, Jeffrey A Esq     \n",
      " address      | 4 B Blue Ridge Blvd       \n",
      " city         | Brighton                  \n",
      " county       | Livingston                \n",
      " state        | MI                        \n",
      " zip          | 48116                     \n",
      " age          | 8                         \n",
      " phone1       | 810-292-9388              \n",
      " phone2       | 810-374-9840              \n",
      " email        | josephine_darakjy@dara... \n",
      " web          | http://www.chanayjeffr... \n",
      "-RECORD 2---------------------------------\n",
      " first_name   | Art                       \n",
      " last_name    | Venere                    \n",
      " company_name | Chemel, James L Cpa       \n",
      " address      | 8 W Cerritos Ave #54      \n",
      " city         | Bridgeport                \n",
      " county       | Gloucester                \n",
      " state        | NJ                        \n",
      " zip          | 8014                      \n",
      " age          | 7                         \n",
      " phone1       | 856-636-8749              \n",
      " phone2       | 856-264-4130              \n",
      " email        | art@venere.org            \n",
      " web          | http://www.chemeljames... \n",
      "only showing top 3 rows\n",
      "\n"
     ]
    }
   ],
   "source": [
    "usdata = spark.read.format(\"csv\").option(\"header\", \"true\").load(\"file:///D:/Data Analytics applications/Eclipse Projects/data_files/usdata.csv\")\n",
    "\n",
    "usdata.show(n=3,truncate=25,vertical=True)"
   ]
  },
  {
   "cell_type": "code",
   "execution_count": 54,
   "id": "8f99b764",
   "metadata": {},
   "outputs": [
    {
     "name": "stdout",
     "output_type": "stream",
     "text": [
      "+----------+---------+-------------+\n",
      "|first_name|last_name|         city|\n",
      "+----------+---------+-------------+\n",
      "|     James|     Butt|  New Orleans|\n",
      "| Josephine|  Darakjy|     Brighton|\n",
      "|       Art|   Venere|   Bridgeport|\n",
      "|     Lenna| Paprocki|    Anchorage|\n",
      "|   Donette|   Foller|     Hamilton|\n",
      "|    Simona|  Morasca|      Ashland|\n",
      "|    Mitsue|  Tollner|      Chicago|\n",
      "|     Leota| Dilliard|     San Jose|\n",
      "|      Sage|   Wieser|  Sioux Falls|\n",
      "|      Kris|  Marrier|    Baltimore|\n",
      "|     Minna|   Amigon|   Kulpsville|\n",
      "|      Abel|  Maclead|Middle Island|\n",
      "|     Kiley|Caldarera|  Los Angeles|\n",
      "|  Graciela|     Ruta|Chagrin Falls|\n",
      "|     Cammy|  Albares|       Laredo|\n",
      "|    Mattie| Poquette|      Phoenix|\n",
      "|   Meaghan|   Garufi| Mc Minnville|\n",
      "|    Gladys|      Rim|    Milwaukee|\n",
      "|      Yuki|  Whobrey|       Taylor|\n",
      "|  Fletcher|    Flosi|     Rockford|\n",
      "+----------+---------+-------------+\n",
      "only showing top 20 rows\n",
      "\n"
     ]
    }
   ],
   "source": [
    "usdata.createOrReplaceTempView(\"usdata\")\n",
    "sqldata = spark.sql(\"select first_name, last_name, city from usdata\")\n",
    "sqldata.show()"
   ]
  },
  {
   "cell_type": "code",
   "execution_count": 57,
   "id": "c48901eb",
   "metadata": {},
   "outputs": [
    {
     "name": "stdout",
     "output_type": "stream",
     "text": [
      "+--------+----------+-------+------+--------------------+-------------------+-------------+-------------+-------+\n",
      "|   txnno|   txndate| custno|amount|            category|            product|         city|        state|spendby|\n",
      "+--------+----------+-------+------+--------------------+-------------------+-------------+-------------+-------+\n",
      "|00075990|10-27-2011|4004658|063.14|        Water Sports| Whitewater Rafting|  Springfield|     Illinois| credit|\n",
      "|00075991|11-23-2011|4009784|005.46|Outdoor Play Equi...|   Outdoor Playsets|   Cincinnati|         Ohio|   cash|\n",
      "|00075992|04-20-2011|4000281|175.44|  Exercise & Fitness|Abdominal Equipment|   Long Beach|   California| credit|\n",
      "|00075993|05-12-2011|4005096|061.08|         Team Sports|       Cheerleading|   Montgomery|      Alabama| credit|\n",
      "|00075994|12-16-2011|4002516|005.20|  Outdoor Recreation|      Rock Climbing|  Chattanooga|    Tennessee|   cash|\n",
      "|00075995|10-18-2011|4002875|115.57|  Outdoor Recreation|         Geocaching|        Boise|        Idaho| credit|\n",
      "|00075996|04-05-2011|4003288|182.02|       Combat Sports|             Boxing|    Baltimore|     Maryland| credit|\n",
      "|00075997|05-18-2011|4002680|097.75|             Jumping|     Bungee Jumping|     Portland|       Oregon| credit|\n",
      "|00075998|10-10-2011|4003177|181.85|        Indoor Games|         Air Hockey|       Boston|Massachusetts| credit|\n",
      "|00075999|10-07-2011|4007526|084.44|  Outdoor Recreation|        Motorsports|    Cleveland|         Ohio| credit|\n",
      "|00076000|07-29-2011|4002374|129.91|          Gymnastics|   Gymnastics Rings|   Cincinnati|         Ohio| credit|\n",
      "|00076001|09-21-2011|4001795|057.17|         Team Sports|   Beach Volleyball|     Rockford|     Illinois| credit|\n",
      "|00076002|05-13-2011|4007526|031.04|          Gymnastics|   Gymnastics Rings|  Jersey City|   New Jersey| credit|\n",
      "|00076003|09-15-2011|4006044|125.84|Outdoor Play Equi...|         Swing Sets|Jacksonville |      Florida| credit|\n",
      "|00076004|02-01-2011|4004342|102.10|        Water Sports|       Water Tubing|     McKinney|        Texas| credit|\n",
      "|00076005|07-27-2011|4004221|059.98|       Combat Sports|          Wrestling|  Minneapolis|    Minnesota| credit|\n",
      "|00076006|04-24-2011|4005091|121.95|         Team Sports|            Curling|     McKinney|        Texas| credit|\n",
      "|00076007|01-03-2011|4006715|149.90|  Exercise & Fitness|     Medicine Balls|     Columbus|      Georgia| credit|\n",
      "|00076008|02-23-2011|4005043|186.21|         Team Sports|      Team Handball|    Sunnyvale|   California| credit|\n",
      "|00076009|10-03-2011|4009600|074.97|  Exercise & Fitness|       Free Weights|     Paterson|   New Jersey| credit|\n",
      "+--------+----------+-------+------+--------------------+-------------------+-------------+-------------+-------+\n",
      "only showing top 20 rows\n",
      "\n"
     ]
    }
   ],
   "source": [
    "parqdata = spark.read.format(\"parquet\").option(\"header\", \"true\").load(\"file:///D:/Data Analytics applications/Eclipse Projects/data_files/file5.parquet\")\n",
    "parqdata.show()"
   ]
  },
  {
   "cell_type": "code",
   "execution_count": 64,
   "id": "835e53c1",
   "metadata": {},
   "outputs": [
    {
     "name": "stdout",
     "output_type": "stream",
     "text": [
      "+--------+----------+-------+------+-----------+----------------+--------------+--------------+-------+\n",
      "|   txnno|   txndate| custno|amount|   category|         product|          city|         state|spendby|\n",
      "+--------+----------+-------+------+-----------+----------------+--------------+--------------+-------+\n",
      "|00075993|05-12-2011|4005096|061.08|Team Sports|    Cheerleading|    Montgomery|       Alabama| credit|\n",
      "|00076001|09-21-2011|4001795|057.17|Team Sports|Beach Volleyball|      Rockford|      Illinois| credit|\n",
      "|00076006|04-24-2011|4005091|121.95|Team Sports|         Curling|      McKinney|         Texas| credit|\n",
      "|00076008|02-23-2011|4005043|186.21|Team Sports|   Team Handball|     Sunnyvale|    California| credit|\n",
      "|00076021|08-13-2011|4001350|150.00|Team Sports|        Football|        Durham|North Carolina| credit|\n",
      "|00076032|05-04-2011|4006570|173.76|Team Sports|      Basketball|       Madison|     Wisconsin| credit|\n",
      "|00076059|01-23-2011|4006522|061.78|Team Sports|Beach Volleyball|   Nashville  |     Tennessee| credit|\n",
      "|00076070|10-27-2011|4004842|156.59|Team Sports|          Soccer|      Pasadena|         Texas| credit|\n",
      "|00076085|07-26-2011|4005582|112.61|Team Sports|           Rugby| Oklahoma City|      Oklahoma| credit|\n",
      "|00076096|02-26-2011|4004409|124.84|Team Sports|    Field Hockey|   Los Angeles|    California| credit|\n",
      "|00076101|07-02-2011|4003995|141.07|Team Sports|   Team Handball|    Cincinnati|          Ohio| credit|\n",
      "|00076110|11-03-2011|4008022|100.15|Team Sports|    Cheerleading|       Lincoln|      Nebraska| credit|\n",
      "|00076112|10-03-2011|4001551|045.02|Team Sports|   Team Handball|         Boise|         Idaho| credit|\n",
      "|00076114|04-21-2011|4003706|080.35|Team Sports|           Rugby|       Houston|         Texas| credit|\n",
      "|00076133|02-01-2011|4009898|086.68|Team Sports|    Field Hockey|        Orange|    California| credit|\n",
      "|00076139|12-10-2011|4001775|071.74|Team Sports|    Cheerleading|   Los Angeles|    California| credit|\n",
      "|00076143|06-30-2011|4009607|146.98|Team Sports|         Cricket|        Austin|         Texas| credit|\n",
      "|00076149|02-25-2011|4000674|154.10|Team Sports|        Lacrosse|         Flint|      Michigan| credit|\n",
      "|00076151|12-23-2011|4009911|055.74|Team Sports|Beach Volleyball|St. Petersburg|       Florida| credit|\n",
      "|00076161|03-20-2011|4005127|138.24|Team Sports|Beach Volleyball|St. Petersburg|       Florida| credit|\n",
      "+--------+----------+-------+------+-----------+----------------+--------------+--------------+-------+\n",
      "only showing top 20 rows\n",
      "\n"
     ]
    }
   ],
   "source": [
    "from pyspark.sql.functions import *\n",
    "filtdata = parqdata.filter(parqdata[\"category\"] == \"Team Sports\")\n",
    "filtdata.show()"
   ]
  },
  {
   "cell_type": "code",
   "execution_count": 66,
   "id": "ff5608b4",
   "metadata": {},
   "outputs": [
    {
     "name": "stdout",
     "output_type": "stream",
     "text": [
      "+--------+-------+------+----------------+\n",
      "|   txnno| custno|amount|         product|\n",
      "+--------+-------+------+----------------+\n",
      "|00075993|4005096|061.08|    Cheerleading|\n",
      "|00076001|4001795|057.17|Beach Volleyball|\n",
      "|00076006|4005091|121.95|         Curling|\n",
      "|00076008|4005043|186.21|   Team Handball|\n",
      "|00076021|4001350|150.00|        Football|\n",
      "|00076032|4006570|173.76|      Basketball|\n",
      "|00076059|4006522|061.78|Beach Volleyball|\n",
      "|00076070|4004842|156.59|          Soccer|\n",
      "|00076085|4005582|112.61|           Rugby|\n",
      "|00076096|4004409|124.84|    Field Hockey|\n",
      "|00076101|4003995|141.07|   Team Handball|\n",
      "|00076110|4008022|100.15|    Cheerleading|\n",
      "|00076112|4001551|045.02|   Team Handball|\n",
      "|00076114|4003706|080.35|           Rugby|\n",
      "|00076133|4009898|086.68|    Field Hockey|\n",
      "|00076139|4001775|071.74|    Cheerleading|\n",
      "|00076143|4009607|146.98|         Cricket|\n",
      "|00076149|4000674|154.10|        Lacrosse|\n",
      "|00076151|4009911|055.74|Beach Volleyball|\n",
      "|00076161|4005127|138.24|Beach Volleyball|\n",
      "+--------+-------+------+----------------+\n",
      "only showing top 20 rows\n",
      "\n"
     ]
    }
   ],
   "source": [
    "selectdata = filtdata.select(\"txnno\", \"custno\" , \"amount\", \"product\")\n",
    "selectdata.show()"
   ]
  },
  {
   "cell_type": "code",
   "execution_count": 71,
   "id": "b1745e76",
   "metadata": {},
   "outputs": [
    {
     "name": "stdout",
     "output_type": "stream",
     "text": [
      "+--------+----------+-------+------+-----------+----------------+--------------+--------------+-------+\n",
      "|   txnno|   txndate| custno|amount|   category|         product|          city|         state|spendby|\n",
      "+--------+----------+-------+------+-----------+----------------+--------------+--------------+-------+\n",
      "|00075993|05-12-2011|4005096|061.08|Team Sports|    Cheerleading|    Montgomery|       Alabama| credit|\n",
      "|00076001|09-21-2011|4001795|057.17|Team Sports|Beach Volleyball|      Rockford|      Illinois| credit|\n",
      "|00076006|04-24-2011|4005091|121.95|Team Sports|         Curling|      McKinney|         Texas| credit|\n",
      "|00076008|02-23-2011|4005043|186.21|Team Sports|   Team Handball|     Sunnyvale|    California| credit|\n",
      "|00076021|08-13-2011|4001350|150.00|Team Sports|        Football|        Durham|North Carolina| credit|\n",
      "|00076032|05-04-2011|4006570|173.76|Team Sports|      Basketball|       Madison|     Wisconsin| credit|\n",
      "|00076059|01-23-2011|4006522|061.78|Team Sports|Beach Volleyball|   Nashville  |     Tennessee| credit|\n",
      "|00076070|10-27-2011|4004842|156.59|Team Sports|          Soccer|      Pasadena|         Texas| credit|\n",
      "|00076085|07-26-2011|4005582|112.61|Team Sports|           Rugby| Oklahoma City|      Oklahoma| credit|\n",
      "|00076096|02-26-2011|4004409|124.84|Team Sports|    Field Hockey|   Los Angeles|    California| credit|\n",
      "|00076101|07-02-2011|4003995|141.07|Team Sports|   Team Handball|    Cincinnati|          Ohio| credit|\n",
      "|00076110|11-03-2011|4008022|100.15|Team Sports|    Cheerleading|       Lincoln|      Nebraska| credit|\n",
      "|00076112|10-03-2011|4001551|045.02|Team Sports|   Team Handball|         Boise|         Idaho| credit|\n",
      "|00076114|04-21-2011|4003706|080.35|Team Sports|           Rugby|       Houston|         Texas| credit|\n",
      "|00076133|02-01-2011|4009898|086.68|Team Sports|    Field Hockey|        Orange|    California| credit|\n",
      "|00076139|12-10-2011|4001775|071.74|Team Sports|    Cheerleading|   Los Angeles|    California| credit|\n",
      "|00076143|06-30-2011|4009607|146.98|Team Sports|         Cricket|        Austin|         Texas| credit|\n",
      "|00076149|02-25-2011|4000674|154.10|Team Sports|        Lacrosse|         Flint|      Michigan| credit|\n",
      "|00076151|12-23-2011|4009911|055.74|Team Sports|Beach Volleyball|St. Petersburg|       Florida| credit|\n",
      "|00076161|03-20-2011|4005127|138.24|Team Sports|Beach Volleyball|St. Petersburg|       Florida| credit|\n",
      "+--------+----------+-------+------+-----------+----------------+--------------+--------------+-------+\n",
      "only showing top 20 rows\n",
      "\n"
     ]
    }
   ],
   "source": [
    "multifiltdata = parqdata.filter((parqdata[\"category\"] == \"Team Sports\") | (parqdata[\"product\"] == \"Team Handball\"))\n",
    "multifiltdata.show()"
   ]
  },
  {
   "cell_type": "code",
   "execution_count": 78,
   "id": "0680d217",
   "metadata": {},
   "outputs": [
    {
     "name": "stdout",
     "output_type": "stream",
     "text": [
      "+--------+----------+-------+------+-----------+----------------+--------------+--------------+-------+--------+\n",
      "|   txnno|   txndate| custno|amount|   category|         product|          city|         state|spendby|   place|\n",
      "+--------+----------+-------+------+-----------+----------------+--------------+--------------+-------+--------+\n",
      "|00075993|05-12-2011|4005096|061.08|Team Sports|    Cheerleading|    Montgomery|       Alabama| credit|no beach|\n",
      "|00076001|09-21-2011|4001795|057.17|Team Sports|Beach Volleyball|      Rockford|      Illinois| credit|   beach|\n",
      "|00076006|04-24-2011|4005091|121.95|Team Sports|         Curling|      McKinney|         Texas| credit|no beach|\n",
      "|00076008|02-23-2011|4005043|186.21|Team Sports|   Team Handball|     Sunnyvale|    California| credit|no beach|\n",
      "|00076021|08-13-2011|4001350|150.00|Team Sports|        Football|        Durham|North Carolina| credit|no beach|\n",
      "|00076032|05-04-2011|4006570|173.76|Team Sports|      Basketball|       Madison|     Wisconsin| credit|no beach|\n",
      "|00076059|01-23-2011|4006522|061.78|Team Sports|Beach Volleyball|   Nashville  |     Tennessee| credit|   beach|\n",
      "|00076070|10-27-2011|4004842|156.59|Team Sports|          Soccer|      Pasadena|         Texas| credit|no beach|\n",
      "|00076085|07-26-2011|4005582|112.61|Team Sports|           Rugby| Oklahoma City|      Oklahoma| credit|no beach|\n",
      "|00076096|02-26-2011|4004409|124.84|Team Sports|    Field Hockey|   Los Angeles|    California| credit|no beach|\n",
      "|00076101|07-02-2011|4003995|141.07|Team Sports|   Team Handball|    Cincinnati|          Ohio| credit|no beach|\n",
      "|00076110|11-03-2011|4008022|100.15|Team Sports|    Cheerleading|       Lincoln|      Nebraska| credit|no beach|\n",
      "|00076112|10-03-2011|4001551|045.02|Team Sports|   Team Handball|         Boise|         Idaho| credit|no beach|\n",
      "|00076114|04-21-2011|4003706|080.35|Team Sports|           Rugby|       Houston|         Texas| credit|no beach|\n",
      "|00076133|02-01-2011|4009898|086.68|Team Sports|    Field Hockey|        Orange|    California| credit|no beach|\n",
      "|00076139|12-10-2011|4001775|071.74|Team Sports|    Cheerleading|   Los Angeles|    California| credit|no beach|\n",
      "|00076143|06-30-2011|4009607|146.98|Team Sports|         Cricket|        Austin|         Texas| credit|no beach|\n",
      "|00076149|02-25-2011|4000674|154.10|Team Sports|        Lacrosse|         Flint|      Michigan| credit|no beach|\n",
      "|00076151|12-23-2011|4009911|055.74|Team Sports|Beach Volleyball|St. Petersburg|       Florida| credit|   beach|\n",
      "|00076161|03-20-2011|4005127|138.24|Team Sports|Beach Volleyball|St. Petersburg|       Florida| credit|   beach|\n",
      "+--------+----------+-------+------+-----------+----------------+--------------+--------------+-------+--------+\n",
      "only showing top 20 rows\n",
      "\n"
     ]
    }
   ],
   "source": [
    "likesel = multifiltdata.selectExpr(\"*\", \"case when product like '%Beach%' then 'beach' else 'no beach' end as place\")\n",
    "likesel.show()"
   ]
  },
  {
   "cell_type": "code",
   "execution_count": 106,
   "id": "416e2284",
   "metadata": {},
   "outputs": [
    {
     "name": "stdout",
     "output_type": "stream",
     "text": [
      "+------------+------------------+------------------+-----------+-----------+\n",
      "|        city|       sum(amount)|       avg(amount)|max(amount)|min(amount)|\n",
      "+------------+------------------+------------------+-----------+-----------+\n",
      "|Alexandria  |1283.8300000000002| 98.75615384615386|     176.61|     013.15|\n",
      "|     Anaheim|1255.8899999999999|104.65749999999998|     184.98|     007.13|\n",
      "|     Atlanta| 928.1199999999999|103.12444444444444|     183.26|     026.41|\n",
      "|      Austin|           1925.32|113.25411764705882|     189.51|     005.72|\n",
      "|   Baltimore|1364.6200000000003| 97.47285714285717|     188.90|     030.43|\n",
      "|    Bellevue|           1549.28| 91.13411764705882|     186.69|     013.74|\n",
      "|    Berkeley|           1357.58|104.42923076923077|     194.40|     010.03|\n",
      "|  Birmingham|            764.76|109.25142857142858|     168.21|     047.31|\n",
      "|       Boise|           1332.34| 88.82266666666666|     178.29|     013.23|\n",
      "|      Boston|1003.4700000000001| 91.22454545454546|     174.62|     005.33|\n",
      "| Brownsville| 936.9100000000001| 78.07583333333334|     181.41|     030.10|\n",
      "|     Buffalo|1671.4599999999998|104.46624999999999|     187.66|     005.52|\n",
      "|   Cambridge|1363.2600000000002|113.60500000000002|     199.96|     008.74|\n",
      "|  Centennial|1146.4399999999998|114.64399999999998|     158.10|     040.54|\n",
      "|  Charleston|            1169.7|            116.97|     194.88|     015.82|\n",
      "|   Charlotte|1223.6300000000003|111.23909090909093|     197.67|     026.69|\n",
      "| Chattanooga|           1121.46|            93.455|     172.39|     013.46|\n",
      "|     Chicago| 873.7699999999999| 97.08555555555554|     186.42|     013.90|\n",
      "|  Cincinnati|           1316.06|109.67166666666667|     186.44|     008.92|\n",
      "| Clarksville|           1047.03|           87.2525|     160.48|     023.24|\n",
      "+------------+------------------+------------------+-----------+-----------+\n",
      "only showing top 20 rows\n",
      "\n"
     ]
    }
   ],
   "source": [
    "# aggdata = likesel.agg(sum(likesel.amount).alias(\"total\"))\n",
    "# aggdata.show()\n",
    "\n",
    "groupdata = likesel.groupBy(\"city\").agg(sum(likesel.amount), avg(likesel.amount), max(likesel.amount), min(likesel.amount))\n",
    "groupdata.show()"
   ]
  },
  {
   "cell_type": "code",
   "execution_count": 81,
   "id": "9604c542",
   "metadata": {},
   "outputs": [
    {
     "name": "stdout",
     "output_type": "stream",
     "text": [
      "+---+----+\n",
      "| id|name|\n",
      "+---+----+\n",
      "|  1| raj|\n",
      "|  2|ravi|\n",
      "|  3| sai|\n",
      "|  5|rani|\n",
      "+---+----+\n",
      "\n"
     ]
    }
   ],
   "source": [
    "cust = spark.read.option(\"header\", \"true\").format(\"csv\").load(\"file:///D:/Data Analytics applications/Eclipse Projects/data_files/cust.csv\")\n",
    "cust.show()"
   ]
  },
  {
   "cell_type": "code",
   "execution_count": 88,
   "id": "3cb5ef2a",
   "metadata": {},
   "outputs": [
    {
     "name": "stdout",
     "output_type": "stream",
     "text": [
      "+------+-------+\n",
      "|prodid|product|\n",
      "+------+-------+\n",
      "|     1|    raj|\n",
      "|     3| mobile|\n",
      "|     7| laptop|\n",
      "+------+-------+\n",
      "\n"
     ]
    }
   ],
   "source": [
    "prod = spark.read.option(\"header\", \"true\").format(\"csv\").load(\"file:///D:/Data Analytics applications/Eclipse Projects/data_files/prod.csv\").selectExpr(\"id as prodid\", \"product\")\n",
    "prod.show()"
   ]
  },
  {
   "cell_type": "code",
   "execution_count": 91,
   "id": "8ea200dc",
   "metadata": {},
   "outputs": [
    {
     "name": "stdout",
     "output_type": "stream",
     "text": [
      "+---+----+-------+\n",
      "| id|name|product|\n",
      "+---+----+-------+\n",
      "|  1| raj|    raj|\n",
      "|  3| sai| mobile|\n",
      "+---+----+-------+\n",
      "\n"
     ]
    }
   ],
   "source": [
    "innerjoin = cust.join(prod, prod.prodid == cust.id, \"inner\").drop(prod.prodid)\n",
    "innerjoin.show()"
   ]
  },
  {
   "cell_type": "code",
   "execution_count": 95,
   "id": "85e84df6",
   "metadata": {},
   "outputs": [
    {
     "name": "stdout",
     "output_type": "stream",
     "text": [
      "+---+----+\n",
      "| id|name|\n",
      "+---+----+\n",
      "|  2|ravi|\n",
      "|  5|rani|\n",
      "+---+----+\n",
      "\n"
     ]
    }
   ],
   "source": [
    "leftjoin = cust.join(prod, prod.prodid == cust.id, \"left_anti\").drop(prod.prodid)\n",
    "leftjoin.show()"
   ]
  },
  {
   "cell_type": "code",
   "execution_count": null,
   "id": "3d7814d9",
   "metadata": {},
   "outputs": [],
   "source": []
  },
  {
   "cell_type": "code",
   "execution_count": null,
   "id": "4f7681d1",
   "metadata": {},
   "outputs": [],
   "source": []
  },
  {
   "cell_type": "code",
   "execution_count": null,
   "id": "5308867f",
   "metadata": {},
   "outputs": [],
   "source": []
  },
  {
   "cell_type": "code",
   "execution_count": null,
   "id": "f1615cc9",
   "metadata": {},
   "outputs": [],
   "source": []
  },
  {
   "cell_type": "code",
   "execution_count": null,
   "id": "c400f419",
   "metadata": {},
   "outputs": [],
   "source": []
  },
  {
   "cell_type": "code",
   "execution_count": null,
   "id": "b7532711",
   "metadata": {},
   "outputs": [],
   "source": []
  },
  {
   "cell_type": "code",
   "execution_count": null,
   "id": "524daf82",
   "metadata": {},
   "outputs": [],
   "source": []
  },
  {
   "cell_type": "code",
   "execution_count": null,
   "id": "d7c7bff9",
   "metadata": {},
   "outputs": [],
   "source": []
  },
  {
   "cell_type": "code",
   "execution_count": null,
   "id": "841ad7bd",
   "metadata": {},
   "outputs": [],
   "source": []
  },
  {
   "cell_type": "code",
   "execution_count": null,
   "id": "9dd02edb",
   "metadata": {},
   "outputs": [],
   "source": []
  },
  {
   "cell_type": "code",
   "execution_count": null,
   "id": "127ead0f",
   "metadata": {},
   "outputs": [],
   "source": []
  },
  {
   "cell_type": "code",
   "execution_count": null,
   "id": "c4f7fa09",
   "metadata": {},
   "outputs": [],
   "source": []
  },
  {
   "cell_type": "code",
   "execution_count": null,
   "id": "b395fc5a",
   "metadata": {},
   "outputs": [],
   "source": []
  },
  {
   "cell_type": "code",
   "execution_count": null,
   "id": "585b8368",
   "metadata": {},
   "outputs": [],
   "source": []
  }
 ],
 "metadata": {
  "kernelspec": {
   "display_name": "Python 3 (ipykernel)",
   "language": "python",
   "name": "python3"
  },
  "language_info": {
   "codemirror_mode": {
    "name": "ipython",
    "version": 3
   },
   "file_extension": ".py",
   "mimetype": "text/x-python",
   "name": "python",
   "nbconvert_exporter": "python",
   "pygments_lexer": "ipython3",
   "version": "3.11.5"
  }
 },
 "nbformat": 4,
 "nbformat_minor": 5
}
