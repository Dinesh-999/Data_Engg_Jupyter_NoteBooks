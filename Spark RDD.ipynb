{
 "cells": [
  {
   "cell_type": "code",
   "execution_count": 1,
   "id": "89b06335",
   "metadata": {},
   "outputs": [
    {
     "name": "stdout",
     "output_type": "stream",
     "text": [
      "imported\n"
     ]
    }
   ],
   "source": [
    "import pyspark\n",
    "from pyspark.sql import SparkSession\n",
    "from pyspark import SparkConf, SparkContext\n",
    "from pyspark.sql.functions import col,struct,when, lit\n",
    "from pyspark.sql import Row\n",
    "\n",
    "print(\"imported\")\n",
    "\n",
    "# spark session\n",
    "spark = SparkSession.builder.master(\"local[1]\").appName('Rowschema').getOrCreate()"
   ]
  },
  {
   "cell_type": "code",
   "execution_count": 6,
   "id": "767be1f6",
   "metadata": {},
   "outputs": [
    {
     "name": "stdout",
     "output_type": "stream",
     "text": [
      "+---+---------+--------------------+-------+\n",
      "| id|institute|            location|trainer|\n",
      "+---+---------+--------------------+-------+\n",
      "|  1| zeyobron|{Hyderabad, chennai}|    sai|\n",
      "+---+---------+--------------------+-------+\n",
      "\n",
      "root\n",
      " |-- id: long (nullable = true)\n",
      " |-- institute: string (nullable = true)\n",
      " |-- location: struct (nullable = true)\n",
      " |    |-- permanentLocation: string (nullable = true)\n",
      " |    |-- temporaryLocation: string (nullable = true)\n",
      " |-- trainer: string (nullable = true)\n",
      "\n"
     ]
    }
   ],
   "source": [
    "jsondata = spark.read.format(\"json\").option(\"multiline\", \"true\").load(\"file:///D:/Data Analytics applications/Eclipse Projects/data_files/jl.json\")\n",
    "\n",
    "jsondata.show()\n",
    "jsondata.printSchema()"
   ]
  },
  {
   "cell_type": "code",
   "execution_count": 7,
   "id": "667c4f3e",
   "metadata": {},
   "outputs": [
    {
     "name": "stdout",
     "output_type": "stream",
     "text": [
      "+---+---------+-----------------+-----------------+-------+\n",
      "| id|institute|permanentLocation|temporaryLocation|trainer|\n",
      "+---+---------+-----------------+-----------------+-------+\n",
      "|  1| zeyobron|        Hyderabad|          chennai|    sai|\n",
      "+---+---------+-----------------+-----------------+-------+\n",
      "\n",
      "root\n",
      " |-- id: long (nullable = true)\n",
      " |-- institute: string (nullable = true)\n",
      " |-- permanentLocation: string (nullable = true)\n",
      " |-- temporaryLocation: string (nullable = true)\n",
      " |-- trainer: string (nullable = true)\n",
      "\n"
     ]
    }
   ],
   "source": [
    "destruct = jsondata.select(\"id\", \"institute\", \"location.permanentLocation\", \"location.temporaryLocation\" , \"trainer\")\n",
    "\n",
    "destruct.show()\n",
    "destruct.printSchema()"
   ]
  },
  {
   "cell_type": "code",
   "execution_count": 8,
   "id": "b7190c70",
   "metadata": {},
   "outputs": [
    {
     "name": "stdout",
     "output_type": "stream",
     "text": [
      "+---+---------+-------+--------------------+\n",
      "| id|institute|trainer|               users|\n",
      "+---+---------+-------+--------------------+\n",
      "|  1| zeyobron|    sai|{{vasu, liyan, tej}}|\n",
      "+---+---------+-------+--------------------+\n",
      "\n",
      "root\n",
      " |-- id: long (nullable = true)\n",
      " |-- institute: string (nullable = true)\n",
      " |-- trainer: string (nullable = true)\n",
      " |-- users: struct (nullable = true)\n",
      " |    |-- user: struct (nullable = true)\n",
      " |    |    |-- first: string (nullable = true)\n",
      " |    |    |-- last: string (nullable = true)\n",
      " |    |    |-- middle: string (nullable = true)\n",
      "\n"
     ]
    }
   ],
   "source": [
    "jl1 = spark.read.format(\"json\").option(\"multiline\", \"true\").load(\"file:///D:/Data Analytics applications/Eclipse Projects/data_files/jl1.json\")\n",
    "\n",
    "jl1.show()\n",
    "jl1.printSchema()"
   ]
  },
  {
   "cell_type": "code",
   "execution_count": 9,
   "id": "09644b06",
   "metadata": {},
   "outputs": [
    {
     "name": "stdout",
     "output_type": "stream",
     "text": [
      "+---+---------+-----+-----+------+-------+\n",
      "| id|institute|first| last|middle|trainer|\n",
      "+---+---------+-----+-----+------+-------+\n",
      "|  1| zeyobron| vasu|liyan|   tej|    sai|\n",
      "+---+---------+-----+-----+------+-------+\n",
      "\n",
      "root\n",
      " |-- id: long (nullable = true)\n",
      " |-- institute: string (nullable = true)\n",
      " |-- first: string (nullable = true)\n",
      " |-- last: string (nullable = true)\n",
      " |-- middle: string (nullable = true)\n",
      " |-- trainer: string (nullable = true)\n",
      "\n"
     ]
    }
   ],
   "source": [
    "jldestruct = jl1.select(\"id\", \"institute\", \"users.user.*\", \"trainer\")\n",
    "\n",
    "jldestruct.show()\n",
    "jldestruct.printSchema()"
   ]
  },
  {
   "cell_type": "code",
   "execution_count": 10,
   "id": "df3926e1",
   "metadata": {},
   "outputs": [
    {
     "name": "stdout",
     "output_type": "stream",
     "text": [
      "+--------------------+---+---------+\n",
      "|            Students| id|institute|\n",
      "+--------------------+---+---------+\n",
      "|[Rajesh, Monika, ...|  1| zeyobron|\n",
      "+--------------------+---+---------+\n",
      "\n",
      "root\n",
      " |-- Students: array (nullable = true)\n",
      " |    |-- element: string (containsNull = true)\n",
      " |-- id: long (nullable = true)\n",
      " |-- institute: string (nullable = true)\n",
      "\n"
     ]
    }
   ],
   "source": [
    "jln = spark.read.format(\"json\").option(\"multiline\", \"true\").load(\"file:///D:/Data Analytics applications/Eclipse Projects/data_files/jln.json\")\n",
    "\n",
    "jln.show()\n",
    "jln.printSchema()"
   ]
  },
  {
   "cell_type": "code",
   "execution_count": 11,
   "id": "5927dd8e",
   "metadata": {},
   "outputs": [
    {
     "name": "stdout",
     "output_type": "stream",
     "text": [
      "+--------+---+---------+\n",
      "|Students| id|institute|\n",
      "+--------+---+---------+\n",
      "|  Rajesh|  1| zeyobron|\n",
      "|  Monika|  1| zeyobron|\n",
      "|    Ravi|  1| zeyobron|\n",
      "+--------+---+---------+\n",
      "\n",
      "root\n",
      " |-- Students: string (nullable = true)\n",
      " |-- id: long (nullable = true)\n",
      " |-- institute: string (nullable = true)\n",
      "\n"
     ]
    }
   ],
   "source": [
    "from pyspark.sql.functions import *\n",
    "explodedata = jln.withColumn(\"Students\", explode(\"Students\"))\n",
    "explodedata.show()\n",
    "explodedata.printSchema()"
   ]
  },
  {
   "cell_type": "code",
   "execution_count": 12,
   "id": "f63bfa2e",
   "metadata": {},
   "outputs": [
    {
     "name": "stdout",
     "output_type": "stream",
     "text": [
      "+--------------------+---+---------+\n",
      "|            Students| id|institute|\n",
      "+--------------------+---+---------+\n",
      "|[{{46, rajesh}}, ...|  1| zeyobron|\n",
      "+--------------------+---+---------+\n",
      "\n",
      "root\n",
      " |-- Students: array (nullable = true)\n",
      " |    |-- element: struct (containsNull = true)\n",
      " |    |    |-- user: struct (nullable = true)\n",
      " |    |    |    |-- age: string (nullable = true)\n",
      " |    |    |    |-- name: string (nullable = true)\n",
      " |-- id: long (nullable = true)\n",
      " |-- institute: string (nullable = true)\n",
      "\n"
     ]
    }
   ],
   "source": [
    "jkn = spark.read.format(\"json\").option(\"multiline\", \"true\").load(\"file:///D:/Data Analytics applications/Eclipse Projects/data_files/jkn.json\")\n",
    "\n",
    "jkn.show()\n",
    "jkn.printSchema()"
   ]
  },
  {
   "cell_type": "code",
   "execution_count": 15,
   "id": "76b7530a",
   "metadata": {},
   "outputs": [
    {
     "name": "stdout",
     "output_type": "stream",
     "text": [
      "+---+---------+---+------+\n",
      "| id|institute|age|  name|\n",
      "+---+---------+---+------+\n",
      "|  1| zeyobron| 46|rajesh|\n",
      "|  1| zeyobron| 24|  mani|\n",
      "+---+---------+---+------+\n",
      "\n",
      "root\n",
      " |-- id: long (nullable = true)\n",
      " |-- institute: string (nullable = true)\n",
      " |-- age: string (nullable = true)\n",
      " |-- name: string (nullable = true)\n",
      "\n"
     ]
    }
   ],
   "source": [
    "jknexplodedata = jkn.withColumn(\"Students\", explode(\"Students\")).select(\"id\", \"institute\", \"Students.user.*\" )\n",
    "jknexplodedata.show()\n",
    "jknexplodedata.printSchema()"
   ]
  },
  {
   "cell_type": "code",
   "execution_count": 16,
   "id": "0c46756c",
   "metadata": {},
   "outputs": [
    {
     "name": "stdout",
     "output_type": "stream",
     "text": [
      "+---+----------------------------+\n",
      "| id|struct(institute, age, name)|\n",
      "+---+----------------------------+\n",
      "|  1|        {zeyobron, 46, ra...|\n",
      "|  1|        {zeyobron, 24, mani}|\n",
      "+---+----------------------------+\n",
      "\n",
      "root\n",
      " |-- id: long (nullable = true)\n",
      " |-- struct(institute, age, name): struct (nullable = false)\n",
      " |    |-- institute: string (nullable = true)\n",
      " |    |-- age: string (nullable = true)\n",
      " |    |-- name: string (nullable = true)\n",
      "\n"
     ]
    }
   ],
   "source": [
    "structgen = jknexplodedata.select(\"id\", struct(\"institute\", \"age\", \"name\"))\n",
    "structgen.show()\n",
    "structgen.printSchema()"
   ]
  },
  {
   "cell_type": "code",
   "execution_count": 36,
   "id": "7409dfb1",
   "metadata": {},
   "outputs": [
    {
     "name": "stdout",
     "output_type": "stream",
     "text": [
      "{\n",
      "    \"results\": [\n",
      "        {\n",
      "            \"user\": {\n",
      "                \"gender\": \"male\",\n",
      "                \"name\": {\n",
      "                    \"title\": \"monsieur\",\n",
      "                    \"first\": \"tristan\",\n",
      "                    \"last\": \"brun\"\n",
      "                },\n",
      "                \"location\": {\n",
      "                    \"street\": \"1583 rue pasteur\",\n",
      "                    \"city\": \"echichens\",\n",
      "                    \"state\": \"obwalden\",\n",
      "                    \"zip\": 4374\n",
      "                },\n",
      "                \"email\": \"tristan.brun@example.com\",\n",
      "                \"username\": \"orangemeercat531\",\n",
      "                \"password\": \"america\",\n",
      "                \"salt\": \"xxTV3ueD\",\n",
      "                \"md5\": \"d11ff867ca87aef568aeea9774ea011f\",\n",
      "                \"sha1\": \"6febf173d5e5656ebc8f5f26db37a77a9b51a016\",\n",
      "                \"sha256\": \"ba5027fa20c29f8d5cda0a327c2433a81208ceb21fc903aee10e6a9197dfe549\",\n",
      "                \"registered\": 935043702,\n",
      "                \"dob\": 1029121072,\n",
      "                \"phone\": \"(846)-579-4121\",\n",
      "                \"cell\": \"(340)-273-3904\",\n",
      "                \"AVS\": \"756.ATYG.IVSM.61\",\n",
      "                \"picture\": {\n",
      "                    \"large\": \"https://randomuser.me/api/portraits/men/10.jpg\",\n",
      "                    \"medium\": \"https://randomuser.me/api/portraits/med/men/10.jpg\",\n",
      "                    \"thumbnail\": \"https://randomuser.me/api/portraits/thumb/men/10.jpg\"\n",
      "                }\n",
      "            }\n",
      "        }\n",
      "    ],\n",
      "    \"nationality\": \"CH\",\n",
      "    \"seed\": \"9dfb5a07b84d3c6c03\",\n",
      "    \"version\": \"0.8\"\n",
      "}\n"
     ]
    }
   ],
   "source": [
    "import urllib.request\n",
    "import ssl\n",
    "context = ssl.create_default_context()\n",
    "context.check_hostname = False\n",
    "context.verify_mode = ssl.CERT_NONE\n",
    "url = \"https://randomuser.me/api/0.8/?results=1\"\n",
    "response = urllib.request.urlopen(url, context=context).read().decode('utf-8')\n",
    "urlstring = response\n",
    "print(urlstring)"
   ]
  },
  {
   "cell_type": "code",
   "execution_count": 35,
   "id": "5f65761e",
   "metadata": {
    "collapsed": true
   },
   "outputs": [
    {
     "ename": "Py4JJavaError",
     "evalue": "An error occurred while calling o225.json.\n: java.lang.UnsupportedOperationException\r\n\tat org.apache.hadoop.fs.http.AbstractHttpFileSystem.listStatus(AbstractHttpFileSystem.java:95)\r\n\tat org.apache.hadoop.fs.http.HttpsFileSystem.listStatus(HttpsFileSystem.java:23)\r\n\tat org.apache.hadoop.fs.Globber.listStatus(Globber.java:128)\r\n\tat org.apache.hadoop.fs.Globber.doGlob(Globber.java:291)\r\n\tat org.apache.hadoop.fs.Globber.glob(Globber.java:202)\r\n\tat org.apache.hadoop.fs.FileSystem.globStatus(FileSystem.java:2124)\r\n\tat org.apache.spark.deploy.SparkHadoopUtil.globPath(SparkHadoopUtil.scala:254)\r\n\tat org.apache.spark.sql.execution.datasources.DataSource$.$anonfun$checkAndGlobPathIfNecessary$3(DataSource.scala:737)\r\n\tat org.apache.spark.util.ThreadUtils$.$anonfun$parmap$2(ThreadUtils.scala:393)\r\n\tat scala.concurrent.Future$.$anonfun$apply$1(Future.scala:659)\r\n\tat scala.util.Success.$anonfun$map$1(Try.scala:255)\r\n\tat scala.util.Success.map(Try.scala:213)\r\n\tat scala.concurrent.Future.$anonfun$map$1(Future.scala:292)\r\n\tat scala.concurrent.impl.Promise.liftedTree1$1(Promise.scala:33)\r\n\tat scala.concurrent.impl.Promise.$anonfun$transform$1(Promise.scala:33)\r\n\tat scala.concurrent.impl.CallbackRunnable.run(Promise.scala:64)\r\n\tat java.util.concurrent.ForkJoinTask$RunnableExecuteAction.exec(ForkJoinTask.java:1402)\r\n\tat java.util.concurrent.ForkJoinTask.doExec(ForkJoinTask.java:289)\r\n\tat java.util.concurrent.ForkJoinPool$WorkQueue.runTask(ForkJoinPool.java:1056)\r\n\tat java.util.concurrent.ForkJoinPool.runWorker(ForkJoinPool.java:1692)\r\n\tat java.util.concurrent.ForkJoinWorkerThread.run(ForkJoinWorkerThread.java:157)\r\n",
     "output_type": "error",
     "traceback": [
      "\u001b[1;31m---------------------------------------------------------------------------\u001b[0m",
      "\u001b[1;31mPy4JJavaError\u001b[0m                             Traceback (most recent call last)",
      "Cell \u001b[1;32mIn[35], line 7\u001b[0m\n\u001b[0;32m      4\u001b[0m sc\u001b[38;5;241m.\u001b[39msetLogLevel(\u001b[38;5;124m\"\u001b[39m\u001b[38;5;124mERROR\u001b[39m\u001b[38;5;124m\"\u001b[39m)\n\u001b[0;32m      6\u001b[0m rdd \u001b[38;5;241m=\u001b[39m sc\u001b[38;5;241m.\u001b[39mparallelize([urlstring])\n\u001b[1;32m----> 7\u001b[0m df \u001b[38;5;241m=\u001b[39m spark\u001b[38;5;241m.\u001b[39mread\u001b[38;5;241m.\u001b[39mjson(\u001b[38;5;124m\"\u001b[39m\u001b[38;5;124mhttps://randomuser.me/api/0.8/?results=1\u001b[39m\u001b[38;5;124m\"\u001b[39m)\n\u001b[0;32m      8\u001b[0m df\u001b[38;5;241m.\u001b[39mshow()\n",
      "File \u001b[1;32m~\\anaconda3\\Lib\\site-packages\\pyspark\\sql\\readwriter.py:418\u001b[0m, in \u001b[0;36mDataFrameReader.json\u001b[1;34m(self, path, schema, primitivesAsString, prefersDecimal, allowComments, allowUnquotedFieldNames, allowSingleQuotes, allowNumericLeadingZero, allowBackslashEscapingAnyCharacter, mode, columnNameOfCorruptRecord, dateFormat, timestampFormat, multiLine, allowUnquotedControlChars, lineSep, samplingRatio, dropFieldIfAllNull, encoding, locale, pathGlobFilter, recursiveFileLookup, modifiedBefore, modifiedAfter, allowNonNumericNumbers)\u001b[0m\n\u001b[0;32m    416\u001b[0m \u001b[38;5;28;01mif\u001b[39;00m \u001b[38;5;28mtype\u001b[39m(path) \u001b[38;5;241m==\u001b[39m \u001b[38;5;28mlist\u001b[39m:\n\u001b[0;32m    417\u001b[0m     \u001b[38;5;28;01massert\u001b[39;00m \u001b[38;5;28mself\u001b[39m\u001b[38;5;241m.\u001b[39m_spark\u001b[38;5;241m.\u001b[39m_sc\u001b[38;5;241m.\u001b[39m_jvm \u001b[38;5;129;01mis\u001b[39;00m \u001b[38;5;129;01mnot\u001b[39;00m \u001b[38;5;28;01mNone\u001b[39;00m\n\u001b[1;32m--> 418\u001b[0m     \u001b[38;5;28;01mreturn\u001b[39;00m \u001b[38;5;28mself\u001b[39m\u001b[38;5;241m.\u001b[39m_df(\u001b[38;5;28mself\u001b[39m\u001b[38;5;241m.\u001b[39m_jreader\u001b[38;5;241m.\u001b[39mjson(\u001b[38;5;28mself\u001b[39m\u001b[38;5;241m.\u001b[39m_spark\u001b[38;5;241m.\u001b[39m_sc\u001b[38;5;241m.\u001b[39m_jvm\u001b[38;5;241m.\u001b[39mPythonUtils\u001b[38;5;241m.\u001b[39mtoSeq(path)))\n\u001b[0;32m    419\u001b[0m \u001b[38;5;28;01melif\u001b[39;00m \u001b[38;5;28misinstance\u001b[39m(path, RDD):\n\u001b[0;32m    421\u001b[0m     \u001b[38;5;28;01mdef\u001b[39;00m \u001b[38;5;21mfunc\u001b[39m(iterator: Iterable) \u001b[38;5;241m-\u001b[39m\u001b[38;5;241m>\u001b[39m Iterable:\n",
      "File \u001b[1;32m~\\anaconda3\\Lib\\site-packages\\py4j\\java_gateway.py:1322\u001b[0m, in \u001b[0;36mJavaMember.__call__\u001b[1;34m(self, *args)\u001b[0m\n\u001b[0;32m   1316\u001b[0m command \u001b[38;5;241m=\u001b[39m proto\u001b[38;5;241m.\u001b[39mCALL_COMMAND_NAME \u001b[38;5;241m+\u001b[39m\\\n\u001b[0;32m   1317\u001b[0m     \u001b[38;5;28mself\u001b[39m\u001b[38;5;241m.\u001b[39mcommand_header \u001b[38;5;241m+\u001b[39m\\\n\u001b[0;32m   1318\u001b[0m     args_command \u001b[38;5;241m+\u001b[39m\\\n\u001b[0;32m   1319\u001b[0m     proto\u001b[38;5;241m.\u001b[39mEND_COMMAND_PART\n\u001b[0;32m   1321\u001b[0m answer \u001b[38;5;241m=\u001b[39m \u001b[38;5;28mself\u001b[39m\u001b[38;5;241m.\u001b[39mgateway_client\u001b[38;5;241m.\u001b[39msend_command(command)\n\u001b[1;32m-> 1322\u001b[0m return_value \u001b[38;5;241m=\u001b[39m get_return_value(\n\u001b[0;32m   1323\u001b[0m     answer, \u001b[38;5;28mself\u001b[39m\u001b[38;5;241m.\u001b[39mgateway_client, \u001b[38;5;28mself\u001b[39m\u001b[38;5;241m.\u001b[39mtarget_id, \u001b[38;5;28mself\u001b[39m\u001b[38;5;241m.\u001b[39mname)\n\u001b[0;32m   1325\u001b[0m \u001b[38;5;28;01mfor\u001b[39;00m temp_arg \u001b[38;5;129;01min\u001b[39;00m temp_args:\n\u001b[0;32m   1326\u001b[0m     \u001b[38;5;28;01mif\u001b[39;00m \u001b[38;5;28mhasattr\u001b[39m(temp_arg, \u001b[38;5;124m\"\u001b[39m\u001b[38;5;124m_detach\u001b[39m\u001b[38;5;124m\"\u001b[39m):\n",
      "File \u001b[1;32m~\\anaconda3\\Lib\\site-packages\\pyspark\\errors\\exceptions\\captured.py:169\u001b[0m, in \u001b[0;36mcapture_sql_exception.<locals>.deco\u001b[1;34m(*a, **kw)\u001b[0m\n\u001b[0;32m    167\u001b[0m \u001b[38;5;28;01mdef\u001b[39;00m \u001b[38;5;21mdeco\u001b[39m(\u001b[38;5;241m*\u001b[39ma: Any, \u001b[38;5;241m*\u001b[39m\u001b[38;5;241m*\u001b[39mkw: Any) \u001b[38;5;241m-\u001b[39m\u001b[38;5;241m>\u001b[39m Any:\n\u001b[0;32m    168\u001b[0m     \u001b[38;5;28;01mtry\u001b[39;00m:\n\u001b[1;32m--> 169\u001b[0m         \u001b[38;5;28;01mreturn\u001b[39;00m f(\u001b[38;5;241m*\u001b[39ma, \u001b[38;5;241m*\u001b[39m\u001b[38;5;241m*\u001b[39mkw)\n\u001b[0;32m    170\u001b[0m     \u001b[38;5;28;01mexcept\u001b[39;00m Py4JJavaError \u001b[38;5;28;01mas\u001b[39;00m e:\n\u001b[0;32m    171\u001b[0m         converted \u001b[38;5;241m=\u001b[39m convert_exception(e\u001b[38;5;241m.\u001b[39mjava_exception)\n",
      "File \u001b[1;32m~\\anaconda3\\Lib\\site-packages\\py4j\\protocol.py:326\u001b[0m, in \u001b[0;36mget_return_value\u001b[1;34m(answer, gateway_client, target_id, name)\u001b[0m\n\u001b[0;32m    324\u001b[0m value \u001b[38;5;241m=\u001b[39m OUTPUT_CONVERTER[\u001b[38;5;28mtype\u001b[39m](answer[\u001b[38;5;241m2\u001b[39m:], gateway_client)\n\u001b[0;32m    325\u001b[0m \u001b[38;5;28;01mif\u001b[39;00m answer[\u001b[38;5;241m1\u001b[39m] \u001b[38;5;241m==\u001b[39m REFERENCE_TYPE:\n\u001b[1;32m--> 326\u001b[0m     \u001b[38;5;28;01mraise\u001b[39;00m Py4JJavaError(\n\u001b[0;32m    327\u001b[0m         \u001b[38;5;124m\"\u001b[39m\u001b[38;5;124mAn error occurred while calling \u001b[39m\u001b[38;5;132;01m{0}\u001b[39;00m\u001b[38;5;132;01m{1}\u001b[39;00m\u001b[38;5;132;01m{2}\u001b[39;00m\u001b[38;5;124m.\u001b[39m\u001b[38;5;130;01m\\n\u001b[39;00m\u001b[38;5;124m\"\u001b[39m\u001b[38;5;241m.\u001b[39m\n\u001b[0;32m    328\u001b[0m         \u001b[38;5;28mformat\u001b[39m(target_id, \u001b[38;5;124m\"\u001b[39m\u001b[38;5;124m.\u001b[39m\u001b[38;5;124m\"\u001b[39m, name), value)\n\u001b[0;32m    329\u001b[0m \u001b[38;5;28;01melse\u001b[39;00m:\n\u001b[0;32m    330\u001b[0m     \u001b[38;5;28;01mraise\u001b[39;00m Py4JError(\n\u001b[0;32m    331\u001b[0m         \u001b[38;5;124m\"\u001b[39m\u001b[38;5;124mAn error occurred while calling \u001b[39m\u001b[38;5;132;01m{0}\u001b[39;00m\u001b[38;5;132;01m{1}\u001b[39;00m\u001b[38;5;132;01m{2}\u001b[39;00m\u001b[38;5;124m. Trace:\u001b[39m\u001b[38;5;130;01m\\n\u001b[39;00m\u001b[38;5;132;01m{3}\u001b[39;00m\u001b[38;5;130;01m\\n\u001b[39;00m\u001b[38;5;124m\"\u001b[39m\u001b[38;5;241m.\u001b[39m\n\u001b[0;32m    332\u001b[0m         \u001b[38;5;28mformat\u001b[39m(target_id, \u001b[38;5;124m\"\u001b[39m\u001b[38;5;124m.\u001b[39m\u001b[38;5;124m\"\u001b[39m, name, value))\n",
      "\u001b[1;31mPy4JJavaError\u001b[0m: An error occurred while calling o225.json.\n: java.lang.UnsupportedOperationException\r\n\tat org.apache.hadoop.fs.http.AbstractHttpFileSystem.listStatus(AbstractHttpFileSystem.java:95)\r\n\tat org.apache.hadoop.fs.http.HttpsFileSystem.listStatus(HttpsFileSystem.java:23)\r\n\tat org.apache.hadoop.fs.Globber.listStatus(Globber.java:128)\r\n\tat org.apache.hadoop.fs.Globber.doGlob(Globber.java:291)\r\n\tat org.apache.hadoop.fs.Globber.glob(Globber.java:202)\r\n\tat org.apache.hadoop.fs.FileSystem.globStatus(FileSystem.java:2124)\r\n\tat org.apache.spark.deploy.SparkHadoopUtil.globPath(SparkHadoopUtil.scala:254)\r\n\tat org.apache.spark.sql.execution.datasources.DataSource$.$anonfun$checkAndGlobPathIfNecessary$3(DataSource.scala:737)\r\n\tat org.apache.spark.util.ThreadUtils$.$anonfun$parmap$2(ThreadUtils.scala:393)\r\n\tat scala.concurrent.Future$.$anonfun$apply$1(Future.scala:659)\r\n\tat scala.util.Success.$anonfun$map$1(Try.scala:255)\r\n\tat scala.util.Success.map(Try.scala:213)\r\n\tat scala.concurrent.Future.$anonfun$map$1(Future.scala:292)\r\n\tat scala.concurrent.impl.Promise.liftedTree1$1(Promise.scala:33)\r\n\tat scala.concurrent.impl.Promise.$anonfun$transform$1(Promise.scala:33)\r\n\tat scala.concurrent.impl.CallbackRunnable.run(Promise.scala:64)\r\n\tat java.util.concurrent.ForkJoinTask$RunnableExecuteAction.exec(ForkJoinTask.java:1402)\r\n\tat java.util.concurrent.ForkJoinTask.doExec(ForkJoinTask.java:289)\r\n\tat java.util.concurrent.ForkJoinPool$WorkQueue.runTask(ForkJoinPool.java:1056)\r\n\tat java.util.concurrent.ForkJoinPool.runWorker(ForkJoinPool.java:1692)\r\n\tat java.util.concurrent.ForkJoinWorkerThread.run(ForkJoinWorkerThread.java:157)\r\n"
     ]
    }
   ],
   "source": [
    "# spark context\n",
    "conf = SparkConf().setAppName(\"Spark\").setMaster(\"local[*]\")\n",
    "sc = SparkContext.getOrCreate(conf = conf)\n",
    "sc.setLogLevel(\"ERROR\")\n",
    "\n",
    "rdd = sc.parallelize([urlstring])\n",
    "df = spark.read.json(\"https://randomuser.me/api/0.8/?results=1\")\n",
    "df.show()"
   ]
  },
  {
   "cell_type": "code",
   "execution_count": 38,
   "id": "d4a78fb3",
   "metadata": {
    "collapsed": true
   },
   "outputs": [
    {
     "ename": "IllegalArgumentException",
     "evalue": "java.net.URISyntaxException: Relative path in absolute URI: {\n    \"results\":%20%5B%0A%20%20%20%20%20%20%20%20%7B%0A%20%20%20%20%20%20%20%20%20%20%20%20%22user%22:%20%7B%0A%20%20%20%20%20%20%20%20%20%20%20%20%20%20%20%20%22gender%22:%20%22male%22,%0A%20%20%20%20%20%20%20%20%20%20%20%20%20%20%20%20%22name%22:%20%7B%0A%20%20%20%20%20%20%20%20%20%20%20%20%20%20%20%20%20%20%20%20%22title%22:%20%22mr%22,%0A%20%20%20%20%20%20%20%20%20%20%20%20%20%20%20%20%20%20%20%20%22first%22:%20%22antonio%22,%0A%20%20%20%20%20%20%20%20%20%20%20%20%20%20%20%20%20%20%20%20%22last%22:%20%22cortes%22%0A%20%20%20%20%20%20%20%20%20%20%20%20%20%20%20%20%7D,%0A%20%20%20%20%20%20%20%20%20%20%20%20%20%20%20%20%22location%22:%20%7B%0A%20%20%20%20%20%20%20%20%20%20%20%20%20%20%20%20%20%20%20%20%22street%22:%20%226744%20avenida%20de%20castilla%22,%0A%20%20%20%20%20%20%20%20%20%20%20%20%20%20%20%20%20%20%20%20%22city%22:%20%22pamplona%22,%0A%20%20%20%20%20%20%20%20%20%20%20%20%20%20%20%20%20%20%20%20%22state%22:%20%22la%20rioja%22,%0A%20%20%20%20%20%20%20%20%20%20%20%20%20%20%20%20%20%20%20%20%22zip%22:%2064880%0A%20%20%20%20%20%20%20%20%20%20%20%20%20%20%20%20%7D,%0A%20%20%20%20%20%20%20%20%20%20%20%20%20%20%20%20%22email%22:%20%22antonio.cortes@example.com%22,%0A%20%20%20%20%20%20%20%20%20%20%20%20%20%20%20%20%22username%22:%20%22redcat917%22,%0A%20%20%20%20%20%20%20%20%20%20%20%20%20%20%20%20%22password%22:%20%22ministry%22,%0A%20%20%20%20%20%20%20%20%20%20%20%20%20%20%20%20%22salt%22:%20%22zrBkXOnO%22,%0A%20%20%20%20%20%20%20%20%20%20%20%20%20%20%20%20%22md5%22:%20%221a3e5295d7ac385c99f680d090922f73%22,%0A%20%20%20%20%20%20%20%20%20%20%20%20%20%20%20%20%22sha1%22:%20%22186044677177b7bc748984a1a329b62f92ad703f%22,%0A%20%20%20%20%20%20%20%20%20%20%20%20%20%20%20%20%22sha256%22:%20%222c529c875792d556d6f9c8bae64d5fe093ad6a26677b780d2145bd447a52271d%22,%0A%20%20%20%20%20%20%20%20%20%20%20%20%20%20%20%20%22registered%22:%201088469810,%0A%20%20%20%20%20%20%20%20%20%20%20%20%20%20%20%20%22dob%22:%20924214030,%0A%20%20%20%20%20%20%20%20%20%20%20%20%20%20%20%20%22phone%22:%20%22954-122-756%22,%0A%20%20%20%20%20%20%20%20%20%20%20%20%20%20%20%20%22cell%22:%20%22667-366-623%22,%0A%20%20%20%20%20%20%20%20%20%20%20%20%20%20%20%20%22DNI%22:%20%2280312403-H%22,%0A%20%20%20%20%20%20%20%20%20%20%20%20%20%20%20%20%22picture%22:%20%7B%0A%20%20%20%20%20%20%20%20%20%20%20%20%20%20%20%20%20%20%20%20%22large%22:%20%22https:/randomuser.me/api/portraits/men/33.jpg%22,%0A%20%20%20%20%20%20%20%20%20%20%20%20%20%20%20%20%20%20%20%20%22medium%22:%20%22https:/randomuser.me/api/portraits/med/men/33.jpg%22,%0A%20%20%20%20%20%20%20%20%20%20%20%20%20%20%20%20%20%20%20%20%22thumbnail%22:%20%22https:/randomuser.me/api/portraits/thumb/men/33.jpg%22%0A%20%20%20%20%20%20%20%20%20%20%20%20%20%20%20%20%7D%0A%20%20%20%20%20%20%20%20%20%20%20%20%7D%0A%20%20%20%20%20%20%20%20%7D,%0A%20%20%20%20%20%20%20%20%7B%0A%20%20%20%20%20%20%20%20%20%20%20%20%22user%22:%20%7B%0A%20%20%20%20%20%20%20%20%20%20%20%20%20%20%20%20%22gender%22:%20%22male%22,%0A%20%20%20%20%20%20%20%20%20%20%20%20%20%20%20%20%22name%22:%20%7B%0A%20%20%20%20%20%20%20%20%20%20%20%20%20%20%20%20%20%20%20%20%22title%22:%20%22mr%22,%0A%20%20%20%20%20%20%20%20%20%20%20%20%20%20%20%20%20%20%20%20%22first%22:%20%22alex%22,%0A%20%20%20%20%20%20%20%20%20%20%20%20%20%20%20%20%20%20%20%20%22last%22:%20%22rodriguez%22%0A%20%20%20%20%20%20%20%20%20%20%20%20%20%20%20%20%7D,%0A%20%20%20%20%20%20%20%20%20%20%20%20%20%20%20%20%22location%22:%20%7B%0A%20%20%20%20%20%20%20%20%20%20%20%20%20%20%20%20%20%20%20%20%22street%22:%20%223895%20avenida%20de%20castilla%22,%0A%20%20%20%20%20%20%20%20%20%20%20%20%20%20%20%20%20%20%20%20%22city%22:%20%22orense%22,%0A%20%20%20%20%20%20%20%20%20%20%20%20%20%20%20%20%20%20%20%20%22state%22:%20%22cantabria%22,%0A%20%20%20%20%20%20%20%20%20%20%20%20%20%20%20%20%20%20%20%20%22zip%22:%2058131%0A%20%20%20%20%20%20%20%20%20%20%20%20%20%20%20%20%7D,%0A%20%20%20%20%20%20%20%20%20%20%20%20%20%20%20%20%22email%22:%20%22alex.rodriguez@example.com%22,%0A%20%20%20%20%20%20%20%20%20%20%20%20%20%20%20%20%22username%22:%20%22blackmouse629%22,%0A%20%20%20%20%20%20%20%20%20%20%20%20%20%20%20%20%22password%22:%20%22dirt%22,%0A%20%20%20%20%20%20%20%20%20%20%20%20%20%20%20%20%22salt%22:%20%22h3z2ZiFE%22,%0A%20%20%20%20%20%20%20%20%20%20%20%20%20%20%20%20%22md5%22:%20%2231ae26d38f5ad6fdd24bf367662454ed%22,%0A%20%20%20%20%20%20%20%20%20%20%20%20%20%20%20%20%22sha1%22:%20%22e01b1a0652c4611e53a951efd70ac284f538d780%22,%0A%20%20%20%20%20%20%20%20%20%20%20%20%20%20%20%20%22sha256%22:%20%2200390ba9e07843758391a78a4bf1cb57cbc67d87946ae4ee679cb9b9c07ed736%22,%0A%20%20%20%20%20%20%20%20%20%20%20%20%20%20%20%20%22registered%22:%201394072405,%0A%20%20%20%20%20%20%20%20%20%20%20%20%20%20%20%20%22dob%22:%20855364091,%0A%20%20%20%20%20%20%20%20%20%20%20%20%20%20%20%20%22phone%22:%20%22920-559-336%22,%0A%20%20%20%20%20%20%20%20%20%20%20%20%20%20%20%20%22cell%22:%20%22688-846-879%22,%0A%20%20%20%20%20%20%20%20%20%20%20%20%20%20%20%20%22DNI%22:%20%2215682886-R%22,%0A%20%20%20%20%20%20%20%20%20%20%20%20%20%20%20%20%22picture%22:%20%7B%0A%20%20%20%20%20%20%20%20%20%20%20%20%20%20%20%20%20%20%20%20%22large%22:%20%22https:/randomuser.me/api/portraits/men/21.jpg%22,%0A%20%20%20%20%20%20%20%20%20%20%20%20%20%20%20%20%20%20%20%20%22medium%22:%20%22https:/randomuser.me/api/portraits/med/men/21.jpg%22,%0A%20%20%20%20%20%20%20%20%20%20%20%20%20%20%20%20%20%20%20%20%22thumbnail%22:%20%22https:/randomuser.me/api/portraits/thumb/men/21.jpg%22%0A%20%20%20%20%20%20%20%20%20%20%20%20%20%20%20%20%7D%0A%20%20%20%20%20%20%20%20%20%20%20%20%7D%0A%20%20%20%20%20%20%20%20%7D,%0A%20%20%20%20%20%20%20%20%7B%0A%20%20%20%20%20%20%20%20%20%20%20%20%22user%22:%20%7B%0A%20%20%20%20%20%20%20%20%20%20%20%20%20%20%20%20%22gender%22:%20%22male%22,%0A%20%20%20%20%20%20%20%20%20%20%20%20%20%20%20%20%22name%22:%20%7B%0A%20%20%20%20%20%20%20%20%20%20%20%20%20%20%20%20%20%20%20%20%22title%22:%20%22mr%22,%0A%20%20%20%20%20%20%20%20%20%20%20%20%20%20%20%20%20%20%20%20%22first%22:%20%22isaac%22,%0A%20%20%20%20%20%20%20%20%20%20%20%20%20%20%20%20%20%20%20%20%22last%22:%20%22esteban%22%0A%20%20%20%20%20%20%20%20%20%20%20%20%20%20%20%20%7D,%0A%20%20%20%20%20%20%20%20%20%20%20%20%20%20%20%20%22location%22:%20%7B%0A%20%20%20%20%20%20%20%20%20%20%20%20%20%20%20%20%20%20%20%20%22street%22:%20%222269%20calle%20de%20argumosa%22,%0A%20%20%20%20%20%20%20%20%20%20%20%20%20%20%20%20%20%20%20%20%22city%22:%20%22mérida%22,%0A%20%20%20%20%20%20%20%20%20%20%20%20%20%20%20%20%20%20%20%20%22state%22:%20%22castilla%20y%20león%22,%0A%20%20%20%20%20%20%20%20%20%20%20%20%20%20%20%20%20%20%20%20%22zip%22:%2066886%0A%20%20%20%20%20%20%20%20%20%20%20%20%20%20%20%20%7D,%0A%20%20%20%20%20%20%20%20%20%20%20%20%20%20%20%20%22email%22:%20%22isaac.esteban@example.com%22,%0A%20%20%20%20%20%20%20%20%20%20%20%20%20%20%20%20%22username%22:%20%22greencat111%22,%0A%20%20%20%20%20%20%20%20%20%20%20%20%20%20%20%20%22password%22:%20%22head%22,%0A%20%20%20%20%20%20%20%20%20%20%20%20%20%20%20%20%22salt%22:%20%22nuFAFTLv%22,%0A%20%20%20%20%20%20%20%20%20%20%20%20%20%20%20%20%22md5%22:%20%225bd81ae1fc7aafaa262dcba0741a5755%22,%0A%20%20%20%20%20%20%20%20%20%20%20%20%20%20%20%20%22sha1%22:%20%2207759bdf7168227cc2ff389ab351ae681783e87f%22,%0A%20%20%20%20%20%20%20%20%20%20%20%20%20%20%20%20%22sha256%22:%20%22b76c80edf6af6a42e70aa63bcac6ff6eeb8c8ee0376a88f7202432a034b0e257%22,%0A%20%20%20%20%20%20%20%20%20%20%20%20%20%20%20%20%22registered%22:%201304027746,%0A%20%20%20%20%20%20%20%20%20%20%20%20%20%20%20%20%22dob%22:%201105682153,%0A%20%20%20%20%20%20%20%20%20%20%20%20%20%20%20%20%22phone%22:%20%22985-737-297%22,%0A%20%20%20%20%20%20%20%20%20%20%20%20%20%20%20%20%22cell%22:%20%22693-877-777%22,%0A%20%20%20%20%20%20%20%20%20%20%20%20%20%20%20%20%22DNI%22:%20%2244830652-G%22,%0A%20%20%20%20%20%20%20%20%20%20%20%20%20%20%20%20%22picture%22:%20%7B%0A%20%20%20%20%20%20%20%20%20%20%20%20%20%20%20%20%20%20%20%20%22large%22:%20%22https:/randomuser.me/api/portraits/men/55.jpg%22,%0A%20%20%20%20%20%20%20%20%20%20%20%20%20%20%20%20%20%20%20%20%22medium%22:%20%22https:/randomuser.me/api/portraits/med/men/55.jpg%22,%0A%20%20%20%20%20%20%20%20%20%20%20%20%20%20%20%20%20%20%20%20%22thumbnail%22:%20%22https:/randomuser.me/api/portraits/thumb/men/55.jpg%22%0A%20%20%20%20%20%20%20%20%20%20%20%20%20%20%20%20%7D%0A%20%20%20%20%20%20%20%20%20%20%20%20%7D%0A%20%20%20%20%20%20%20%20%7D,%0A%20%20%20%20%20%20%20%20%7B%0A%20%20%20%20%20%20%20%20%20%20%20%20%22user%22:%20%7B%0A%20%20%20%20%20%20%20%20%20%20%20%20%20%20%20%20%22gender%22:%20%22female%22,%0A%20%20%20%20%20%20%20%20%20%20%20%20%20%20%20%20%22name%22:%20%7B%0A%20%20%20%20%20%20%20%20%20%20%20%20%20%20%20%20%20%20%20%20%22title%22:%20%22mrs%22,%0A%20%20%20%20%20%20%20%20%20%20%20%20%20%20%20%20%20%20%20%20%22first%22:%20%22lucia%22,%0A%20%20%20%20%20%20%20%20%20%20%20%20%20%20%20%20%20%20%20%20%22last%22:%20%22moya%22%0A%20%20%20%20%20%20%20%20%20%20%20%20%20%20%20%20%7D,%0A%20%20%20%20%20%20%20%20%20%20%20%20%20%20%20%20%22location%22:%20%7B%0A%20%20%20%20%20%20%20%20%20%20%20%20%20%20%20%20%20%20%20%20%22street%22:%20%227607%20calle%20covadonga%22,%0A%20%20%20%20%20%20%20%20%20%20%20%20%20%20%20%20%20%20%20%20%22city%22:%20%22elche%22,%0A%20%20%20%20%20%20%20%20%20%20%20%20%20%20%20%20%20%20%20%20%22state%22:%20%22melilla%22,%0A%20%20%20%20%20%20%20%20%20%20%20%20%20%20%20%20%20%20%20%20%22zip%22:%2092159%0A%20%20%20%20%20%20%20%20%20%20%20%20%20%20%20%20%7D,%0A%20%20%20%20%20%20%20%20%20%20%20%20%20%20%20%20%22email%22:%20%22lucia.moya@example.com%22,%0A%20%20%20%20%20%20%20%20%20%20%20%20%20%20%20%20%22username%22:%20%22tinyfish768%22,%0A%20%20%20%20%20%20%20%20%20%20%20%20%20%20%20%20%22password%22:%20%22kent%22,%0A%20%20%20%20%20%20%20%20%20%20%20%20%20%20%20%20%22salt%22:%20%226KLixvfT%22,%0A%20%20%20%20%20%20%20%20%20%20%20%20%20%20%20%20%22md5%22:%20%228e1134542290ffb1196dbacb9b9ebc74%22,%0A%20%20%20%20%20%20%20%20%20%20%20%20%20%20%20%20%22sha1%22:%20%22a8c95a56a6e8bb722f0a8a621043b060a88c6e5b%22,%0A%20%20%20%20%20%20%20%20%20%20%20%20%20%20%20%20%22sha256%22:%20%2291a917faad33dfff6bf9d3ed6019ce91f3c8d37228325d9a841592b7b2f2b73c%22,%0A%20%20%20%20%20%20%20%20%20%20%20%20%20%20%20%20%22registered%22:%201059111321,%0A%20%20%20%20%20%20%20%20%20%20%20%20%20%20%20%20%22dob%22:%20504328084,%0A%20%20%20%20%20%20%20%20%20%20%20%20%20%20%20%20%22phone%22:%20%22917-942-010%22,%0A%20%20%20%20%20%20%20%20%20%20%20%20%20%20%20%20%22cell%22:%20%22641-304-285%22,%0A%20%20%20%20%20%20%20%20%20%20%20%20%20%20%20%20%22DNI%22:%20%2230370103-P%22,%0A%20%20%20%20%20%20%20%20%20%20%20%20%20%20%20%20%22picture%22:%20%7B%0A%20%20%20%20%20%20%20%20%20%20%20%20%20%20%20%20%20%20%20%20%22large%22:%20%22https:/randomuser.me/api/portraits/women/41.jpg%22,%0A%20%20%20%20%20%20%20%20%20%20%20%20%20%20%20%20%20%20%20%20%22medium%22:%20%22https:/randomuser.me/api/portraits/med/women/41.jpg%22,%0A%20%20%20%20%20%20%20%20%20%20%20%20%20%20%20%20%20%20%20%20%22thumbnail%22:%20%22https:/randomuser.me/api/portraits/thumb/women/41.jpg%22%0A%20%20%20%20%20%20%20%20%20%20%20%20%20%20%20%20%7D%0A%20%20%20%20%20%20%20%20%20%20%20%20%7D%0A%20%20%20%20%20%20%20%20%7D,%0A%20%20%20%20%20%20%20%20%7B%0A%20%20%20%20%20%20%20%20%20%20%20%20%22user%22:%20%7B%0A%20%20%20%20%20%20%20%20%20%20%20%20%20%20%20%20%22gender%22:%20%22female%22,%0A%20%20%20%20%20%20%20%20%20%20%20%20%20%20%20%20%22name%22:%20%7B%0A%20%20%20%20%20%20%20%20%20%20%20%20%20%20%20%20%20%20%20%20%22title%22:%20%22miss%22,%0A%20%20%20%20%20%20%20%20%20%20%20%20%20%20%20%20%20%20%20%20%22first%22:%20%22veronica%22,%0A%20%20%20%20%20%20%20%20%20%20%20%20%20%20%20%20%20%20%20%20%22last%22:%20%22alvarez%22%0A%20%20%20%20%20%20%20%20%20%20%20%20%20%20%20%20%7D,%0A%20%20%20%20%20%20%20%20%20%20%20%20%20%20%20%20%22location%22:%20%7B%0A%20%20%20%20%20%20%20%20%20%20%20%20%20%20%20%20%20%20%20%20%22street%22:%20%225097%20avenida%20de%20andalucía%22,%0A%20%20%20%20%20%20%20%20%20%20%20%20%20%20%20%20%20%20%20%20%22city%22:%20%22vitoria%22,%0A%20%20%20%20%20%20%20%20%20%20%20%20%20%20%20%20%20%20%20%20%22state%22:%20%22castilla%20y%20león%22,%0A%20%20%20%20%20%20%20%20%20%20%20%20%20%20%20%20%20%20%20%20%22zip%22:%2085300%0A%20%20%20%20%20%20%20%20%20%20%20%20%20%20%20%20%7D,%0A%20%20%20%20%20%20%20%20%20%20%20%20%20%20%20%20%22email%22:%20%22veronica.alvarez@example.com%22,%0A%20%20%20%20%20%20%20%20%20%20%20%20%20%20%20%20%22username%22:%20%22tinysnake253%22,%0A%20%20%20%20%20%20%20%20%20%20%20%20%20%20%20%20%22password%22:%20%22mdogg%22,%0A%20%20%20%20%20%20%20%20%20%20%20%20%20%20%20%20%22salt%22:%20%22vjXA93qL%22,%0A%20%20%20%20%20%20%20%20%20%20%20%20%20%20%20%20%22md5%22:%20%2299f47be595b7e9a8a9fc5b0ce370387d%22,%0A%20%20%20%20%20%20%20%20%20%20%20%20%20%20%20%20%22sha1%22:%20%221a07e3ba925f120541c4fa093dbbf92637caa02c%22,%0A%20%20%20%20%20%20%20%20%20%20%20%20%20%20%20%20%22sha256%22:%20%2221e49999fb3b0bc93b9bacb9d6b389723e51c9b4ed474d3f7bb6750e40051e4e%22,%0A%20%20%20%20%20%20%20%20%20%20%20%20%20%20%20%20%22registered%22:%201060007040,%0A%20%20%20%20%20%20%20%20%20%20%20%20%20%20%20%20%22dob%22:%20140809237,%0A%20%20%20%20%20%20%20%20%20%20%20%20%20%20%20%20%22phone%22:%20%22988-123-541%22,%0A%20%20%20%20%20%20%20%20%20%20%20%20%20%20%20%20%22cell%22:%20%22681-836-668%22,%0A%20%20%20%20%20%20%20%20%20%20%20%20%20%20%20%20%22DNI%22:%20%2284327119-I%22,%0A%20%20%20%20%20%20%20%20%20%20%20%20%20%20%20%20%22picture%22:%20%7B%0A%20%20%20%20%20%20%20%20%20%20%20%20%20%20%20%20%20%20%20%20%22large%22:%20%22https:/randomuser.me/api/portraits/women/64.jpg%22,%0A%20%20%20%20%20%20%20%20%20%20%20%20%20%20%20%20%20%20%20%20%22medium%22:%20%22https:/randomuser.me/api/portraits/med/women/64.jpg%22,%0A%20%20%20%20%20%20%20%20%20%20%20%20%20%20%20%20%20%20%20%20%22thumbnail%22:%20%22https:/randomuser.me/api/portraits/thumb/women/64.jpg%22%0A%20%20%20%20%20%20%20%20%20%20%20%20%20%20%20%20%7D%0A%20%20%20%20%20%20%20%20%20%20%20%20%7D%0A%20%20%20%20%20%20%20%20%7D,%0A%20%20%20%20%20%20%20%20%7B%0A%20%20%20%20%20%20%20%20%20%20%20%20%22user%22:%20%7B%0A%20%20%20%20%20%20%20%20%20%20%20%20%20%20%20%20%22gender%22:%20%22male%22,%0A%20%20%20%20%20%20%20%20%20%20%20%20%20%20%20%20%22name%22:%20%7B%0A%20%20%20%20%20%20%20%20%20%20%20%20%20%20%20%20%20%20%20%20%22title%22:%20%22mr%22,%0A%20%20%20%20%20%20%20%20%20%20%20%20%20%20%20%20%20%20%20%20%22first%22:%20%22juan%22,%0A%20%20%20%20%20%20%20%20%20%20%20%20%20%20%20%20%20%20%20%20%22last%22:%20%22ibañez%22%0A%20%20%20%20%20%20%20%20%20%20%20%20%20%20%20%20%7D,%0A%20%20%20%20%20%20%20%20%20%20%20%20%20%20%20%20%22location%22:%20%7B%0A%20%20%20%20%20%20%20%20%20%20%20%20%20%20%20%20%20%20%20%20%22street%22:%20%228517%20paseo%20de%20extremadura%22,%0A%20%20%20%20%20%20%20%20%20%20%20%20%20%20%20%20%20%20%20%20%22city%22:%20%22pamplona%22,%0A%20%20%20%20%20%20%20%20%20%20%20%20%20%20%20%20%20%20%20%20%22state%22:%20%22región%20de%20murcia%22,%0A%20%20%20%20%20%20%20%20%20%20%20%20%20%20%20%20%20%20%20%20%22zip%22:%2095663%0A%20%20%20%20%20%20%20%20%20%20%20%20%20%20%20%20%7D,%0A%20%20%20%20%20%20%20%20%20%20%20%20%20%20%20%20%22email%22:%20%22juan.ibañez@example.com%22,%0A%20%20%20%20%20%20%20%20%20%20%20%20%20%20%20%20%22username%22:%20%22yellowrabbit223%22,%0A%20%20%20%20%20%20%20%20%20%20%20%20%20%20%20%20%22password%22:%20%22kermit%22,%0A%20%20%20%20%20%20%20%20%20%20%20%20%20%20%20%20%22salt%22:%20%22840HGkrK%22,%0A%20%20%20%20%20%20%20%20%20%20%20%20%20%20%20%20%22md5%22:%20%2263ca43c4b4fac9e2bbcb032cc740b9a3%22,%0A%20%20%20%20%20%20%20%20%20%20%20%20%20%20%20%20%22sha1%22:%20%225d38e32a960bf07eb795e38b66ef6ee3d875ee8b%22,%0A%20%20%20%20%20%20%20%20%20%20%20%20%20%20%20%20%22sha256%22:%20%2295edd6f014f6cd4eee75c607f8dc88e1a06b14a318ac7f629ed326415fa9df6f%22,%0A%20%20%20%20%20%20%20%20%20%20%20%20%20%20%20%20%22registered%22:%201199713095,%0A%20%20%20%20%20%20%20%20%20%20%20%20%20%20%20%20%22dob%22:%20253446531,%0A%20%20%20%20%20%20%20%20%20%20%20%20%20%20%20%20%22phone%22:%20%22947-098-907%22,%0A%20%20%20%20%20%20%20%20%20%20%20%20%20%20%20%20%22cell%22:%20%22679-582-760%22,%0A%20%20%20%20%20%20%20%20%20%20%20%20%20%20%20%20%22DNI%22:%20%2298207005-U%22,%0A%20%20%20%20%20%20%20%20%20%20%20%20%20%20%20%20%22picture%22:%20%7B%0A%20%20%20%20%20%20%20%20%20%20%20%20%20%20%20%20%20%20%20%20%22large%22:%20%22https:/randomuser.me/api/portraits/men/98.jpg%22,%0A%20%20%20%20%20%20%20%20%20%20%20%20%20%20%20%20%20%20%20%20%22medium%22:%20%22https:/randomuser.me/api/portraits/med/men/98.jpg%22,%0A%20%20%20%20%20%20%20%20%20%20%20%20%20%20%20%20%20%20%20%20%22thumbnail%22:%20%22https:/randomuser.me/api/portraits/thumb/men/98.jpg%22%0A%20%20%20%20%20%20%20%20%20%20%20%20%20%20%20%20%7D%0A%20%20%20%20%20%20%20%20%20%20%20%20%7D%0A%20%20%20%20%20%20%20%20%7D,%0A%20%20%20%20%20%20%20%20%7B%0A%20%20%20%20%20%20%20%20%20%20%20%20%22user%22:%20%7B%0A%20%20%20%20%20%20%20%20%20%20%20%20%20%20%20%20%22gender%22:%20%22male%22,%0A%20%20%20%20%20%20%20%20%20%20%20%20%20%20%20%20%22name%22:%20%7B%0A%20%20%20%20%20%20%20%20%20%20%20%20%20%20%20%20%20%20%20%20%22title%22:%20%22mr%22,%0A%20%20%20%20%20%20%20%20%20%20%20%20%20%20%20%20%20%20%20%20%22first%22:%20%22hugo%22,%0A%20%20%20%20%20%20%20%20%20%20%20%20%20%20%20%20%20%20%20%20%22last%22:%20%22rubio%22%0A%20%20%20%20%20%20%20%20%20%20%20%20%20%20%20%20%7D,%0A%20%20%20%20%20%20%20%20%20%20%20%20%20%20%20%20%22location%22:%20%7B%0A%20%20%20%20%20%20%20%20%20%20%20%20%20%20%20%20%20%20%20%20%22street%22:%20%224318%20calle%20de%20toledo%22,%0A%20%20%20%20%20%20%20%20%20%20%20%20%20%20%20%20%20%20%20%20%22city%22:%20%22santiago%20de%20compostela%22,%0A%20%20%20%20%20%20%20%20%20%20%20%20%20%20%20%20%20%20%20%20%22state%22:%20%22castilla%20la%20mancha%22,%0A%20%20%20%20%20%20%20%20%20%20%20%20%20%20%20%20%20%20%20%20%22zip%22:%2061942%0A%20%20%20%20%20%20%20%20%20%20%20%20%20%20%20%20%7D,%0A%20%20%20%20%20%20%20%20%20%20%20%20%20%20%20%20%22email%22:%20%22hugo.rubio@example.com%22,%0A%20%20%20%20%20%20%20%20%20%20%20%20%20%20%20%20%22username%22:%20%22goldenpeacock856%22,%0A%20%20%20%20%20%20%20%20%20%20%20%20%20%20%20%20%22password%22:%20%22sharpe%22,%0A%20%20%20%20%20%20%20%20%20%20%20%20%20%20%20%20%22salt%22:%20%22bKWJzL5I%22,%0A%20%20%20%20%20%20%20%20%20%20%20%20%20%20%20%20%22md5%22:%20%22b3534a589a8f6019eb3e40a47dd4d7d2%22,%0A%20%20%20%20%20%20%20%20%20%20%20%20%20%20%20%20%22sha1%22:%20%22d6a0fcb1609f570d49696631a3b8720b33c366b6%22,%0A%20%20%20%20%20%20%20%20%20%20%20%20%20%20%20%20%22sha256%22:%20%22164c66f52a9b595682920a01ddb8caf3f63f29529a1fcb0cee577381f4055aff%22,%0A%20%20%20%20%20%20%20%20%20%20%20%20%20%20%20%20%22registered%22:%201089282635,%0A%20%20%20%20%20%20%20%20%20%20%20%20%20%20%20%20%22dob%22:%20453935192,%0A%20%20%20%20%20%20%20%20%20%20%20%20%20%20%20%20%22phone%22:%20%22956-806-584%22,%0A%20%20%20%20%20%20%20%20%20%20%20%20%20%20%20%20%22cell%22:%20%22632-191-984%22,%0A%20%20%20%20%20%20%20%20%20%20%20%20%20%20%20%20%22DNI%22:%20%2207866370-C%22,%0A%20%20%20%20%20%20%20%20%20%20%20%20%20%20%20%20%22picture%22:%20%7B%0A%20%20%20%20%20%20%20%20%20%20%20%20%20%20%20%20%20%20%20%20%22large%22:%20%22https:/randomuser.me/api/portraits/men/62.jpg%22,%0A%20%20%20%20%20%20%20%20%20%20%20%20%20%20%20%20%20%20%20%20%22medium%22:%20%22https:/randomuser.me/api/portraits/med/men/62.jpg%22,%0A%20%20%20%20%20%20%20%20%20%20%20%20%20%20%20%20%20%20%20%20%22thumbnail%22:%20%22https:/randomuser.me/api/portraits/thumb/men/62.jpg%22%0A%20%20%20%20%20%20%20%20%20%20%20%20%20%20%20%20%7D%0A%20%20%20%20%20%20%20%20%20%20%20%20%7D%0A%20%20%20%20%20%20%20%20%7D,%0A%20%20%20%20%20%20%20%20%7B%0A%20%20%20%20%20%20%20%20%20%20%20%20%22user%22:%20%7B%0A%20%20%20%20%20%20%20%20%20%20%20%20%20%20%20%20%22gender%22:%20%22male%22,%0A%20%20%20%20%20%20%20%20%20%20%20%20%20%20%20%20%22name%22:%20%7B%0A%20%20%20%20%20%20%20%20%20%20%20%20%20%20%20%20%20%20%20%20%22title%22:%20%22mr%22,%0A%20%20%20%20%20%20%20%20%20%20%20%20%20%20%20%20%20%20%20%20%22first%22:%20%22diego%22,%0A%20%20%20%20%20%20%20%20%20%20%20%20%20%20%20%20%20%20%20%20%22last%22:%20%22cruz%22%0A%20%20%20%20%20%20%20%20%20%20%20%20%20%20%20%20%7D,%0A%20%20%20%20%20%20%20%20%20%20%20%20%20%20%20%20%22location%22:%20%7B%0A%20%20%20%20%20%20%20%20%20%20%20%20%20%20%20%20%20%20%20%20%22street%22:%20%225599%20calle%20de%20la%20almudena%22,%0A%20%20%20%20%20%20%20%20%20%20%20%20%20%20%20%20%20%20%20%20%22city%22:%20%22orense%22,%0A%20%20%20%20%20%20%20%20%20%20%20%20%20%20%20%20%20%20%20%20%22state%22:%20%22país%20vasco%22,%0A%20%20%20%20%20%20%20%20%20%20%20%20%20%20%20%20%20%20%20%20%22zip%22:%2017141%0A%20%20%20%20%20%20%20%20%20%20%20%20%20%20%20%20%7D,%0A%20%20%20%20%20%20%20%20%20%20%20%20%20%20%20%20%22email%22:%20%22diego.cruz@example.com%22,%0A%20%20%20%20%20%20%20%20%20%20%20%20%20%20%20%20%22username%22:%20%22purplecat144%22,%0A%20%20%20%20%20%20%20%20%20%20%20%20%20%20%20%20%22password%22:%20%22marshall%22,%0A%20%20%20%20%20%20%20%20%20%20%20%20%20%20%20%20%22salt%22:%20%22wZqDxQFH%22,%0A%20%20%20%20%20%20%20%20%20%20%20%20%20%20%20%20%22md5%22:%20%220918f22936d7f52c6a94961873b38a77%22,%0A%20%20%20%20%20%20%20%20%20%20%20%20%20%20%20%20%22sha1%22:%20%22cadb289bc5bb1b6456f2f5336c31276d74fedb97%22,%0A%20%20%20%20%20%20%20%20%20%20%20%20%20%20%20%20%22sha256%22:%20%22cf1413ddb2ffd1d6638672df81f5d6f5bea25ba05b45dd9d461d43be58849b69%22,%0A%20%20%20%20%20%20%20%20%20%20%20%20%20%20%20%20%22registered%22:%201036455708,%0A%20%20%20%20%20%20%20%20%20%20%20%20%20%20%20%20%22dob%22:%20521310449,%0A%20%20%20%20%20%20%20%20%20%20%20%20%20%20%20%20%22phone%22:%20%22921-181-570%22,%0A%20%20%20%20%20%20%20%20%20%20%20%20%20%20%20%20%22cell%22:%20%22618-268-967%22,%0A%20%20%20%20%20%20%20%20%20%20%20%20%20%20%20%20%22DNI%22:%20%2273593426-J%22,%0A%20%20%20%20%20%20%20%20%20%20%20%20%20%20%20%20%22picture%22:%20%7B%0A%20%20%20%20%20%20%20%20%20%20%20%20%20%20%20%20%20%20%20%20%22large%22:%20%22https:/randomuser.me/api/portraits/men/54.jpg%22,%0A%20%20%20%20%20%20%20%20%20%20%20%20%20%20%20%20%20%20%20%20%22medium%22:%20%22https:/randomuser.me/api/portraits/med/men/54.jpg%22,%0A%20%20%20%20%20%20%20%20%20%20%20%20%20%20%20%20%20%20%20%20%22thumbnail%22:%20%22https:/randomuser.me/api/portraits/thumb/men/54.jpg%22%0A%20%20%20%20%20%20%20%20%20%20%20%20%20%20%20%20%7D%0A%20%20%20%20%20%20%20%20%20%20%20%20%7D%0A%20%20%20%20%20%20%20%20%7D,%0A%20%20%20%20%20%20%20%20%7B%0A%20%20%20%20%20%20%20%20%20%20%20%20%22user%22:%20%7B%0A%20%20%20%20%20%20%20%20%20%20%20%20%20%20%20%20%22gender%22:%20%22male%22,%0A%20%20%20%20%20%20%20%20%20%20%20%20%20%20%20%20%22name%22:%20%7B%0A%20%20%20%20%20%20%20%20%20%20%20%20%20%20%20%20%20%20%20%20%22title%22:%20%22mr%22,%0A%20%20%20%20%20%20%20%20%20%20%20%20%20%20%20%20%20%20%20%20%22first%22:%20%22hector%22,%0A%20%20%20%20%20%20%20%20%20%20%20%20%20%20%20%20%20%20%20%20%22last%22:%20%22garrido%22%0A%20%20%20%20%20%20%20%20%20%20%20%20%20%20%20%20%7D,%0A%20%20%20%20%20%20%20%20%20%20%20%20%20%20%20%20%22location%22:%20%7B%0A%20%20%20%20%20%20%20%20%20%20%20%20%20%20%20%20%20%20%20%20%22street%22:%20%222721%20calle%20de%20argumosa%22,%0A%20%20%20%20%20%20%20%20%20%20%20%20%20%20%20%20%20%20%20%20%22city%22:%20%22sevilla%22,%0A%20%20%20%20%20%20%20%20%20%20%20%20%20%20%20%20%20%20%20%20%22state%22:%20%22país%20vasco%22,%0A%20%20%20%20%20%20%20%20%20%20%20%20%20%20%20%20%20%20%20%20%22zip%22:%2038758%0A%20%20%20%20%20%20%20%20%20%20%20%20%20%20%20%20%7D,%0A%20%20%20%20%20%20%20%20%20%20%20%20%20%20%20%20%22email%22:%20%22hector.garrido@example.com%22,%0A%20%20%20%20%20%20%20%20%20%20%20%20%20%20%20%20%22username%22:%20%22lazybird659%22,%0A%20%20%20%20%20%20%20%20%20%20%20%20%20%20%20%20%22password%22:%20%22dakota1%22,%0A%20%20%20%20%20%20%20%20%20%20%20%20%20%20%20%20%22salt%22:%20%22COgPr1SL%22,%0A%20%20%20%20%20%20%20%20%20%20%20%20%20%20%20%20%22md5%22:%20%220344d94b537b4ea6572320d4aaa2ecfb%22,%0A%20%20%20%20%20%20%20%20%20%20%20%20%20%20%20%20%22sha1%22:%20%22395ff6a960f6625c48361b95e2eaa3d12a2fb03f%22,%0A%20%20%20%20%20%20%20%20%20%20%20%20%20%20%20%20%22sha256%22:%20%22192bf4cfda13f0986139b5f5bbb92adc0c3c65cb9ed24ca6b46529fe4141c507%22,%0A%20%20%20%20%20%20%20%20%20%20%20%20%20%20%20%20%22registered%22:%201261795433,%0A%20%20%20%20%20%20%20%20%20%20%20%20%20%20%20%20%22dob%22:%20316526868,%0A%20%20%20%20%20%20%20%20%20%20%20%20%20%20%20%20%22phone%22:%20%22978-001-813%22,%0A%20%20%20%20%20%20%20%20%20%20%20%20%20%20%20%20%22cell%22:%20%22609-930-578%22,%0A%20%20%20%20%20%20%20%20%20%20%20%20%20%20%20%20%22DNI%22:%20%2202091649-D%22,%0A%20%20%20%20%20%20%20%20%20%20%20%20%20%20%20%20%22picture%22:%20%7B%0A%20%20%20%20%20%20%20%20%20%20%20%20%20%20%20%20%20%20%20%20%22large%22:%20%22https:/randomuser.me/api/portraits/men/90.jpg%22,%0A%20%20%20%20%20%20%20%20%20%20%20%20%20%20%20%20%20%20%20%20%22medium%22:%20%22https:/randomuser.me/api/portraits/med/men/90.jpg%22,%0A%20%20%20%20%20%20%20%20%20%20%20%20%20%20%20%20%20%20%20%20%22thumbnail%22:%20%22https:/randomuser.me/api/portraits/thumb/men/90.jpg%22%0A%20%20%20%20%20%20%20%20%20%20%20%20%20%20%20%20%7D%0A%20%20%20%20%20%20%20%20%20%20%20%20%7D%0A%20%20%20%20%20%20%20%20%7D,%0A%20%20%20%20%20%20%20%20%7B%0A%20%20%20%20%20%20%20%20%20%20%20%20%22user%22:%20%7B%0A%20%20%20%20%20%20%20%20%20%20%20%20%20%20%20%20%22gender%22:%20%22female%22,%0A%20%20%20%20%20%20%20%20%20%20%20%20%20%20%20%20%22name%22:%20%7B%0A%20%20%20%20%20%20%20%20%20%20%20%20%20%20%20%20%20%20%20%20%22title%22:%20%22miss%22,%0A%20%20%20%20%20%20%20%20%20%20%20%20%20%20%20%20%20%20%20%20%22first%22:%20%22clara%22,%0A%20%20%20%20%20%20%20%20%20%20%20%20%20%20%20%20%20%20%20%20%22last%22:%20%22vazquez%22%0A%20%20%20%20%20%20%20%20%20%20%20%20%20%20%20%20%7D,%0A%20%20%20%20%20%20%20%20%20%20%20%20%20%20%20%20%22location%22:%20%7B%0A%20%20%20%20%20%20%20%20%20%20%20%20%20%20%20%20%20%20%20%20%22street%22:%20%222178%20calle%20del%20arenal%22,%0A%20%20%20%20%20%20%20%20%20%20%20%20%20%20%20%20%20%20%20%20%22city%22:%20%22ferrol%22,%0A%20%20%20%20%20%20%20%20%20%20%20%20%20%20%20%20%20%20%20%20%22state%22:%20%22extremadura%22,%0A%20%20%20%20%20%20%20%20%20%20%20%20%20%20%20%20%20%20%20%20%22zip%22:%2019044%0A%20%20%20%20%20%20%20%20%20%20%20%20%20%20%20%20%7D,%0A%20%20%20%20%20%20%20%20%20%20%20%20%20%20%20%20%22email%22:%20%22clara.vazquez@example.com%22,%0A%20%20%20%20%20%20%20%20%20%20%20%20%20%20%20%20%22username%22:%20%22silvermouse662%22,%0A%20%20%20%20%20%20%20%20%20%20%20%20%20%20%20%20%22password%22:%20%22cindy1%22,%0A%20%20%20%20%20%20%20%20%20%20%20%20%20%20%20%20%22salt%22:%20%220K0WdMaO%22,%0A%20%20%20%20%20%20%20%20%20%20%20%20%20%20%20%20%22md5%22:%20%2294e71d85c3e28a9a6119037422e6b75a%22,%0A%20%20%20%20%20%20%20%20%20%20%20%20%20%20%20%20%22sha1%22:%20%22b48e5db9cf38691e0870203454d72b4ae35860b0%22,%0A%20%20%20%20%20%20%20%20%20%20%20%20%20%20%20%20%22sha256%22:%20%22beadc84fd6b554533911fce9b305d35ecf7e0e1085448dd941ed6f95889afc03%22,%0A%20%20%20%20%20%20%20%20%20%20%20%20%20%20%20%20%22registered%22:%201105996536,%0A%20%20%20%20%20%20%20%20%20%20%20%20%20%20%20%20%22dob%22:%20572511083,%0A%20%20%20%20%20%20%20%20%20%20%20%20%20%20%20%20%22phone%22:%20%22973-947-576%22,%0A%20%20%20%20%20%20%20%20%20%20%20%20%20%20%20%20%22cell%22:%20%22645-679-296%22,%0A%20%20%20%20%20%20%20%20%20%20%20%20%20%20%20%20%22DNI%22:%20%2238418552-A%22,%0A%20%20%20%20%20%20%20%20%20%20%20%20%20%20%20%20%22picture%22:%20%7B%0A%20%20%20%20%20%20%20%20%20%20%20%20%20%20%20%20%20%20%20%20%22large%22:%20%22https:/randomuser.me/api/portraits/women/63.jpg%22,%0A%20%20%20%20%20%20%20%20%20%20%20%20%20%20%20%20%20%20%20%20%22medium%22:%20%22https:/randomuser.me/api/portraits/med/women/63.jpg%22,%0A%20%20%20%20%20%20%20%20%20%20%20%20%20%20%20%20%20%20%20%20%22thumbnail%22:%20%22https:/randomuser.me/api/portraits/thumb/women/63.jpg%22%0A%20%20%20%20%20%20%20%20%20%20%20%20%20%20%20%20%7D%0A%20%20%20%20%20%20%20%20%20%20%20%20%7D%0A%20%20%20%20%20%20%20%20%7D%0A%20%20%20%20%5D,%0A%20%20%20%20%22nationality%22:%20%22ES%22,%0A%20%20%20%20%22seed%22:%20%22dee440dd736b8bda05%22,%0A%20%20%20%20%22version%22:%20%220.8%22%0A%7D",
     "output_type": "error",
     "traceback": [
      "\u001b[1;31m---------------------------------------------------------------------------\u001b[0m",
      "\u001b[1;31mIllegalArgumentException\u001b[0m                  Traceback (most recent call last)",
      "Cell \u001b[1;32mIn[38], line 11\u001b[0m\n\u001b[0;32m      5\u001b[0m httpData \u001b[38;5;241m=\u001b[39m urlopen(onlineData)\u001b[38;5;241m.\u001b[39mread()\u001b[38;5;241m.\u001b[39mdecode(\u001b[38;5;124m'\u001b[39m\u001b[38;5;124mutf-8\u001b[39m\u001b[38;5;124m'\u001b[39m)\n\u001b[0;32m      7\u001b[0m \u001b[38;5;66;03m# convert into RDD\u001b[39;00m\n\u001b[0;32m      8\u001b[0m \u001b[38;5;66;03m# rdd = sc.parallelize([httpData])\u001b[39;00m\n\u001b[0;32m      9\u001b[0m \n\u001b[0;32m     10\u001b[0m \u001b[38;5;66;03m# create a Dataframe\u001b[39;00m\n\u001b[1;32m---> 11\u001b[0m jsonDF \u001b[38;5;241m=\u001b[39m spark\u001b[38;5;241m.\u001b[39mread\u001b[38;5;241m.\u001b[39mjson(httpData)\n\u001b[0;32m     12\u001b[0m jsonDF\u001b[38;5;241m.\u001b[39mshow()\n",
      "File \u001b[1;32m~\\anaconda3\\Lib\\site-packages\\pyspark\\sql\\readwriter.py:418\u001b[0m, in \u001b[0;36mDataFrameReader.json\u001b[1;34m(self, path, schema, primitivesAsString, prefersDecimal, allowComments, allowUnquotedFieldNames, allowSingleQuotes, allowNumericLeadingZero, allowBackslashEscapingAnyCharacter, mode, columnNameOfCorruptRecord, dateFormat, timestampFormat, multiLine, allowUnquotedControlChars, lineSep, samplingRatio, dropFieldIfAllNull, encoding, locale, pathGlobFilter, recursiveFileLookup, modifiedBefore, modifiedAfter, allowNonNumericNumbers)\u001b[0m\n\u001b[0;32m    416\u001b[0m \u001b[38;5;28;01mif\u001b[39;00m \u001b[38;5;28mtype\u001b[39m(path) \u001b[38;5;241m==\u001b[39m \u001b[38;5;28mlist\u001b[39m:\n\u001b[0;32m    417\u001b[0m     \u001b[38;5;28;01massert\u001b[39;00m \u001b[38;5;28mself\u001b[39m\u001b[38;5;241m.\u001b[39m_spark\u001b[38;5;241m.\u001b[39m_sc\u001b[38;5;241m.\u001b[39m_jvm \u001b[38;5;129;01mis\u001b[39;00m \u001b[38;5;129;01mnot\u001b[39;00m \u001b[38;5;28;01mNone\u001b[39;00m\n\u001b[1;32m--> 418\u001b[0m     \u001b[38;5;28;01mreturn\u001b[39;00m \u001b[38;5;28mself\u001b[39m\u001b[38;5;241m.\u001b[39m_df(\u001b[38;5;28mself\u001b[39m\u001b[38;5;241m.\u001b[39m_jreader\u001b[38;5;241m.\u001b[39mjson(\u001b[38;5;28mself\u001b[39m\u001b[38;5;241m.\u001b[39m_spark\u001b[38;5;241m.\u001b[39m_sc\u001b[38;5;241m.\u001b[39m_jvm\u001b[38;5;241m.\u001b[39mPythonUtils\u001b[38;5;241m.\u001b[39mtoSeq(path)))\n\u001b[0;32m    419\u001b[0m \u001b[38;5;28;01melif\u001b[39;00m \u001b[38;5;28misinstance\u001b[39m(path, RDD):\n\u001b[0;32m    421\u001b[0m     \u001b[38;5;28;01mdef\u001b[39;00m \u001b[38;5;21mfunc\u001b[39m(iterator: Iterable) \u001b[38;5;241m-\u001b[39m\u001b[38;5;241m>\u001b[39m Iterable:\n",
      "File \u001b[1;32m~\\anaconda3\\Lib\\site-packages\\py4j\\java_gateway.py:1322\u001b[0m, in \u001b[0;36mJavaMember.__call__\u001b[1;34m(self, *args)\u001b[0m\n\u001b[0;32m   1316\u001b[0m command \u001b[38;5;241m=\u001b[39m proto\u001b[38;5;241m.\u001b[39mCALL_COMMAND_NAME \u001b[38;5;241m+\u001b[39m\\\n\u001b[0;32m   1317\u001b[0m     \u001b[38;5;28mself\u001b[39m\u001b[38;5;241m.\u001b[39mcommand_header \u001b[38;5;241m+\u001b[39m\\\n\u001b[0;32m   1318\u001b[0m     args_command \u001b[38;5;241m+\u001b[39m\\\n\u001b[0;32m   1319\u001b[0m     proto\u001b[38;5;241m.\u001b[39mEND_COMMAND_PART\n\u001b[0;32m   1321\u001b[0m answer \u001b[38;5;241m=\u001b[39m \u001b[38;5;28mself\u001b[39m\u001b[38;5;241m.\u001b[39mgateway_client\u001b[38;5;241m.\u001b[39msend_command(command)\n\u001b[1;32m-> 1322\u001b[0m return_value \u001b[38;5;241m=\u001b[39m get_return_value(\n\u001b[0;32m   1323\u001b[0m     answer, \u001b[38;5;28mself\u001b[39m\u001b[38;5;241m.\u001b[39mgateway_client, \u001b[38;5;28mself\u001b[39m\u001b[38;5;241m.\u001b[39mtarget_id, \u001b[38;5;28mself\u001b[39m\u001b[38;5;241m.\u001b[39mname)\n\u001b[0;32m   1325\u001b[0m \u001b[38;5;28;01mfor\u001b[39;00m temp_arg \u001b[38;5;129;01min\u001b[39;00m temp_args:\n\u001b[0;32m   1326\u001b[0m     \u001b[38;5;28;01mif\u001b[39;00m \u001b[38;5;28mhasattr\u001b[39m(temp_arg, \u001b[38;5;124m\"\u001b[39m\u001b[38;5;124m_detach\u001b[39m\u001b[38;5;124m\"\u001b[39m):\n",
      "File \u001b[1;32m~\\anaconda3\\Lib\\site-packages\\pyspark\\errors\\exceptions\\captured.py:175\u001b[0m, in \u001b[0;36mcapture_sql_exception.<locals>.deco\u001b[1;34m(*a, **kw)\u001b[0m\n\u001b[0;32m    171\u001b[0m converted \u001b[38;5;241m=\u001b[39m convert_exception(e\u001b[38;5;241m.\u001b[39mjava_exception)\n\u001b[0;32m    172\u001b[0m \u001b[38;5;28;01mif\u001b[39;00m \u001b[38;5;129;01mnot\u001b[39;00m \u001b[38;5;28misinstance\u001b[39m(converted, UnknownException):\n\u001b[0;32m    173\u001b[0m     \u001b[38;5;66;03m# Hide where the exception came from that shows a non-Pythonic\u001b[39;00m\n\u001b[0;32m    174\u001b[0m     \u001b[38;5;66;03m# JVM exception message.\u001b[39;00m\n\u001b[1;32m--> 175\u001b[0m     \u001b[38;5;28;01mraise\u001b[39;00m converted \u001b[38;5;28;01mfrom\u001b[39;00m \u001b[38;5;28;01mNone\u001b[39;00m\n\u001b[0;32m    176\u001b[0m \u001b[38;5;28;01melse\u001b[39;00m:\n\u001b[0;32m    177\u001b[0m     \u001b[38;5;28;01mraise\u001b[39;00m\n",
      "\u001b[1;31mIllegalArgumentException\u001b[0m: java.net.URISyntaxException: Relative path in absolute URI: {\n    \"results\":%20%5B%0A%20%20%20%20%20%20%20%20%7B%0A%20%20%20%20%20%20%20%20%20%20%20%20%22user%22:%20%7B%0A%20%20%20%20%20%20%20%20%20%20%20%20%20%20%20%20%22gender%22:%20%22male%22,%0A%20%20%20%20%20%20%20%20%20%20%20%20%20%20%20%20%22name%22:%20%7B%0A%20%20%20%20%20%20%20%20%20%20%20%20%20%20%20%20%20%20%20%20%22title%22:%20%22mr%22,%0A%20%20%20%20%20%20%20%20%20%20%20%20%20%20%20%20%20%20%20%20%22first%22:%20%22antonio%22,%0A%20%20%20%20%20%20%20%20%20%20%20%20%20%20%20%20%20%20%20%20%22last%22:%20%22cortes%22%0A%20%20%20%20%20%20%20%20%20%20%20%20%20%20%20%20%7D,%0A%20%20%20%20%20%20%20%20%20%20%20%20%20%20%20%20%22location%22:%20%7B%0A%20%20%20%20%20%20%20%20%20%20%20%20%20%20%20%20%20%20%20%20%22street%22:%20%226744%20avenida%20de%20castilla%22,%0A%20%20%20%20%20%20%20%20%20%20%20%20%20%20%20%20%20%20%20%20%22city%22:%20%22pamplona%22,%0A%20%20%20%20%20%20%20%20%20%20%20%20%20%20%20%20%20%20%20%20%22state%22:%20%22la%20rioja%22,%0A%20%20%20%20%20%20%20%20%20%20%20%20%20%20%20%20%20%20%20%20%22zip%22:%2064880%0A%20%20%20%20%20%20%20%20%20%20%20%20%20%20%20%20%7D,%0A%20%20%20%20%20%20%20%20%20%20%20%20%20%20%20%20%22email%22:%20%22antonio.cortes@example.com%22,%0A%20%20%20%20%20%20%20%20%20%20%20%20%20%20%20%20%22username%22:%20%22redcat917%22,%0A%20%20%20%20%20%20%20%20%20%20%20%20%20%20%20%20%22password%22:%20%22ministry%22,%0A%20%20%20%20%20%20%20%20%20%20%20%20%20%20%20%20%22salt%22:%20%22zrBkXOnO%22,%0A%20%20%20%20%20%20%20%20%20%20%20%20%20%20%20%20%22md5%22:%20%221a3e5295d7ac385c99f680d090922f73%22,%0A%20%20%20%20%20%20%20%20%20%20%20%20%20%20%20%20%22sha1%22:%20%22186044677177b7bc748984a1a329b62f92ad703f%22,%0A%20%20%20%20%20%20%20%20%20%20%20%20%20%20%20%20%22sha256%22:%20%222c529c875792d556d6f9c8bae64d5fe093ad6a26677b780d2145bd447a52271d%22,%0A%20%20%20%20%20%20%20%20%20%20%20%20%20%20%20%20%22registered%22:%201088469810,%0A%20%20%20%20%20%20%20%20%20%20%20%20%20%20%20%20%22dob%22:%20924214030,%0A%20%20%20%20%20%20%20%20%20%20%20%20%20%20%20%20%22phone%22:%20%22954-122-756%22,%0A%20%20%20%20%20%20%20%20%20%20%20%20%20%20%20%20%22cell%22:%20%22667-366-623%22,%0A%20%20%20%20%20%20%20%20%20%20%20%20%20%20%20%20%22DNI%22:%20%2280312403-H%22,%0A%20%20%20%20%20%20%20%20%20%20%20%20%20%20%20%20%22picture%22:%20%7B%0A%20%20%20%20%20%20%20%20%20%20%20%20%20%20%20%20%20%20%20%20%22large%22:%20%22https:/randomuser.me/api/portraits/men/33.jpg%22,%0A%20%20%20%20%20%20%20%20%20%20%20%20%20%20%20%20%20%20%20%20%22medium%22:%20%22https:/randomuser.me/api/portraits/med/men/33.jpg%22,%0A%20%20%20%20%20%20%20%20%20%20%20%20%20%20%20%20%20%20%20%20%22thumbnail%22:%20%22https:/randomuser.me/api/portraits/thumb/men/33.jpg%22%0A%20%20%20%20%20%20%20%20%20%20%20%20%20%20%20%20%7D%0A%20%20%20%20%20%20%20%20%20%20%20%20%7D%0A%20%20%20%20%20%20%20%20%7D,%0A%20%20%20%20%20%20%20%20%7B%0A%20%20%20%20%20%20%20%20%20%20%20%20%22user%22:%20%7B%0A%20%20%20%20%20%20%20%20%20%20%20%20%20%20%20%20%22gender%22:%20%22male%22,%0A%20%20%20%20%20%20%20%20%20%20%20%20%20%20%20%20%22name%22:%20%7B%0A%20%20%20%20%20%20%20%20%20%20%20%20%20%20%20%20%20%20%20%20%22title%22:%20%22mr%22,%0A%20%20%20%20%20%20%20%20%20%20%20%20%20%20%20%20%20%20%20%20%22first%22:%20%22alex%22,%0A%20%20%20%20%20%20%20%20%20%20%20%20%20%20%20%20%20%20%20%20%22last%22:%20%22rodriguez%22%0A%20%20%20%20%20%20%20%20%20%20%20%20%20%20%20%20%7D,%0A%20%20%20%20%20%20%20%20%20%20%20%20%20%20%20%20%22location%22:%20%7B%0A%20%20%20%20%20%20%20%20%20%20%20%20%20%20%20%20%20%20%20%20%22street%22:%20%223895%20avenida%20de%20castilla%22,%0A%20%20%20%20%20%20%20%20%20%20%20%20%20%20%20%20%20%20%20%20%22city%22:%20%22orense%22,%0A%20%20%20%20%20%20%20%20%20%20%20%20%20%20%20%20%20%20%20%20%22state%22:%20%22cantabria%22,%0A%20%20%20%20%20%20%20%20%20%20%20%20%20%20%20%20%20%20%20%20%22zip%22:%2058131%0A%20%20%20%20%20%20%20%20%20%20%20%20%20%20%20%20%7D,%0A%20%20%20%20%20%20%20%20%20%20%20%20%20%20%20%20%22email%22:%20%22alex.rodriguez@example.com%22,%0A%20%20%20%20%20%20%20%20%20%20%20%20%20%20%20%20%22username%22:%20%22blackmouse629%22,%0A%20%20%20%20%20%20%20%20%20%20%20%20%20%20%20%20%22password%22:%20%22dirt%22,%0A%20%20%20%20%20%20%20%20%20%20%20%20%20%20%20%20%22salt%22:%20%22h3z2ZiFE%22,%0A%20%20%20%20%20%20%20%20%20%20%20%20%20%20%20%20%22md5%22:%20%2231ae26d38f5ad6fdd24bf367662454ed%22,%0A%20%20%20%20%20%20%20%20%20%20%20%20%20%20%20%20%22sha1%22:%20%22e01b1a0652c4611e53a951efd70ac284f538d780%22,%0A%20%20%20%20%20%20%20%20%20%20%20%20%20%20%20%20%22sha256%22:%20%2200390ba9e07843758391a78a4bf1cb57cbc67d87946ae4ee679cb9b9c07ed736%22,%0A%20%20%20%20%20%20%20%20%20%20%20%20%20%20%20%20%22registered%22:%201394072405,%0A%20%20%20%20%20%20%20%20%20%20%20%20%20%20%20%20%22dob%22:%20855364091,%0A%20%20%20%20%20%20%20%20%20%20%20%20%20%20%20%20%22phone%22:%20%22920-559-336%22,%0A%20%20%20%20%20%20%20%20%20%20%20%20%20%20%20%20%22cell%22:%20%22688-846-879%22,%0A%20%20%20%20%20%20%20%20%20%20%20%20%20%20%20%20%22DNI%22:%20%2215682886-R%22,%0A%20%20%20%20%20%20%20%20%20%20%20%20%20%20%20%20%22picture%22:%20%7B%0A%20%20%20%20%20%20%20%20%20%20%20%20%20%20%20%20%20%20%20%20%22large%22:%20%22https:/randomuser.me/api/portraits/men/21.jpg%22,%0A%20%20%20%20%20%20%20%20%20%20%20%20%20%20%20%20%20%20%20%20%22medium%22:%20%22https:/randomuser.me/api/portraits/med/men/21.jpg%22,%0A%20%20%20%20%20%20%20%20%20%20%20%20%20%20%20%20%20%20%20%20%22thumbnail%22:%20%22https:/randomuser.me/api/portraits/thumb/men/21.jpg%22%0A%20%20%20%20%20%20%20%20%20%20%20%20%20%20%20%20%7D%0A%20%20%20%20%20%20%20%20%20%20%20%20%7D%0A%20%20%20%20%20%20%20%20%7D,%0A%20%20%20%20%20%20%20%20%7B%0A%20%20%20%20%20%20%20%20%20%20%20%20%22user%22:%20%7B%0A%20%20%20%20%20%20%20%20%20%20%20%20%20%20%20%20%22gender%22:%20%22male%22,%0A%20%20%20%20%20%20%20%20%20%20%20%20%20%20%20%20%22name%22:%20%7B%0A%20%20%20%20%20%20%20%20%20%20%20%20%20%20%20%20%20%20%20%20%22title%22:%20%22mr%22,%0A%20%20%20%20%20%20%20%20%20%20%20%20%20%20%20%20%20%20%20%20%22first%22:%20%22isaac%22,%0A%20%20%20%20%20%20%20%20%20%20%20%20%20%20%20%20%20%20%20%20%22last%22:%20%22esteban%22%0A%20%20%20%20%20%20%20%20%20%20%20%20%20%20%20%20%7D,%0A%20%20%20%20%20%20%20%20%20%20%20%20%20%20%20%20%22location%22:%20%7B%0A%20%20%20%20%20%20%20%20%20%20%20%20%20%20%20%20%20%20%20%20%22street%22:%20%222269%20calle%20de%20argumosa%22,%0A%20%20%20%20%20%20%20%20%20%20%20%20%20%20%20%20%20%20%20%20%22city%22:%20%22mérida%22,%0A%20%20%20%20%20%20%20%20%20%20%20%20%20%20%20%20%20%20%20%20%22state%22:%20%22castilla%20y%20león%22,%0A%20%20%20%20%20%20%20%20%20%20%20%20%20%20%20%20%20%20%20%20%22zip%22:%2066886%0A%20%20%20%20%20%20%20%20%20%20%20%20%20%20%20%20%7D,%0A%20%20%20%20%20%20%20%20%20%20%20%20%20%20%20%20%22email%22:%20%22isaac.esteban@example.com%22,%0A%20%20%20%20%20%20%20%20%20%20%20%20%20%20%20%20%22username%22:%20%22greencat111%22,%0A%20%20%20%20%20%20%20%20%20%20%20%20%20%20%20%20%22password%22:%20%22head%22,%0A%20%20%20%20%20%20%20%20%20%20%20%20%20%20%20%20%22salt%22:%20%22nuFAFTLv%22,%0A%20%20%20%20%20%20%20%20%20%20%20%20%20%20%20%20%22md5%22:%20%225bd81ae1fc7aafaa262dcba0741a5755%22,%0A%20%20%20%20%20%20%20%20%20%20%20%20%20%20%20%20%22sha1%22:%20%2207759bdf7168227cc2ff389ab351ae681783e87f%22,%0A%20%20%20%20%20%20%20%20%20%20%20%20%20%20%20%20%22sha256%22:%20%22b76c80edf6af6a42e70aa63bcac6ff6eeb8c8ee0376a88f7202432a034b0e257%22,%0A%20%20%20%20%20%20%20%20%20%20%20%20%20%20%20%20%22registered%22:%201304027746,%0A%20%20%20%20%20%20%20%20%20%20%20%20%20%20%20%20%22dob%22:%201105682153,%0A%20%20%20%20%20%20%20%20%20%20%20%20%20%20%20%20%22phone%22:%20%22985-737-297%22,%0A%20%20%20%20%20%20%20%20%20%20%20%20%20%20%20%20%22cell%22:%20%22693-877-777%22,%0A%20%20%20%20%20%20%20%20%20%20%20%20%20%20%20%20%22DNI%22:%20%2244830652-G%22,%0A%20%20%20%20%20%20%20%20%20%20%20%20%20%20%20%20%22picture%22:%20%7B%0A%20%20%20%20%20%20%20%20%20%20%20%20%20%20%20%20%20%20%20%20%22large%22:%20%22https:/randomuser.me/api/portraits/men/55.jpg%22,%0A%20%20%20%20%20%20%20%20%20%20%20%20%20%20%20%20%20%20%20%20%22medium%22:%20%22https:/randomuser.me/api/portraits/med/men/55.jpg%22,%0A%20%20%20%20%20%20%20%20%20%20%20%20%20%20%20%20%20%20%20%20%22thumbnail%22:%20%22https:/randomuser.me/api/portraits/thumb/men/55.jpg%22%0A%20%20%20%20%20%20%20%20%20%20%20%20%20%20%20%20%7D%0A%20%20%20%20%20%20%20%20%20%20%20%20%7D%0A%20%20%20%20%20%20%20%20%7D,%0A%20%20%20%20%20%20%20%20%7B%0A%20%20%20%20%20%20%20%20%20%20%20%20%22user%22:%20%7B%0A%20%20%20%20%20%20%20%20%20%20%20%20%20%20%20%20%22gender%22:%20%22female%22,%0A%20%20%20%20%20%20%20%20%20%20%20%20%20%20%20%20%22name%22:%20%7B%0A%20%20%20%20%20%20%20%20%20%20%20%20%20%20%20%20%20%20%20%20%22title%22:%20%22mrs%22,%0A%20%20%20%20%20%20%20%20%20%20%20%20%20%20%20%20%20%20%20%20%22first%22:%20%22lucia%22,%0A%20%20%20%20%20%20%20%20%20%20%20%20%20%20%20%20%20%20%20%20%22last%22:%20%22moya%22%0A%20%20%20%20%20%20%20%20%20%20%20%20%20%20%20%20%7D,%0A%20%20%20%20%20%20%20%20%20%20%20%20%20%20%20%20%22location%22:%20%7B%0A%20%20%20%20%20%20%20%20%20%20%20%20%20%20%20%20%20%20%20%20%22street%22:%20%227607%20calle%20covadonga%22,%0A%20%20%20%20%20%20%20%20%20%20%20%20%20%20%20%20%20%20%20%20%22city%22:%20%22elche%22,%0A%20%20%20%20%20%20%20%20%20%20%20%20%20%20%20%20%20%20%20%20%22state%22:%20%22melilla%22,%0A%20%20%20%20%20%20%20%20%20%20%20%20%20%20%20%20%20%20%20%20%22zip%22:%2092159%0A%20%20%20%20%20%20%20%20%20%20%20%20%20%20%20%20%7D,%0A%20%20%20%20%20%20%20%20%20%20%20%20%20%20%20%20%22email%22:%20%22lucia.moya@example.com%22,%0A%20%20%20%20%20%20%20%20%20%20%20%20%20%20%20%20%22username%22:%20%22tinyfish768%22,%0A%20%20%20%20%20%20%20%20%20%20%20%20%20%20%20%20%22password%22:%20%22kent%22,%0A%20%20%20%20%20%20%20%20%20%20%20%20%20%20%20%20%22salt%22:%20%226KLixvfT%22,%0A%20%20%20%20%20%20%20%20%20%20%20%20%20%20%20%20%22md5%22:%20%228e1134542290ffb1196dbacb9b9ebc74%22,%0A%20%20%20%20%20%20%20%20%20%20%20%20%20%20%20%20%22sha1%22:%20%22a8c95a56a6e8bb722f0a8a621043b060a88c6e5b%22,%0A%20%20%20%20%20%20%20%20%20%20%20%20%20%20%20%20%22sha256%22:%20%2291a917faad33dfff6bf9d3ed6019ce91f3c8d37228325d9a841592b7b2f2b73c%22,%0A%20%20%20%20%20%20%20%20%20%20%20%20%20%20%20%20%22registered%22:%201059111321,%0A%20%20%20%20%20%20%20%20%20%20%20%20%20%20%20%20%22dob%22:%20504328084,%0A%20%20%20%20%20%20%20%20%20%20%20%20%20%20%20%20%22phone%22:%20%22917-942-010%22,%0A%20%20%20%20%20%20%20%20%20%20%20%20%20%20%20%20%22cell%22:%20%22641-304-285%22,%0A%20%20%20%20%20%20%20%20%20%20%20%20%20%20%20%20%22DNI%22:%20%2230370103-P%22,%0A%20%20%20%20%20%20%20%20%20%20%20%20%20%20%20%20%22picture%22:%20%7B%0A%20%20%20%20%20%20%20%20%20%20%20%20%20%20%20%20%20%20%20%20%22large%22:%20%22https:/randomuser.me/api/portraits/women/41.jpg%22,%0A%20%20%20%20%20%20%20%20%20%20%20%20%20%20%20%20%20%20%20%20%22medium%22:%20%22https:/randomuser.me/api/portraits/med/women/41.jpg%22,%0A%20%20%20%20%20%20%20%20%20%20%20%20%20%20%20%20%20%20%20%20%22thumbnail%22:%20%22https:/randomuser.me/api/portraits/thumb/women/41.jpg%22%0A%20%20%20%20%20%20%20%20%20%20%20%20%20%20%20%20%7D%0A%20%20%20%20%20%20%20%20%20%20%20%20%7D%0A%20%20%20%20%20%20%20%20%7D,%0A%20%20%20%20%20%20%20%20%7B%0A%20%20%20%20%20%20%20%20%20%20%20%20%22user%22:%20%7B%0A%20%20%20%20%20%20%20%20%20%20%20%20%20%20%20%20%22gender%22:%20%22female%22,%0A%20%20%20%20%20%20%20%20%20%20%20%20%20%20%20%20%22name%22:%20%7B%0A%20%20%20%20%20%20%20%20%20%20%20%20%20%20%20%20%20%20%20%20%22title%22:%20%22miss%22,%0A%20%20%20%20%20%20%20%20%20%20%20%20%20%20%20%20%20%20%20%20%22first%22:%20%22veronica%22,%0A%20%20%20%20%20%20%20%20%20%20%20%20%20%20%20%20%20%20%20%20%22last%22:%20%22alvarez%22%0A%20%20%20%20%20%20%20%20%20%20%20%20%20%20%20%20%7D,%0A%20%20%20%20%20%20%20%20%20%20%20%20%20%20%20%20%22location%22:%20%7B%0A%20%20%20%20%20%20%20%20%20%20%20%20%20%20%20%20%20%20%20%20%22street%22:%20%225097%20avenida%20de%20andalucía%22,%0A%20%20%20%20%20%20%20%20%20%20%20%20%20%20%20%20%20%20%20%20%22city%22:%20%22vitoria%22,%0A%20%20%20%20%20%20%20%20%20%20%20%20%20%20%20%20%20%20%20%20%22state%22:%20%22castilla%20y%20león%22,%0A%20%20%20%20%20%20%20%20%20%20%20%20%20%20%20%20%20%20%20%20%22zip%22:%2085300%0A%20%20%20%20%20%20%20%20%20%20%20%20%20%20%20%20%7D,%0A%20%20%20%20%20%20%20%20%20%20%20%20%20%20%20%20%22email%22:%20%22veronica.alvarez@example.com%22,%0A%20%20%20%20%20%20%20%20%20%20%20%20%20%20%20%20%22username%22:%20%22tinysnake253%22,%0A%20%20%20%20%20%20%20%20%20%20%20%20%20%20%20%20%22password%22:%20%22mdogg%22,%0A%20%20%20%20%20%20%20%20%20%20%20%20%20%20%20%20%22salt%22:%20%22vjXA93qL%22,%0A%20%20%20%20%20%20%20%20%20%20%20%20%20%20%20%20%22md5%22:%20%2299f47be595b7e9a8a9fc5b0ce370387d%22,%0A%20%20%20%20%20%20%20%20%20%20%20%20%20%20%20%20%22sha1%22:%20%221a07e3ba925f120541c4fa093dbbf92637caa02c%22,%0A%20%20%20%20%20%20%20%20%20%20%20%20%20%20%20%20%22sha256%22:%20%2221e49999fb3b0bc93b9bacb9d6b389723e51c9b4ed474d3f7bb6750e40051e4e%22,%0A%20%20%20%20%20%20%20%20%20%20%20%20%20%20%20%20%22registered%22:%201060007040,%0A%20%20%20%20%20%20%20%20%20%20%20%20%20%20%20%20%22dob%22:%20140809237,%0A%20%20%20%20%20%20%20%20%20%20%20%20%20%20%20%20%22phone%22:%20%22988-123-541%22,%0A%20%20%20%20%20%20%20%20%20%20%20%20%20%20%20%20%22cell%22:%20%22681-836-668%22,%0A%20%20%20%20%20%20%20%20%20%20%20%20%20%20%20%20%22DNI%22:%20%2284327119-I%22,%0A%20%20%20%20%20%20%20%20%20%20%20%20%20%20%20%20%22picture%22:%20%7B%0A%20%20%20%20%20%20%20%20%20%20%20%20%20%20%20%20%20%20%20%20%22large%22:%20%22https:/randomuser.me/api/portraits/women/64.jpg%22,%0A%20%20%20%20%20%20%20%20%20%20%20%20%20%20%20%20%20%20%20%20%22medium%22:%20%22https:/randomuser.me/api/portraits/med/women/64.jpg%22,%0A%20%20%20%20%20%20%20%20%20%20%20%20%20%20%20%20%20%20%20%20%22thumbnail%22:%20%22https:/randomuser.me/api/portraits/thumb/women/64.jpg%22%0A%20%20%20%20%20%20%20%20%20%20%20%20%20%20%20%20%7D%0A%20%20%20%20%20%20%20%20%20%20%20%20%7D%0A%20%20%20%20%20%20%20%20%7D,%0A%20%20%20%20%20%20%20%20%7B%0A%20%20%20%20%20%20%20%20%20%20%20%20%22user%22:%20%7B%0A%20%20%20%20%20%20%20%20%20%20%20%20%20%20%20%20%22gender%22:%20%22male%22,%0A%20%20%20%20%20%20%20%20%20%20%20%20%20%20%20%20%22name%22:%20%7B%0A%20%20%20%20%20%20%20%20%20%20%20%20%20%20%20%20%20%20%20%20%22title%22:%20%22mr%22,%0A%20%20%20%20%20%20%20%20%20%20%20%20%20%20%20%20%20%20%20%20%22first%22:%20%22juan%22,%0A%20%20%20%20%20%20%20%20%20%20%20%20%20%20%20%20%20%20%20%20%22last%22:%20%22ibañez%22%0A%20%20%20%20%20%20%20%20%20%20%20%20%20%20%20%20%7D,%0A%20%20%20%20%20%20%20%20%20%20%20%20%20%20%20%20%22location%22:%20%7B%0A%20%20%20%20%20%20%20%20%20%20%20%20%20%20%20%20%20%20%20%20%22street%22:%20%228517%20paseo%20de%20extremadura%22,%0A%20%20%20%20%20%20%20%20%20%20%20%20%20%20%20%20%20%20%20%20%22city%22:%20%22pamplona%22,%0A%20%20%20%20%20%20%20%20%20%20%20%20%20%20%20%20%20%20%20%20%22state%22:%20%22región%20de%20murcia%22,%0A%20%20%20%20%20%20%20%20%20%20%20%20%20%20%20%20%20%20%20%20%22zip%22:%2095663%0A%20%20%20%20%20%20%20%20%20%20%20%20%20%20%20%20%7D,%0A%20%20%20%20%20%20%20%20%20%20%20%20%20%20%20%20%22email%22:%20%22juan.ibañez@example.com%22,%0A%20%20%20%20%20%20%20%20%20%20%20%20%20%20%20%20%22username%22:%20%22yellowrabbit223%22,%0A%20%20%20%20%20%20%20%20%20%20%20%20%20%20%20%20%22password%22:%20%22kermit%22,%0A%20%20%20%20%20%20%20%20%20%20%20%20%20%20%20%20%22salt%22:%20%22840HGkrK%22,%0A%20%20%20%20%20%20%20%20%20%20%20%20%20%20%20%20%22md5%22:%20%2263ca43c4b4fac9e2bbcb032cc740b9a3%22,%0A%20%20%20%20%20%20%20%20%20%20%20%20%20%20%20%20%22sha1%22:%20%225d38e32a960bf07eb795e38b66ef6ee3d875ee8b%22,%0A%20%20%20%20%20%20%20%20%20%20%20%20%20%20%20%20%22sha256%22:%20%2295edd6f014f6cd4eee75c607f8dc88e1a06b14a318ac7f629ed326415fa9df6f%22,%0A%20%20%20%20%20%20%20%20%20%20%20%20%20%20%20%20%22registered%22:%201199713095,%0A%20%20%20%20%20%20%20%20%20%20%20%20%20%20%20%20%22dob%22:%20253446531,%0A%20%20%20%20%20%20%20%20%20%20%20%20%20%20%20%20%22phone%22:%20%22947-098-907%22,%0A%20%20%20%20%20%20%20%20%20%20%20%20%20%20%20%20%22cell%22:%20%22679-582-760%22,%0A%20%20%20%20%20%20%20%20%20%20%20%20%20%20%20%20%22DNI%22:%20%2298207005-U%22,%0A%20%20%20%20%20%20%20%20%20%20%20%20%20%20%20%20%22picture%22:%20%7B%0A%20%20%20%20%20%20%20%20%20%20%20%20%20%20%20%20%20%20%20%20%22large%22:%20%22https:/randomuser.me/api/portraits/men/98.jpg%22,%0A%20%20%20%20%20%20%20%20%20%20%20%20%20%20%20%20%20%20%20%20%22medium%22:%20%22https:/randomuser.me/api/portraits/med/men/98.jpg%22,%0A%20%20%20%20%20%20%20%20%20%20%20%20%20%20%20%20%20%20%20%20%22thumbnail%22:%20%22https:/randomuser.me/api/portraits/thumb/men/98.jpg%22%0A%20%20%20%20%20%20%20%20%20%20%20%20%20%20%20%20%7D%0A%20%20%20%20%20%20%20%20%20%20%20%20%7D%0A%20%20%20%20%20%20%20%20%7D,%0A%20%20%20%20%20%20%20%20%7B%0A%20%20%20%20%20%20%20%20%20%20%20%20%22user%22:%20%7B%0A%20%20%20%20%20%20%20%20%20%20%20%20%20%20%20%20%22gender%22:%20%22male%22,%0A%20%20%20%20%20%20%20%20%20%20%20%20%20%20%20%20%22name%22:%20%7B%0A%20%20%20%20%20%20%20%20%20%20%20%20%20%20%20%20%20%20%20%20%22title%22:%20%22mr%22,%0A%20%20%20%20%20%20%20%20%20%20%20%20%20%20%20%20%20%20%20%20%22first%22:%20%22hugo%22,%0A%20%20%20%20%20%20%20%20%20%20%20%20%20%20%20%20%20%20%20%20%22last%22:%20%22rubio%22%0A%20%20%20%20%20%20%20%20%20%20%20%20%20%20%20%20%7D,%0A%20%20%20%20%20%20%20%20%20%20%20%20%20%20%20%20%22location%22:%20%7B%0A%20%20%20%20%20%20%20%20%20%20%20%20%20%20%20%20%20%20%20%20%22street%22:%20%224318%20calle%20de%20toledo%22,%0A%20%20%20%20%20%20%20%20%20%20%20%20%20%20%20%20%20%20%20%20%22city%22:%20%22santiago%20de%20compostela%22,%0A%20%20%20%20%20%20%20%20%20%20%20%20%20%20%20%20%20%20%20%20%22state%22:%20%22castilla%20la%20mancha%22,%0A%20%20%20%20%20%20%20%20%20%20%20%20%20%20%20%20%20%20%20%20%22zip%22:%2061942%0A%20%20%20%20%20%20%20%20%20%20%20%20%20%20%20%20%7D,%0A%20%20%20%20%20%20%20%20%20%20%20%20%20%20%20%20%22email%22:%20%22hugo.rubio@example.com%22,%0A%20%20%20%20%20%20%20%20%20%20%20%20%20%20%20%20%22username%22:%20%22goldenpeacock856%22,%0A%20%20%20%20%20%20%20%20%20%20%20%20%20%20%20%20%22password%22:%20%22sharpe%22,%0A%20%20%20%20%20%20%20%20%20%20%20%20%20%20%20%20%22salt%22:%20%22bKWJzL5I%22,%0A%20%20%20%20%20%20%20%20%20%20%20%20%20%20%20%20%22md5%22:%20%22b3534a589a8f6019eb3e40a47dd4d7d2%22,%0A%20%20%20%20%20%20%20%20%20%20%20%20%20%20%20%20%22sha1%22:%20%22d6a0fcb1609f570d49696631a3b8720b33c366b6%22,%0A%20%20%20%20%20%20%20%20%20%20%20%20%20%20%20%20%22sha256%22:%20%22164c66f52a9b595682920a01ddb8caf3f63f29529a1fcb0cee577381f4055aff%22,%0A%20%20%20%20%20%20%20%20%20%20%20%20%20%20%20%20%22registered%22:%201089282635,%0A%20%20%20%20%20%20%20%20%20%20%20%20%20%20%20%20%22dob%22:%20453935192,%0A%20%20%20%20%20%20%20%20%20%20%20%20%20%20%20%20%22phone%22:%20%22956-806-584%22,%0A%20%20%20%20%20%20%20%20%20%20%20%20%20%20%20%20%22cell%22:%20%22632-191-984%22,%0A%20%20%20%20%20%20%20%20%20%20%20%20%20%20%20%20%22DNI%22:%20%2207866370-C%22,%0A%20%20%20%20%20%20%20%20%20%20%20%20%20%20%20%20%22picture%22:%20%7B%0A%20%20%20%20%20%20%20%20%20%20%20%20%20%20%20%20%20%20%20%20%22large%22:%20%22https:/randomuser.me/api/portraits/men/62.jpg%22,%0A%20%20%20%20%20%20%20%20%20%20%20%20%20%20%20%20%20%20%20%20%22medium%22:%20%22https:/randomuser.me/api/portraits/med/men/62.jpg%22,%0A%20%20%20%20%20%20%20%20%20%20%20%20%20%20%20%20%20%20%20%20%22thumbnail%22:%20%22https:/randomuser.me/api/portraits/thumb/men/62.jpg%22%0A%20%20%20%20%20%20%20%20%20%20%20%20%20%20%20%20%7D%0A%20%20%20%20%20%20%20%20%20%20%20%20%7D%0A%20%20%20%20%20%20%20%20%7D,%0A%20%20%20%20%20%20%20%20%7B%0A%20%20%20%20%20%20%20%20%20%20%20%20%22user%22:%20%7B%0A%20%20%20%20%20%20%20%20%20%20%20%20%20%20%20%20%22gender%22:%20%22male%22,%0A%20%20%20%20%20%20%20%20%20%20%20%20%20%20%20%20%22name%22:%20%7B%0A%20%20%20%20%20%20%20%20%20%20%20%20%20%20%20%20%20%20%20%20%22title%22:%20%22mr%22,%0A%20%20%20%20%20%20%20%20%20%20%20%20%20%20%20%20%20%20%20%20%22first%22:%20%22diego%22,%0A%20%20%20%20%20%20%20%20%20%20%20%20%20%20%20%20%20%20%20%20%22last%22:%20%22cruz%22%0A%20%20%20%20%20%20%20%20%20%20%20%20%20%20%20%20%7D,%0A%20%20%20%20%20%20%20%20%20%20%20%20%20%20%20%20%22location%22:%20%7B%0A%20%20%20%20%20%20%20%20%20%20%20%20%20%20%20%20%20%20%20%20%22street%22:%20%225599%20calle%20de%20la%20almudena%22,%0A%20%20%20%20%20%20%20%20%20%20%20%20%20%20%20%20%20%20%20%20%22city%22:%20%22orense%22,%0A%20%20%20%20%20%20%20%20%20%20%20%20%20%20%20%20%20%20%20%20%22state%22:%20%22país%20vasco%22,%0A%20%20%20%20%20%20%20%20%20%20%20%20%20%20%20%20%20%20%20%20%22zip%22:%2017141%0A%20%20%20%20%20%20%20%20%20%20%20%20%20%20%20%20%7D,%0A%20%20%20%20%20%20%20%20%20%20%20%20%20%20%20%20%22email%22:%20%22diego.cruz@example.com%22,%0A%20%20%20%20%20%20%20%20%20%20%20%20%20%20%20%20%22username%22:%20%22purplecat144%22,%0A%20%20%20%20%20%20%20%20%20%20%20%20%20%20%20%20%22password%22:%20%22marshall%22,%0A%20%20%20%20%20%20%20%20%20%20%20%20%20%20%20%20%22salt%22:%20%22wZqDxQFH%22,%0A%20%20%20%20%20%20%20%20%20%20%20%20%20%20%20%20%22md5%22:%20%220918f22936d7f52c6a94961873b38a77%22,%0A%20%20%20%20%20%20%20%20%20%20%20%20%20%20%20%20%22sha1%22:%20%22cadb289bc5bb1b6456f2f5336c31276d74fedb97%22,%0A%20%20%20%20%20%20%20%20%20%20%20%20%20%20%20%20%22sha256%22:%20%22cf1413ddb2ffd1d6638672df81f5d6f5bea25ba05b45dd9d461d43be58849b69%22,%0A%20%20%20%20%20%20%20%20%20%20%20%20%20%20%20%20%22registered%22:%201036455708,%0A%20%20%20%20%20%20%20%20%20%20%20%20%20%20%20%20%22dob%22:%20521310449,%0A%20%20%20%20%20%20%20%20%20%20%20%20%20%20%20%20%22phone%22:%20%22921-181-570%22,%0A%20%20%20%20%20%20%20%20%20%20%20%20%20%20%20%20%22cell%22:%20%22618-268-967%22,%0A%20%20%20%20%20%20%20%20%20%20%20%20%20%20%20%20%22DNI%22:%20%2273593426-J%22,%0A%20%20%20%20%20%20%20%20%20%20%20%20%20%20%20%20%22picture%22:%20%7B%0A%20%20%20%20%20%20%20%20%20%20%20%20%20%20%20%20%20%20%20%20%22large%22:%20%22https:/randomuser.me/api/portraits/men/54.jpg%22,%0A%20%20%20%20%20%20%20%20%20%20%20%20%20%20%20%20%20%20%20%20%22medium%22:%20%22https:/randomuser.me/api/portraits/med/men/54.jpg%22,%0A%20%20%20%20%20%20%20%20%20%20%20%20%20%20%20%20%20%20%20%20%22thumbnail%22:%20%22https:/randomuser.me/api/portraits/thumb/men/54.jpg%22%0A%20%20%20%20%20%20%20%20%20%20%20%20%20%20%20%20%7D%0A%20%20%20%20%20%20%20%20%20%20%20%20%7D%0A%20%20%20%20%20%20%20%20%7D,%0A%20%20%20%20%20%20%20%20%7B%0A%20%20%20%20%20%20%20%20%20%20%20%20%22user%22:%20%7B%0A%20%20%20%20%20%20%20%20%20%20%20%20%20%20%20%20%22gender%22:%20%22male%22,%0A%20%20%20%20%20%20%20%20%20%20%20%20%20%20%20%20%22name%22:%20%7B%0A%20%20%20%20%20%20%20%20%20%20%20%20%20%20%20%20%20%20%20%20%22title%22:%20%22mr%22,%0A%20%20%20%20%20%20%20%20%20%20%20%20%20%20%20%20%20%20%20%20%22first%22:%20%22hector%22,%0A%20%20%20%20%20%20%20%20%20%20%20%20%20%20%20%20%20%20%20%20%22last%22:%20%22garrido%22%0A%20%20%20%20%20%20%20%20%20%20%20%20%20%20%20%20%7D,%0A%20%20%20%20%20%20%20%20%20%20%20%20%20%20%20%20%22location%22:%20%7B%0A%20%20%20%20%20%20%20%20%20%20%20%20%20%20%20%20%20%20%20%20%22street%22:%20%222721%20calle%20de%20argumosa%22,%0A%20%20%20%20%20%20%20%20%20%20%20%20%20%20%20%20%20%20%20%20%22city%22:%20%22sevilla%22,%0A%20%20%20%20%20%20%20%20%20%20%20%20%20%20%20%20%20%20%20%20%22state%22:%20%22país%20vasco%22,%0A%20%20%20%20%20%20%20%20%20%20%20%20%20%20%20%20%20%20%20%20%22zip%22:%2038758%0A%20%20%20%20%20%20%20%20%20%20%20%20%20%20%20%20%7D,%0A%20%20%20%20%20%20%20%20%20%20%20%20%20%20%20%20%22email%22:%20%22hector.garrido@example.com%22,%0A%20%20%20%20%20%20%20%20%20%20%20%20%20%20%20%20%22username%22:%20%22lazybird659%22,%0A%20%20%20%20%20%20%20%20%20%20%20%20%20%20%20%20%22password%22:%20%22dakota1%22,%0A%20%20%20%20%20%20%20%20%20%20%20%20%20%20%20%20%22salt%22:%20%22COgPr1SL%22,%0A%20%20%20%20%20%20%20%20%20%20%20%20%20%20%20%20%22md5%22:%20%220344d94b537b4ea6572320d4aaa2ecfb%22,%0A%20%20%20%20%20%20%20%20%20%20%20%20%20%20%20%20%22sha1%22:%20%22395ff6a960f6625c48361b95e2eaa3d12a2fb03f%22,%0A%20%20%20%20%20%20%20%20%20%20%20%20%20%20%20%20%22sha256%22:%20%22192bf4cfda13f0986139b5f5bbb92adc0c3c65cb9ed24ca6b46529fe4141c507%22,%0A%20%20%20%20%20%20%20%20%20%20%20%20%20%20%20%20%22registered%22:%201261795433,%0A%20%20%20%20%20%20%20%20%20%20%20%20%20%20%20%20%22dob%22:%20316526868,%0A%20%20%20%20%20%20%20%20%20%20%20%20%20%20%20%20%22phone%22:%20%22978-001-813%22,%0A%20%20%20%20%20%20%20%20%20%20%20%20%20%20%20%20%22cell%22:%20%22609-930-578%22,%0A%20%20%20%20%20%20%20%20%20%20%20%20%20%20%20%20%22DNI%22:%20%2202091649-D%22,%0A%20%20%20%20%20%20%20%20%20%20%20%20%20%20%20%20%22picture%22:%20%7B%0A%20%20%20%20%20%20%20%20%20%20%20%20%20%20%20%20%20%20%20%20%22large%22:%20%22https:/randomuser.me/api/portraits/men/90.jpg%22,%0A%20%20%20%20%20%20%20%20%20%20%20%20%20%20%20%20%20%20%20%20%22medium%22:%20%22https:/randomuser.me/api/portraits/med/men/90.jpg%22,%0A%20%20%20%20%20%20%20%20%20%20%20%20%20%20%20%20%20%20%20%20%22thumbnail%22:%20%22https:/randomuser.me/api/portraits/thumb/men/90.jpg%22%0A%20%20%20%20%20%20%20%20%20%20%20%20%20%20%20%20%7D%0A%20%20%20%20%20%20%20%20%20%20%20%20%7D%0A%20%20%20%20%20%20%20%20%7D,%0A%20%20%20%20%20%20%20%20%7B%0A%20%20%20%20%20%20%20%20%20%20%20%20%22user%22:%20%7B%0A%20%20%20%20%20%20%20%20%20%20%20%20%20%20%20%20%22gender%22:%20%22female%22,%0A%20%20%20%20%20%20%20%20%20%20%20%20%20%20%20%20%22name%22:%20%7B%0A%20%20%20%20%20%20%20%20%20%20%20%20%20%20%20%20%20%20%20%20%22title%22:%20%22miss%22,%0A%20%20%20%20%20%20%20%20%20%20%20%20%20%20%20%20%20%20%20%20%22first%22:%20%22clara%22,%0A%20%20%20%20%20%20%20%20%20%20%20%20%20%20%20%20%20%20%20%20%22last%22:%20%22vazquez%22%0A%20%20%20%20%20%20%20%20%20%20%20%20%20%20%20%20%7D,%0A%20%20%20%20%20%20%20%20%20%20%20%20%20%20%20%20%22location%22:%20%7B%0A%20%20%20%20%20%20%20%20%20%20%20%20%20%20%20%20%20%20%20%20%22street%22:%20%222178%20calle%20del%20arenal%22,%0A%20%20%20%20%20%20%20%20%20%20%20%20%20%20%20%20%20%20%20%20%22city%22:%20%22ferrol%22,%0A%20%20%20%20%20%20%20%20%20%20%20%20%20%20%20%20%20%20%20%20%22state%22:%20%22extremadura%22,%0A%20%20%20%20%20%20%20%20%20%20%20%20%20%20%20%20%20%20%20%20%22zip%22:%2019044%0A%20%20%20%20%20%20%20%20%20%20%20%20%20%20%20%20%7D,%0A%20%20%20%20%20%20%20%20%20%20%20%20%20%20%20%20%22email%22:%20%22clara.vazquez@example.com%22,%0A%20%20%20%20%20%20%20%20%20%20%20%20%20%20%20%20%22username%22:%20%22silvermouse662%22,%0A%20%20%20%20%20%20%20%20%20%20%20%20%20%20%20%20%22password%22:%20%22cindy1%22,%0A%20%20%20%20%20%20%20%20%20%20%20%20%20%20%20%20%22salt%22:%20%220K0WdMaO%22,%0A%20%20%20%20%20%20%20%20%20%20%20%20%20%20%20%20%22md5%22:%20%2294e71d85c3e28a9a6119037422e6b75a%22,%0A%20%20%20%20%20%20%20%20%20%20%20%20%20%20%20%20%22sha1%22:%20%22b48e5db9cf38691e0870203454d72b4ae35860b0%22,%0A%20%20%20%20%20%20%20%20%20%20%20%20%20%20%20%20%22sha256%22:%20%22beadc84fd6b554533911fce9b305d35ecf7e0e1085448dd941ed6f95889afc03%22,%0A%20%20%20%20%20%20%20%20%20%20%20%20%20%20%20%20%22registered%22:%201105996536,%0A%20%20%20%20%20%20%20%20%20%20%20%20%20%20%20%20%22dob%22:%20572511083,%0A%20%20%20%20%20%20%20%20%20%20%20%20%20%20%20%20%22phone%22:%20%22973-947-576%22,%0A%20%20%20%20%20%20%20%20%20%20%20%20%20%20%20%20%22cell%22:%20%22645-679-296%22,%0A%20%20%20%20%20%20%20%20%20%20%20%20%20%20%20%20%22DNI%22:%20%2238418552-A%22,%0A%20%20%20%20%20%20%20%20%20%20%20%20%20%20%20%20%22picture%22:%20%7B%0A%20%20%20%20%20%20%20%20%20%20%20%20%20%20%20%20%20%20%20%20%22large%22:%20%22https:/randomuser.me/api/portraits/women/63.jpg%22,%0A%20%20%20%20%20%20%20%20%20%20%20%20%20%20%20%20%20%20%20%20%22medium%22:%20%22https:/randomuser.me/api/portraits/med/women/63.jpg%22,%0A%20%20%20%20%20%20%20%20%20%20%20%20%20%20%20%20%20%20%20%20%22thumbnail%22:%20%22https:/randomuser.me/api/portraits/thumb/women/63.jpg%22%0A%20%20%20%20%20%20%20%20%20%20%20%20%20%20%20%20%7D%0A%20%20%20%20%20%20%20%20%20%20%20%20%7D%0A%20%20%20%20%20%20%20%20%7D%0A%20%20%20%20%5D,%0A%20%20%20%20%22nationality%22:%20%22ES%22,%0A%20%20%20%20%22seed%22:%20%22dee440dd736b8bda05%22,%0A%20%20%20%20%22version%22:%20%220.8%22%0A%7D"
     ]
    }
   ],
   "source": [
    "from urllib.request import Request, urlopen\n",
    "onlineData = 'https://randomuser.me/api/0.8/?results=10'\n",
    "\n",
    "# read the online data file\n",
    "httpData = urlopen(onlineData).read().decode('utf-8')\n",
    "\n",
    "# convert into RDD\n",
    "rdd = sc.parallelize([httpData])\n",
    "\n",
    "# create a Dataframe\n",
    "jsonDF = spark.read.json(httpData)\n",
    "jsonDF.show()\n"
   ]
  },
  {
   "cell_type": "markdown",
   "id": "2b322dfc",
   "metadata": {},
   "source": [
    "# Project"
   ]
  },
  {
   "cell_type": "code",
   "execution_count": 39,
   "id": "7e99bc5e",
   "metadata": {},
   "outputs": [
    {
     "name": "stdout",
     "output_type": "stream",
     "text": [
      "+-----------+--------------------+------------------+-------+\n",
      "|nationality|             results|              seed|version|\n",
      "+-----------+--------------------+------------------+-------+\n",
      "|         CH|[{{756.VULG.RZAJ....|6ab0db8063d4960303|    0.8|\n",
      "+-----------+--------------------+------------------+-------+\n",
      "\n",
      "root\n",
      " |-- nationality: string (nullable = true)\n",
      " |-- results: array (nullable = true)\n",
      " |    |-- element: struct (containsNull = true)\n",
      " |    |    |-- user: struct (nullable = true)\n",
      " |    |    |    |-- AVS: string (nullable = true)\n",
      " |    |    |    |-- cell: string (nullable = true)\n",
      " |    |    |    |-- dob: long (nullable = true)\n",
      " |    |    |    |-- email: string (nullable = true)\n",
      " |    |    |    |-- gender: string (nullable = true)\n",
      " |    |    |    |-- location: struct (nullable = true)\n",
      " |    |    |    |    |-- city: string (nullable = true)\n",
      " |    |    |    |    |-- state: string (nullable = true)\n",
      " |    |    |    |    |-- street: string (nullable = true)\n",
      " |    |    |    |    |-- zip: long (nullable = true)\n",
      " |    |    |    |-- md5: string (nullable = true)\n",
      " |    |    |    |-- name: struct (nullable = true)\n",
      " |    |    |    |    |-- first: string (nullable = true)\n",
      " |    |    |    |    |-- last: string (nullable = true)\n",
      " |    |    |    |    |-- title: string (nullable = true)\n",
      " |    |    |    |-- password: string (nullable = true)\n",
      " |    |    |    |-- phone: string (nullable = true)\n",
      " |    |    |    |-- picture: struct (nullable = true)\n",
      " |    |    |    |    |-- large: string (nullable = true)\n",
      " |    |    |    |    |-- medium: string (nullable = true)\n",
      " |    |    |    |    |-- thumbnail: string (nullable = true)\n",
      " |    |    |    |-- registered: long (nullable = true)\n",
      " |    |    |    |-- salt: string (nullable = true)\n",
      " |    |    |    |-- sha1: string (nullable = true)\n",
      " |    |    |    |-- sha256: string (nullable = true)\n",
      " |    |    |    |-- username: string (nullable = true)\n",
      " |-- seed: string (nullable = true)\n",
      " |-- version: string (nullable = true)\n",
      "\n"
     ]
    }
   ],
   "source": [
    "jsondata = spark.read.format(\"json\").option(\"multiline\", \"true\").load(\"file:///D:/Data Analytics applications/Eclipse Projects/data_files/project.json\")\n",
    "jsondata.show()\n",
    "jsondata.printSchema()\n"
   ]
  },
  {
   "cell_type": "code",
   "execution_count": 46,
   "id": "8e767beb",
   "metadata": {},
   "outputs": [
    {
     "name": "stdout",
     "output_type": "stream",
     "text": [
      "+-----------+--------------------+------------------+-------+\n",
      "|nationality|             results|              seed|version|\n",
      "+-----------+--------------------+------------------+-------+\n",
      "|         CH|{{756.VULG.RZAJ.8...|6ab0db8063d4960303|    0.8|\n",
      "|         CH|{{756.YBBE.WNNN.0...|6ab0db8063d4960303|    0.8|\n",
      "|         CH|{{756.CLOO.XNYI.3...|6ab0db8063d4960303|    0.8|\n",
      "|         CH|{{756.VZBP.TMGT.3...|6ab0db8063d4960303|    0.8|\n",
      "|         CH|{{756.FIKW.ADKM.4...|6ab0db8063d4960303|    0.8|\n",
      "|         CH|{{756.MKQV.JCEM.6...|6ab0db8063d4960303|    0.8|\n",
      "|         CH|{{756.QZEP.ZCDV.1...|6ab0db8063d4960303|    0.8|\n",
      "|         CH|{{756.BDUZ.PTAM.8...|6ab0db8063d4960303|    0.8|\n",
      "|         CH|{{756.HONT.DEDG.3...|6ab0db8063d4960303|    0.8|\n",
      "|         CH|{{756.VUSX.MHNW.8...|6ab0db8063d4960303|    0.8|\n",
      "+-----------+--------------------+------------------+-------+\n",
      "\n",
      "root\n",
      " |-- nationality: string (nullable = true)\n",
      " |-- results: struct (nullable = true)\n",
      " |    |-- user: struct (nullable = true)\n",
      " |    |    |-- AVS: string (nullable = true)\n",
      " |    |    |-- cell: string (nullable = true)\n",
      " |    |    |-- dob: long (nullable = true)\n",
      " |    |    |-- email: string (nullable = true)\n",
      " |    |    |-- gender: string (nullable = true)\n",
      " |    |    |-- location: struct (nullable = true)\n",
      " |    |    |    |-- city: string (nullable = true)\n",
      " |    |    |    |-- state: string (nullable = true)\n",
      " |    |    |    |-- street: string (nullable = true)\n",
      " |    |    |    |-- zip: long (nullable = true)\n",
      " |    |    |-- md5: string (nullable = true)\n",
      " |    |    |-- name: struct (nullable = true)\n",
      " |    |    |    |-- first: string (nullable = true)\n",
      " |    |    |    |-- last: string (nullable = true)\n",
      " |    |    |    |-- title: string (nullable = true)\n",
      " |    |    |-- password: string (nullable = true)\n",
      " |    |    |-- phone: string (nullable = true)\n",
      " |    |    |-- picture: struct (nullable = true)\n",
      " |    |    |    |-- large: string (nullable = true)\n",
      " |    |    |    |-- medium: string (nullable = true)\n",
      " |    |    |    |-- thumbnail: string (nullable = true)\n",
      " |    |    |-- registered: long (nullable = true)\n",
      " |    |    |-- salt: string (nullable = true)\n",
      " |    |    |-- sha1: string (nullable = true)\n",
      " |    |    |-- sha256: string (nullable = true)\n",
      " |    |    |-- username: string (nullable = true)\n",
      " |-- seed: string (nullable = true)\n",
      " |-- version: string (nullable = true)\n",
      "\n"
     ]
    }
   ],
   "source": [
    "data2 = jsondata.withColumn(\"results\", explode(\"results\"))\n",
    "data2.show()\n",
    "data2.printSchema()"
   ]
  },
  {
   "cell_type": "code",
   "execution_count": null,
   "id": "4b0b9434",
   "metadata": {},
   "outputs": [],
   "source": []
  },
  {
   "cell_type": "code",
   "execution_count": null,
   "id": "29fdb1b5",
   "metadata": {},
   "outputs": [],
   "source": []
  },
  {
   "cell_type": "code",
   "execution_count": 45,
   "id": "2c0bd6af",
   "metadata": {},
   "outputs": [
    {
     "name": "stdout",
     "output_type": "stream",
     "text": [
      "+----------+----------------+--------------+---------+--------------------+------+-------------+------+------------------+----+--------+------+------------+--------+--------------+--------------------+--------------------+--------------------+----------+------------------+-------+-----------+\n",
      "|  username|             AVS|          cell|      dob|               email|gender|         city| state|            street| zip|   first|  last|       title|password|         phone|               large|              medium|           thumbnail|registered|              seed|version|nationality|\n",
      "+----------+----------------+--------------+---------+--------------------+------+-------------+------+------------------+----+--------+------+------------+--------+--------------+--------------------+--------------------+--------------------+----------+------------------+-------+-----------+\n",
      "|redfrog197|756.VULG.RZAJ.83|(992)-543-7675|723370357|victoire.dufour@e...|female|montpreveyres|zürich|1559 rue de bonnel|3512|victoire|dufour|mademoiselle|  alicia|(161)-020-9388|https://randomuse...|https://randomuse...|https://randomuse...|1317925697|6ab0db8063d4960303|    0.8|         CH|\n",
      "+----------+----------------+--------------+---------+--------------------+------+-------------+------+------------------+----+--------+------+------------+--------+--------------+--------------------+--------------------+--------------------+----------+------------------+-------+-----------+\n",
      "only showing top 1 row\n",
      "\n",
      "root\n",
      " |-- username: string (nullable = true)\n",
      " |-- AVS: string (nullable = true)\n",
      " |-- cell: string (nullable = true)\n",
      " |-- dob: long (nullable = true)\n",
      " |-- email: string (nullable = true)\n",
      " |-- gender: string (nullable = true)\n",
      " |-- city: string (nullable = true)\n",
      " |-- state: string (nullable = true)\n",
      " |-- street: string (nullable = true)\n",
      " |-- zip: long (nullable = true)\n",
      " |-- first: string (nullable = true)\n",
      " |-- last: string (nullable = true)\n",
      " |-- title: string (nullable = true)\n",
      " |-- password: string (nullable = true)\n",
      " |-- phone: string (nullable = true)\n",
      " |-- large: string (nullable = true)\n",
      " |-- medium: string (nullable = true)\n",
      " |-- thumbnail: string (nullable = true)\n",
      " |-- registered: long (nullable = true)\n",
      " |-- seed: string (nullable = true)\n",
      " |-- version: string (nullable = true)\n",
      " |-- nationality: string (nullable = true)\n",
      "\n"
     ]
    }
   ],
   "source": [
    "data3 = data2.select(\"results.user.username\", \"results.user.AVS\", \"results.user.cell\", \"results.user.dob\", \"results.user.email\", \"results.user.gender\", \"results.user.location.*\", \"results.user.name.*\", \"results.user.password\", \"results.user.phone\", \"results.user.picture.*\", \"results.user.registered\", \"seed\", \"version\", \"nationality\")\n",
    "data3.show(1)\n",
    "data3.printSchema()"
   ]
  },
  {
   "cell_type": "code",
   "execution_count": null,
   "id": "c99f3204",
   "metadata": {},
   "outputs": [],
   "source": []
  },
  {
   "cell_type": "code",
   "execution_count": null,
   "id": "851deaf3",
   "metadata": {},
   "outputs": [],
   "source": []
  },
  {
   "cell_type": "code",
   "execution_count": null,
   "id": "cb2f9e2a",
   "metadata": {},
   "outputs": [],
   "source": []
  },
  {
   "cell_type": "code",
   "execution_count": null,
   "id": "1d58f30f",
   "metadata": {},
   "outputs": [],
   "source": []
  },
  {
   "cell_type": "code",
   "execution_count": null,
   "id": "dcf88c35",
   "metadata": {},
   "outputs": [],
   "source": []
  },
  {
   "cell_type": "code",
   "execution_count": null,
   "id": "b65d4c93",
   "metadata": {},
   "outputs": [],
   "source": []
  },
  {
   "cell_type": "code",
   "execution_count": null,
   "id": "53cbd315",
   "metadata": {},
   "outputs": [],
   "source": []
  }
 ],
 "metadata": {
  "kernelspec": {
   "display_name": "Python 3 (ipykernel)",
   "language": "python",
   "name": "python3"
  },
  "language_info": {
   "codemirror_mode": {
    "name": "ipython",
    "version": 3
   },
   "file_extension": ".py",
   "mimetype": "text/x-python",
   "name": "python",
   "nbconvert_exporter": "python",
   "pygments_lexer": "ipython3",
   "version": "3.11.5"
  }
 },
 "nbformat": 4,
 "nbformat_minor": 5
}
