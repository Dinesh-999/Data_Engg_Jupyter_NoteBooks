{
 "cells": [
  {
   "cell_type": "code",
   "execution_count": null,
   "id": "c94cb058",
   "metadata": {},
   "outputs": [],
   "source": [
    "https://www.linkedin.com/feed/update/urn:li:activity:7148156720240906240/?updateEntityUrn=urn%3Ali%3Afs_updateV2%3A%28urn%3Ali%3Aactivity%3A7148156720240906240%2CFEED_DETAIL%2CEMPTY%2CDEFAULT%2Cfalse%29"
   ]
  },
  {
   "cell_type": "code",
   "execution_count": null,
   "id": "f4a03d8b",
   "metadata": {},
   "outputs": [],
   "source": [
    "https://www.linkedin.com/feed/update/urn:li:activity:7143279947296546816/?updateEntityUrn=urn%3Ali%3Afs_updateV2%3A%28urn%3Ali%3Aactivity%3A7143279947296546816%2CFEED_DETAIL%2CEMPTY%2CDEFAULT%2Cfalse%29"
   ]
  },
  {
   "cell_type": "code",
   "execution_count": null,
   "id": "deee48f1",
   "metadata": {},
   "outputs": [],
   "source": [
    "https://www.linkedin.com/feed/update/urn:li:activity:7148176172818849794/?updateEntityUrn=urn%3Ali%3Afs_updateV2%3A%28urn%3Ali%3Aactivity%3A7148176172818849794%2CFEED_DETAIL%2CEMPTY%2CDEFAULT%2Cfalse%29"
   ]
  },
  {
   "cell_type": "code",
   "execution_count": null,
   "id": "a90783fb",
   "metadata": {},
   "outputs": [],
   "source": [
    "https://www.linkedin.com/feed/update/urn:li:activity:7147791114698207232/?updateEntityUrn=urn%3Ali%3Afs_updateV2%3A%28urn%3Ali%3Aactivity%3A7147791114698207232%2CFEED_DETAIL%2CEMPTY%2CDEFAULT%2Cfalse%29"
   ]
  },
  {
   "cell_type": "code",
   "execution_count": null,
   "id": "46ab7bf8",
   "metadata": {},
   "outputs": [],
   "source": [
    "https://www.linkedin.com/feed/update/urn:li:activity:7144530959424438273/"
   ]
  },
  {
   "cell_type": "code",
   "execution_count": null,
   "id": "b965f7e8",
   "metadata": {},
   "outputs": [],
   "source": [
    "https://www.linkedin.com/feed/update/urn:li:activity:7148362168848089088/?updateEntityUrn=urn%3Ali%3Afs_updateV2%3A%28urn%3Ali%3Aactivity%3A7148362168848089088%2CFEED_DETAIL%2CEMPTY%2CDEFAULT%2Cfalse%29"
   ]
  },
  {
   "cell_type": "code",
   "execution_count": null,
   "id": "03d1687b",
   "metadata": {},
   "outputs": [],
   "source": [
    "https://www.linkedin.com/feed/update/urn:li:activity:7145367126390767617/?updateEntityUrn=urn%3Ali%3Afs_updateV2%3A%28urn%3Ali%3Aactivity%3A7145367126390767617%2CFEED_DETAIL%2CEMPTY%2CDEFAULT%2Cfalse%29"
   ]
  },
  {
   "cell_type": "code",
   "execution_count": null,
   "id": "1557c3da",
   "metadata": {},
   "outputs": [],
   "source": [
    "https://www.linkedin.com/feed/update/urn:li:activity:7148618795442450432/?updateEntityUrn=urn%3Ali%3Afs_updateV2%3A%28urn%3Ali%3Aactivity%3A7148618795442450432%2CFEED_DETAIL%2CEMPTY%2CDEFAULT%2Cfalse%29"
   ]
  },
  {
   "cell_type": "code",
   "execution_count": null,
   "id": "abac6657",
   "metadata": {},
   "outputs": [],
   "source": [
    "https://www.linkedin.com/feed/update/urn:li:activity:7148289610081529856/?updateEntityUrn=urn%3Ali%3Afs_updateV2%3A%28urn%3Ali%3Aactivity%3A7148289610081529856%2CFEED_DETAIL%2CEMPTY%2CDEFAULT%2Cfalse%29"
   ]
  },
  {
   "cell_type": "code",
   "execution_count": null,
   "id": "4b271f4f",
   "metadata": {},
   "outputs": [],
   "source": [
    "https://www.linkedin.com/feed/update/urn:li:activity:7148555735268859905/?updateEntityUrn=urn%3Ali%3Afs_updateV2%3A%28urn%3Ali%3Aactivity%3A7148555735268859905%2CFEED_DETAIL%2CEMPTY%2CDEFAULT%2Cfalse%29"
   ]
  },
  {
   "cell_type": "code",
   "execution_count": null,
   "id": "f3263154",
   "metadata": {},
   "outputs": [],
   "source": [
    "https://www.linkedin.com/feed/update/urn:li:activity:7148571141517754369/?updateEntityUrn=urn%3Ali%3Afs_updateV2%3A%28urn%3Ali%3Aactivity%3A7148571141517754369%2CFEED_DETAIL%2CEMPTY%2CDEFAULT%2Cfalse%29"
   ]
  },
  {
   "cell_type": "code",
   "execution_count": null,
   "id": "80dbf137",
   "metadata": {},
   "outputs": [],
   "source": [
    "https://www.linkedin.com/feed/update/urn:li:activity:7144922825324175360/?updateEntityUrn=urn%3Ali%3Afs_updateV2%3A%28urn%3Ali%3Aactivity%3A7144922825324175360%2CFEED_DETAIL%2CEMPTY%2CDEFAULT%2Cfalse%29"
   ]
  },
  {
   "cell_type": "code",
   "execution_count": null,
   "id": "423c7964",
   "metadata": {},
   "outputs": [],
   "source": [
    "https://www.linkedin.com/feed/update/urn:li:activity:7145077752692432896/?updateEntityUrn=urn%3Ali%3Afs_updateV2%3A%28urn%3Ali%3Aactivity%3A7145077752692432896%2CFEED_DETAIL%2CEMPTY%2CDEFAULT%2Cfalse%29"
   ]
  },
  {
   "cell_type": "code",
   "execution_count": null,
   "id": "11eac5b1",
   "metadata": {},
   "outputs": [],
   "source": [
    "https://www.linkedin.com/feed/update/urn:li:activity:7148567969399267328/?updateEntityUrn=urn%3Ali%3Afs_updateV2%3A%28urn%3Ali%3Aactivity%3A7148567969399267328%2CFEED_DETAIL%2CEMPTY%2CDEFAULT%2Cfalse%29"
   ]
  },
  {
   "cell_type": "code",
   "execution_count": null,
   "id": "2ff66275",
   "metadata": {},
   "outputs": [],
   "source": [
    "https://www.linkedin.com/feed/update/urn:li:activity:7149349776482840576/?updateEntityUrn=urn%3Ali%3Afs_updateV2%3A%28urn%3Ali%3Aactivity%3A7149349776482840576%2CFEED_DETAIL%2CEMPTY%2CDEFAULT%2Cfalse%29"
   ]
  },
  {
   "cell_type": "code",
   "execution_count": null,
   "id": "45667fbf",
   "metadata": {},
   "outputs": [],
   "source": [
    "https://www.youtube.com/watch?v=nKM4f1olwsI"
   ]
  },
  {
   "cell_type": "code",
   "execution_count": null,
   "id": "6336f3d8",
   "metadata": {},
   "outputs": [],
   "source": [
    "https://www.linkedin.com/feed/update/urn:li:activity:7148934893673062401/?updateEntityUrn=urn%3Ali%3Afs_updateV2%3A%28urn%3Ali%3Aactivity%3A7148934893673062401%2CFEED_DETAIL%2CEMPTY%2CDEFAULT%2Cfalse%29"
   ]
  },
  {
   "cell_type": "code",
   "execution_count": null,
   "id": "83d1138d",
   "metadata": {},
   "outputs": [],
   "source": [
    "https://www.linkedin.com/feed/update/urn:li:activity:7144994588540264448/?updateEntityUrn=urn%3Ali%3Afs_updateV2%3A%28urn%3Ali%3Aactivity%3A7144994588540264448%2CFEED_DETAIL%2CEMPTY%2CDEFAULT%2Cfalse%29"
   ]
  },
  {
   "cell_type": "code",
   "execution_count": null,
   "id": "ea29b27e",
   "metadata": {},
   "outputs": [],
   "source": [
    "https://www.linkedin.com/feed/update/urn:li:activity:7144701677076459520/?updateEntityUrn=urn%3Ali%3Afs_updateV2%3A%28urn%3Ali%3Aactivity%3A7144701677076459520%2CFEED_DETAIL%2CEMPTY%2CDEFAULT%2Cfalse%29"
   ]
  },
  {
   "cell_type": "code",
   "execution_count": null,
   "id": "aef05ac9",
   "metadata": {},
   "outputs": [],
   "source": [
    "https://www.linkedin.com/feed/update/urn:li:activity:7149445589309566976/?updateEntityUrn=urn%3Ali%3Afs_updateV2%3A%28urn%3Ali%3Aactivity%3A7149445589309566976%2CFEED_DETAIL%2CEMPTY%2CDEFAULT%2Cfalse%29"
   ]
  },
  {
   "cell_type": "code",
   "execution_count": null,
   "id": "8bf8db2d",
   "metadata": {},
   "outputs": [],
   "source": [
    "https://www.linkedin.com/feed/update/urn:li:activity:7149368100776284160/?updateEntityUrn=urn%3Ali%3Afs_updateV2%3A%28urn%3Ali%3Aactivity%3A7149368100776284160%2CFEED_DETAIL%2CEMPTY%2CDEFAULT%2Cfalse%29"
   ]
  },
  {
   "cell_type": "code",
   "execution_count": null,
   "id": "1501b3e4",
   "metadata": {},
   "outputs": [],
   "source": [
    "https://www.linkedin.com/feed/update/urn:li:activity:7149603058916794368/?updateEntityUrn=urn%3Ali%3Afs_updateV2%3A%28urn%3Ali%3Aactivity%3A7149603058916794368%2CFEED_DETAIL%2CEMPTY%2CDEFAULT%2Cfalse%29"
   ]
  },
  {
   "cell_type": "code",
   "execution_count": null,
   "id": "94d72832",
   "metadata": {},
   "outputs": [],
   "source": [
    "https://www.linkedin.com/feed/update/urn:li:activity:7148920331431247872/?updateEntityUrn=urn%3Ali%3Afs_updateV2%3A%28urn%3Ali%3Aactivity%3A7148920331431247872%2CFEED_DETAIL%2CEMPTY%2CDEFAULT%2Cfalse%29"
   ]
  },
  {
   "cell_type": "code",
   "execution_count": null,
   "id": "e9bd930b",
   "metadata": {},
   "outputs": [],
   "source": [
    "https://www.linkedin.com/feed/update/urn:li:activity:7146726600573702144/?updateEntityUrn=urn%3Ali%3Afs_updateV2%3A%28urn%3Ali%3Aactivity%3A7146726600573702144%2CFEED_DETAIL%2CEMPTY%2CDEFAULT%2Cfalse%29"
   ]
  },
  {
   "cell_type": "code",
   "execution_count": null,
   "id": "abfc5ad9",
   "metadata": {},
   "outputs": [],
   "source": [
    "https://www.linkedin.com/feed/update/urn:li:activity:7149063297512685568/?updateEntityUrn=urn%3Ali%3Afs_updateV2%3A%28urn%3Ali%3Aactivity%3A7149063297512685568%2CFEED_DETAIL%2CEMPTY%2CDEFAULT%2Cfalse%29"
   ]
  },
  {
   "cell_type": "code",
   "execution_count": null,
   "id": "316cc36a",
   "metadata": {},
   "outputs": [],
   "source": [
    "https://www.linkedin.com/feed/update/urn:li:activity:7149348962607542272/?updateEntityUrn=urn%3Ali%3Afs_updateV2%3A%28urn%3Ali%3Aactivity%3A7149348962607542272%2CFEED_DETAIL%2CEMPTY%2CDEFAULT%2Cfalse%29"
   ]
  },
  {
   "cell_type": "code",
   "execution_count": null,
   "id": "93e674ea",
   "metadata": {},
   "outputs": [],
   "source": [
    "https://www.linkedin.com/feed/update/urn:li:activity:7149810078815072257/?updateEntityUrn=urn%3Ali%3Afs_updateV2%3A%28urn%3Ali%3Aactivity%3A7149810078815072257%2CFEED_DETAIL%2CEMPTY%2CDEFAULT%2Cfalse%29"
   ]
  },
  {
   "cell_type": "code",
   "execution_count": null,
   "id": "110d7bd1",
   "metadata": {},
   "outputs": [],
   "source": [
    "https://www.linkedin.com/feed/update/urn:li:activity:7148615649345298432/?updateEntityUrn=urn%3Ali%3Afs_updateV2%3A%28urn%3Ali%3Aactivity%3A7148615649345298432%2CFEED_DETAIL%2CEMPTY%2CDEFAULT%2Cfalse%29"
   ]
  },
  {
   "cell_type": "code",
   "execution_count": null,
   "id": "21dd2c1e",
   "metadata": {},
   "outputs": [],
   "source": [
    "https://www.linkedin.com/feed/update/urn:li:activity:7149957917532663808/?updateEntityUrn=urn%3Ali%3Afs_updateV2%3A%28urn%3Ali%3Aactivity%3A7149957917532663808%2CFEED_DETAIL%2CEMPTY%2CDEFAULT%2Cfalse%29"
   ]
  },
  {
   "cell_type": "code",
   "execution_count": null,
   "id": "d5f730e1",
   "metadata": {},
   "outputs": [],
   "source": [
    "https://www.linkedin.com/feed/update/urn:li:activity:7149775261151010816/?updateEntityUrn=urn%3Ali%3Afs_updateV2%3A%28urn%3Ali%3Aactivity%3A7149775261151010816%2CFEED_DETAIL%2CEMPTY%2CDEFAULT%2Cfalse%29"
   ]
  },
  {
   "cell_type": "code",
   "execution_count": null,
   "id": "54cb872e",
   "metadata": {},
   "outputs": [],
   "source": [
    "https://www.linkedin.com/feed/update/urn:li:activity:7150484346481573889/?updateEntityUrn=urn%3Ali%3Afs_updateV2%3A%28urn%3Ali%3Aactivity%3A7150484346481573889%2CFEED_DETAIL%2CEMPTY%2CDEFAULT%2Cfalse%29"
   ]
  },
  {
   "cell_type": "code",
   "execution_count": null,
   "id": "70a12b7c",
   "metadata": {},
   "outputs": [],
   "source": [
    "https://www.linkedin.com/feed/update/urn:li:activity:7149995383992098818/?updateEntityUrn=urn%3Ali%3Afs_updateV2%3A%28urn%3Ali%3Aactivity%3A7149995383992098818%2CFEED_DETAIL%2CEMPTY%2CDEFAULT%2Cfalse%29"
   ]
  },
  {
   "cell_type": "code",
   "execution_count": null,
   "id": "ad6d9c8f",
   "metadata": {},
   "outputs": [],
   "source": [
    "https://www.linkedin.com/feed/update/urn:li:activity:7150123003370950656/?updateEntityUrn=urn%3Ali%3Afs_updateV2%3A%28urn%3Ali%3Aactivity%3A7150123003370950656%2CFEED_DETAIL%2CEMPTY%2CDEFAULT%2Cfalse%29\n",
    "                \n",
    "https://github.com/wasim7568/Pyspark-Interview-Questions/blob/main/Pyspark%20Interview%20Qns%20-%20part(2).ipynb    "
   ]
  },
  {
   "cell_type": "code",
   "execution_count": null,
   "id": "b47ff1ad",
   "metadata": {},
   "outputs": [],
   "source": [
    "https://www.linkedin.com/feed/update/urn:li:activity:7150466017037533184/?updateEntityUrn=urn%3Ali%3Afs_updateV2%3A%28urn%3Ali%3Aactivity%3A7150466017037533184%2CFEED_DETAIL%2CEMPTY%2CDEFAULT%2Cfalse%29"
   ]
  },
  {
   "cell_type": "code",
   "execution_count": null,
   "id": "38c45292",
   "metadata": {},
   "outputs": [],
   "source": [
    "https://www.linkedin.com/feed/update/urn:li:activity:7149995717846110208/?updateEntityUrn=urn%3Ali%3Afs_updateV2%3A%28urn%3Ali%3Aactivity%3A7149995717846110208%2CFEED_DETAIL%2CEMPTY%2CDEFAULT%2Cfalse%29"
   ]
  },
  {
   "cell_type": "code",
   "execution_count": null,
   "id": "75ed2a07",
   "metadata": {},
   "outputs": [],
   "source": [
    "https://www.linkedin.com/feed/update/urn:li:activity:7147854632831074304/?updateEntityUrn=urn%3Ali%3Afs_updateV2%3A%28urn%3Ali%3Aactivity%3A7147854632831074304%2CFEED_DETAIL%2CEMPTY%2CDEFAULT%2Cfalse%29"
   ]
  },
  {
   "cell_type": "code",
   "execution_count": null,
   "id": "0421eebc",
   "metadata": {},
   "outputs": [],
   "source": [
    "https://www.linkedin.com/feed/update/urn:li:activity:7150390534220537856/?updateEntityUrn=urn%3Ali%3Afs_updateV2%3A%28urn%3Ali%3Aactivity%3A7150390534220537856%2CFEED_DETAIL%2CEMPTY%2CDEFAULT%2Cfalse%29"
   ]
  },
  {
   "cell_type": "code",
   "execution_count": null,
   "id": "d986a25b",
   "metadata": {},
   "outputs": [],
   "source": [
    "https://www.linkedin.com/feed/update/urn:li:activity:7150682672674025472/?updateEntityUrn=urn%3Ali%3Afs_updateV2%3A%28urn%3Ali%3Aactivity%3A7150682672674025472%2CFEED_DETAIL%2CEMPTY%2CDEFAULT%2Cfalse%29"
   ]
  },
  {
   "cell_type": "code",
   "execution_count": null,
   "id": "95f75502",
   "metadata": {},
   "outputs": [],
   "source": [
    "https://www.linkedin.com/feed/update/urn:li:activity:7150516342243098624/?updateEntityUrn=urn%3Ali%3Afs_updateV2%3A%28urn%3Ali%3Aactivity%3A7150516342243098624%2CFEED_DETAIL%2CEMPTY%2CDEFAULT%2Cfalse%29"
   ]
  },
  {
   "cell_type": "code",
   "execution_count": null,
   "id": "983ba177",
   "metadata": {},
   "outputs": [],
   "source": [
    "https://www.linkedin.com/feed/update/urn:li:activity:7149823920274030594/?updateEntityUrn=urn%3Ali%3Afs_updateV2%3A%28urn%3Ali%3Aactivity%3A7149823920274030594%2CFEED_DETAIL%2CEMPTY%2CDEFAULT%2Cfalse%29"
   ]
  },
  {
   "cell_type": "code",
   "execution_count": null,
   "id": "fb8c9031",
   "metadata": {},
   "outputs": [],
   "source": [
    "https://www.linkedin.com/feed/update/urn:li:activity:7147996830356619264/?updateEntityUrn=urn%3Ali%3Afs_updateV2%3A%28urn%3Ali%3Aactivity%3A7147996830356619264%2CFEED_DETAIL%2CEMPTY%2CDEFAULT%2Cfalse%29"
   ]
  },
  {
   "cell_type": "code",
   "execution_count": null,
   "id": "1a6e51b5",
   "metadata": {},
   "outputs": [],
   "source": [
    "https://www.linkedin.com/feed/update/urn:li:activity:7148359540881731584/?updateEntityUrn=urn%3Ali%3Afs_updateV2%3A%28urn%3Ali%3Aactivity%3A7148359540881731584%2CFEED_DETAIL%2CEMPTY%2CDEFAULT%2Cfalse%29"
   ]
  },
  {
   "cell_type": "code",
   "execution_count": null,
   "id": "56f474a6",
   "metadata": {},
   "outputs": [],
   "source": [
    "https://www.linkedin.com/feed/update/urn:li:activity:7145824827172397056/?updateEntityUrn=urn%3Ali%3Afs_updateV2%3A%28urn%3Ali%3Aactivity%3A7145824827172397056%2CFEED_DETAIL%2CEMPTY%2CDEFAULT%2Cfalse%29"
   ]
  },
  {
   "cell_type": "code",
   "execution_count": null,
   "id": "4097e9c9",
   "metadata": {},
   "outputs": [],
   "source": [
    "https://www.linkedin.com/feed/update/urn:li:activity:7151070921523347456/?updateEntityUrn=urn%3Ali%3Afs_updateV2%3A%28urn%3Ali%3Aactivity%3A7151070921523347456%2CFEED_DETAIL%2CEMPTY%2CDEFAULT%2Cfalse%29"
   ]
  },
  {
   "cell_type": "code",
   "execution_count": null,
   "id": "434f1a5f",
   "metadata": {},
   "outputs": [],
   "source": [
    "https://www.linkedin.com/feed/update/urn:li:activity:7151108132637687808/?updateEntityUrn=urn%3Ali%3Afs_updateV2%3A%28urn%3Ali%3Aactivity%3A7151108132637687808%2CFEED_DETAIL%2CEMPTY%2CDEFAULT%2Cfalse%29"
   ]
  },
  {
   "cell_type": "code",
   "execution_count": null,
   "id": "d390f6e8",
   "metadata": {},
   "outputs": [],
   "source": [
    "https://www.linkedin.com/feed/update/urn:li:activity:7150862288000901120/?updateEntityUrn=urn%3Ali%3Afs_updateV2%3A%28urn%3Ali%3Aactivity%3A7150862288000901120%2CFEED_DETAIL%2CEMPTY%2CDEFAULT%2Cfalse%29"
   ]
  },
  {
   "cell_type": "code",
   "execution_count": null,
   "id": "87629dae",
   "metadata": {},
   "outputs": [],
   "source": [
    "https://www.linkedin.com/feed/update/urn:li:activity:7150445338514956288/?updateEntityUrn=urn%3Ali%3Afs_updateV2%3A%28urn%3Ali%3Aactivity%3A7150445338514956288%2CFEED_DETAIL%2CEMPTY%2CDEFAULT%2Cfalse%29"
   ]
  },
  {
   "cell_type": "code",
   "execution_count": null,
   "id": "a2b1ea21",
   "metadata": {},
   "outputs": [],
   "source": [
    "https://www.linkedin.com/feed/update/urn:li:activity:7150750862452187136/?updateEntityUrn=urn%3Ali%3Afs_updateV2%3A%28urn%3Ali%3Aactivity%3A7150750862452187136%2CFEED_DETAIL%2CEMPTY%2CDEFAULT%2Cfalse%29"
   ]
  },
  {
   "cell_type": "code",
   "execution_count": null,
   "id": "44f568f5",
   "metadata": {},
   "outputs": [],
   "source": [
    "https://www.linkedin.com/feed/update/urn:li:activity:7145786513291657216/?updateEntityUrn=urn%3Ali%3Afs_updateV2%3A%28urn%3Ali%3Aactivity%3A7145786513291657216%2CFEED_DETAIL%2CEMPTY%2CDEFAULT%2Cfalse%29"
   ]
  },
  {
   "cell_type": "code",
   "execution_count": null,
   "id": "11c89432",
   "metadata": {},
   "outputs": [],
   "source": [
    "https://www.linkedin.com/feed/update/urn:li:activity:7150712875810963457/?updateEntityUrn=urn%3Ali%3Afs_updateV2%3A%28urn%3Ali%3Aactivity%3A7150712875810963457%2CFEED_DETAIL%2CEMPTY%2CDEFAULT%2Cfalse%29"
   ]
  },
  {
   "cell_type": "code",
   "execution_count": null,
   "id": "e92b9f79",
   "metadata": {},
   "outputs": [],
   "source": [
    "https://www.linkedin.com/feed/update/urn:li:activity:7150659612998893568/?updateEntityUrn=urn%3Ali%3Afs_updateV2%3A%28urn%3Ali%3Aactivity%3A7150659612998893568%2CFEED_DETAIL%2CEMPTY%2CDEFAULT%2Cfalse%29"
   ]
  },
  {
   "cell_type": "code",
   "execution_count": null,
   "id": "2c590cfa",
   "metadata": {},
   "outputs": [],
   "source": [
    "https://www.linkedin.com/feed/update/urn:li:activity:7150907209516744704/?updateEntityUrn=urn%3Ali%3Afs_updateV2%3A%28urn%3Ali%3Aactivity%3A7150907209516744704%2CFEED_DETAIL%2CEMPTY%2CDEFAULT%2Cfalse%29"
   ]
  },
  {
   "cell_type": "code",
   "execution_count": null,
   "id": "8b15f901",
   "metadata": {},
   "outputs": [],
   "source": [
    "https://www.linkedin.com/feed/update/urn:li:activity:7151420551943598080/?updateEntityUrn=urn%3Ali%3Afs_updateV2%3A%28urn%3Ali%3Aactivity%3A7151420551943598080%2CFEED_DETAIL%2CEMPTY%2CDEFAULT%2Cfalse%29"
   ]
  },
  {
   "cell_type": "code",
   "execution_count": null,
   "id": "f94883f6",
   "metadata": {},
   "outputs": [],
   "source": [
    "https://www.linkedin.com/posts/iamanuragsharma17_datamentorship-connectwithme-dataengineering-activity-7150721096835653633-lFrz?utm_source=share&utm_medium=member_desktop\n",
    "    \n",
    "https://www.linkedin.com/feed/update/urn:li:activity:7150721096835653633/"
   ]
  },
  {
   "cell_type": "code",
   "execution_count": null,
   "id": "03f66408",
   "metadata": {},
   "outputs": [],
   "source": [
    "https://www.linkedin.com/feed/update/urn:li:activity:7151060156066279424/?updateEntityUrn=urn%3Ali%3Afs_updateV2%3A%28urn%3Ali%3Aactivity%3A7151060156066279424%2CFEED_DETAIL%2CEMPTY%2CDEFAULT%2Cfalse%29"
   ]
  },
  {
   "cell_type": "code",
   "execution_count": null,
   "id": "0deafe45",
   "metadata": {},
   "outputs": [],
   "source": [
    "https://www.linkedin.com/feed/update/urn:li:activity:7150917211384168448/?updateEntityUrn=urn%3Ali%3Afs_updateV2%3A%28urn%3Ali%3Aactivity%3A7150917211384168448%2CFEED_DETAIL%2CEMPTY%2CDEFAULT%2Cfalse%29"
   ]
  },
  {
   "cell_type": "code",
   "execution_count": null,
   "id": "574925a6",
   "metadata": {},
   "outputs": [],
   "source": [
    "https://www.linkedin.com/feed/update/urn:li:activity:7151007306690826242/?updateEntityUrn=urn%3Ali%3Afs_updateV2%3A%28urn%3Ali%3Aactivity%3A7151007306690826242%2CFEED_DETAIL%2CEMPTY%2CDEFAULT%2Cfalse%29"
   ]
  },
  {
   "cell_type": "code",
   "execution_count": null,
   "id": "1a801c73",
   "metadata": {},
   "outputs": [],
   "source": [
    "https://www.linkedin.com/feed/update/urn:li:activity:7148948365177749504/?updateEntityUrn=urn%3Ali%3Afs_updateV2%3A%28urn%3Ali%3Aactivity%3A7148948365177749504%2CFEED_DETAIL%2CEMPTY%2CDEFAULT%2Cfalse%29"
   ]
  },
  {
   "cell_type": "code",
   "execution_count": null,
   "id": "366af6cb",
   "metadata": {},
   "outputs": [],
   "source": [
    "https://www.linkedin.com/feed/update/urn:li:activity:7148702019610959872/?updateEntityUrn=urn%3Ali%3Afs_updateV2%3A%28urn%3Ali%3Aactivity%3A7148702019610959872%2CFEED_DETAIL%2CEMPTY%2CDEFAULT%2Cfalse%29"
   ]
  },
  {
   "cell_type": "code",
   "execution_count": null,
   "id": "7b54d672",
   "metadata": {},
   "outputs": [],
   "source": [
    "https://www.linkedin.com/feed/update/urn:li:activity:7151569216641421312/?updateEntityUrn=urn%3Ali%3Afs_updateV2%3A%28urn%3Ali%3Aactivity%3A7151569216641421312%2CFEED_DETAIL%2CEMPTY%2CDEFAULT%2Cfalse%29"
   ]
  },
  {
   "cell_type": "code",
   "execution_count": null,
   "id": "49b4021f",
   "metadata": {},
   "outputs": [],
   "source": [
    "https://www.linkedin.com/feed/update/urn:li:activity:7151852888787427330/?updateEntityUrn=urn%3Ali%3Afs_updateV2%3A%28urn%3Ali%3Aactivity%3A7151852888787427330%2CFEED_DETAIL%2CEMPTY%2CDEFAULT%2Cfalse%29"
   ]
  },
  {
   "cell_type": "code",
   "execution_count": null,
   "id": "c1c8768f",
   "metadata": {},
   "outputs": [],
   "source": [
    "https://www.linkedin.com/feed/update/urn:li:activity:7152154877756923904/?updateEntityUrn=urn%3Ali%3Afs_updateV2%3A%28urn%3Ali%3Aactivity%3A7152154877756923904%2CFEED_DETAIL%2CEMPTY%2CDEFAULT%2Cfalse%29"
   ]
  },
  {
   "cell_type": "code",
   "execution_count": null,
   "id": "2e9ce467",
   "metadata": {},
   "outputs": [],
   "source": [
    "https://www.linkedin.com/feed/update/urn:li:activity:7152173735922327553/?updateEntityUrn=urn%3Ali%3Afs_updateV2%3A%28urn%3Ali%3Aactivity%3A7152173735922327553%2CFEED_DETAIL%2CEMPTY%2CDEFAULT%2Cfalse%29"
   ]
  },
  {
   "cell_type": "code",
   "execution_count": null,
   "id": "1f9e2205",
   "metadata": {},
   "outputs": [],
   "source": [
    "https://www.linkedin.com/feed/update/urn:li:activity:7151794820888285184/?updateEntityUrn=urn%3Ali%3Afs_updateV2%3A%28urn%3Ali%3Aactivity%3A7151794820888285184%2CFEED_DETAIL%2CEMPTY%2CDEFAULT%2Cfalse%29"
   ]
  },
  {
   "cell_type": "code",
   "execution_count": null,
   "id": "3a496cb1",
   "metadata": {},
   "outputs": [],
   "source": [
    "https://www.linkedin.com/feed/update/urn:li:activity:7151070732863586305/?updateEntityUrn=urn%3Ali%3Afs_updateV2%3A%28urn%3Ali%3Aactivity%3A7151070732863586305%2CFEED_DETAIL%2CEMPTY%2CDEFAULT%2Cfalse%29"
   ]
  },
  {
   "cell_type": "code",
   "execution_count": null,
   "id": "7e2690f1",
   "metadata": {},
   "outputs": [],
   "source": [
    "https://www.linkedin.com/feed/update/urn:li:activity:7151559112894373888/?updateEntityUrn=urn%3Ali%3Afs_updateV2%3A%28urn%3Ali%3Aactivity%3A7151559112894373888%2CFEED_DETAIL%2CEMPTY%2CDEFAULT%2Cfalse%29"
   ]
  },
  {
   "cell_type": "code",
   "execution_count": null,
   "id": "147a5ea5",
   "metadata": {},
   "outputs": [],
   "source": [
    "https://www.linkedin.com/feed/update/urn:li:activity:7151491661305368576/?updateEntityUrn=urn%3Ali%3Afs_updateV2%3A%28urn%3Ali%3Aactivity%3A7151491661305368576%2CFEED_DETAIL%2CEMPTY%2CDEFAULT%2Cfalse%29"
   ]
  },
  {
   "cell_type": "code",
   "execution_count": null,
   "id": "061ab741",
   "metadata": {},
   "outputs": [],
   "source": [
    "https://www.linkedin.com/feed/update/urn:li:activity:7152894750839209985/?updateEntityUrn=urn%3Ali%3Afs_updateV2%3A%28urn%3Ali%3Aactivity%3A7152894750839209985%2CFEED_DETAIL%2CEMPTY%2CDEFAULT%2Cfalse%29"
   ]
  },
  {
   "cell_type": "code",
   "execution_count": null,
   "id": "a3dcb61e",
   "metadata": {},
   "outputs": [],
   "source": [
    "https://www.linkedin.com/feed/update/urn:li:activity:7152591863391141888/?updateEntityUrn=urn%3Ali%3Afs_updateV2%3A%28urn%3Ali%3Aactivity%3A7152591863391141888%2CFEED_DETAIL%2CEMPTY%2CDEFAULT%2Cfalse%29"
   ]
  },
  {
   "cell_type": "code",
   "execution_count": null,
   "id": "024c297b",
   "metadata": {},
   "outputs": [],
   "source": [
    "https://www.linkedin.com/feed/update/urn:li:activity:7152565866826493952/?updateEntityUrn=urn%3Ali%3Afs_updateV2%3A%28urn%3Ali%3Aactivity%3A7152565866826493952%2CFEED_DETAIL%2CEMPTY%2CDEFAULT%2Cfalse%29#"
   ]
  },
  {
   "cell_type": "code",
   "execution_count": null,
   "id": "42e7dc88",
   "metadata": {},
   "outputs": [],
   "source": [
    "https://www.linkedin.com/feed/update/urn:li:activity:7152695154712223745/?updateEntityUrn=urn%3Ali%3Afs_updateV2%3A%28urn%3Ali%3Aactivity%3A7152695154712223745%2CFEED_DETAIL%2CEMPTY%2CDEFAULT%2Cfalse%29"
   ]
  },
  {
   "cell_type": "code",
   "execution_count": null,
   "id": "2f721ebc",
   "metadata": {},
   "outputs": [],
   "source": [
    "https://www.linkedin.com/feed/update/urn:li:activity:7151490491744698369/?updateEntityUrn=urn%3Ali%3Afs_updateV2%3A%28urn%3Ali%3Aactivity%3A7151490491744698369%2CFEED_DETAIL%2CEMPTY%2CDEFAULT%2Cfalse%29"
   ]
  },
  {
   "cell_type": "code",
   "execution_count": null,
   "id": "9bcb48ad",
   "metadata": {},
   "outputs": [],
   "source": [
    "https://www.linkedin.com/feed/update/urn:li:activity:7152557567200649216/?updateEntityUrn=urn%3Ali%3Afs_updateV2%3A%28urn%3Ali%3Aactivity%3A7152557567200649216%2CFEED_DETAIL%2CEMPTY%2CDEFAULT%2Cfalse%29"
   ]
  },
  {
   "cell_type": "code",
   "execution_count": null,
   "id": "dd46a1bd",
   "metadata": {},
   "outputs": [],
   "source": [
    "https://www.linkedin.com/feed/update/urn:li:activity:7152399391113334784/?updateEntityUrn=urn%3Ali%3Afs_updateV2%3A%28urn%3Ali%3Aactivity%3A7152399391113334784%2CFEED_DETAIL%2CEMPTY%2CDEFAULT%2Cfalse%29"
   ]
  },
  {
   "cell_type": "code",
   "execution_count": null,
   "id": "01487074",
   "metadata": {},
   "outputs": [],
   "source": [
    "https://www.linkedin.com/feed/update/urn:li:activity:7152346770516111361/?updateEntityUrn=urn%3Ali%3Afs_updateV2%3A%28urn%3Ali%3Aactivity%3A7152346770516111361%2CFEED_DETAIL%2CEMPTY%2CDEFAULT%2Cfalse%29"
   ]
  },
  {
   "cell_type": "code",
   "execution_count": null,
   "id": "fb4c12c5",
   "metadata": {},
   "outputs": [],
   "source": [
    "https://www.linkedin.com/feed/update/urn:li:activity:7152176646609879040/?updateEntityUrn=urn%3Ali%3Afs_updateV2%3A%28urn%3Ali%3Aactivity%3A7152176646609879040%2CFEED_DETAIL%2CEMPTY%2CDEFAULT%2Cfalse%29"
   ]
  },
  {
   "cell_type": "code",
   "execution_count": null,
   "id": "a016e4a2",
   "metadata": {},
   "outputs": [],
   "source": [
    "https://www.linkedin.com/feed/update/urn:li:activity:7152983861558214657/?updateEntityUrn=urn%3Ali%3Afs_updateV2%3A%28urn%3Ali%3Aactivity%3A7152983861558214657%2CFEED_DETAIL%2CEMPTY%2CDEFAULT%2Cfalse%29"
   ]
  },
  {
   "cell_type": "code",
   "execution_count": null,
   "id": "653dc4a3",
   "metadata": {},
   "outputs": [],
   "source": [
    "https://www.linkedin.com/feed/update/urn:li:activity:7153344606955343872/?updateEntityUrn=urn%3Ali%3Afs_updateV2%3A%28urn%3Ali%3Aactivity%3A7153344606955343872%2CFEED_DETAIL%2CEMPTY%2CDEFAULT%2Cfalse%29#"
   ]
  },
  {
   "cell_type": "code",
   "execution_count": null,
   "id": "52ddddc2",
   "metadata": {},
   "outputs": [],
   "source": [
    "https://www.linkedin.com/feed/update/urn:li:activity:7152924995801821185/?updateEntityUrn=urn%3Ali%3Afs_updateV2%3A%28urn%3Ali%3Aactivity%3A7152924995801821185%2CFEED_DETAIL%2CEMPTY%2CDEFAULT%2Cfalse%29"
   ]
  },
  {
   "cell_type": "code",
   "execution_count": null,
   "id": "390ae5f1",
   "metadata": {},
   "outputs": [],
   "source": [
    "https://www.linkedin.com/feed/update/urn:li:activity:7153594278009552896/?updateEntityUrn=urn%3Ali%3Afs_updateV2%3A%28urn%3Ali%3Aactivity%3A7153594278009552896%2CFEED_DETAIL%2CEMPTY%2CDEFAULT%2Cfalse%29"
   ]
  },
  {
   "cell_type": "code",
   "execution_count": null,
   "id": "14d96911",
   "metadata": {},
   "outputs": [],
   "source": [
    "https://www.linkedin.com/feed/update/urn:li:activity:7149777778974859264/?updateEntityUrn=urn%3Ali%3Afs_updateV2%3A%28urn%3Ali%3Aactivity%3A7149777778974859264%2CFEED_DETAIL%2CEMPTY%2CDEFAULT%2Cfalse%29"
   ]
  },
  {
   "cell_type": "code",
   "execution_count": null,
   "id": "12597656",
   "metadata": {},
   "outputs": [],
   "source": [
    "https://www.linkedin.com/feed/update/urn:li:activity:7153428290911780864/?updateEntityUrn=urn%3Ali%3Afs_updateV2%3A%28urn%3Ali%3Aactivity%3A7153428290911780864%2CFEED_DETAIL%2CEMPTY%2CDEFAULT%2Cfalse%29"
   ]
  },
  {
   "cell_type": "code",
   "execution_count": null,
   "id": "bea49db3",
   "metadata": {},
   "outputs": [],
   "source": [
    "https://www.linkedin.com/feed/update/urn:li:activity:7153375310795739137/?updateEntityUrn=urn%3Ali%3Afs_updateV2%3A%28urn%3Ali%3Aactivity%3A7153375310795739137%2CFEED_DETAIL%2CEMPTY%2CDEFAULT%2Cfalse%29"
   ]
  },
  {
   "cell_type": "code",
   "execution_count": null,
   "id": "5e4ee49f",
   "metadata": {},
   "outputs": [],
   "source": [
    "https://www.linkedin.com/feed/update/urn:li:activity:7153339190372356096/?updateEntityUrn=urn%3Ali%3Afs_updateV2%3A%28urn%3Ali%3Aactivity%3A7153339190372356096%2CFEED_DETAIL%2CEMPTY%2CDEFAULT%2Cfalse%29"
   ]
  },
  {
   "cell_type": "code",
   "execution_count": null,
   "id": "747c6d0f",
   "metadata": {},
   "outputs": [],
   "source": [
    "https://www.linkedin.com/feed/update/urn:li:activity:7148726812171313154/?updateEntityUrn=urn%3Ali%3Afs_updateV2%3A%28urn%3Ali%3Aactivity%3A7148726812171313154%2CFEED_DETAIL%2CEMPTY%2CDEFAULT%2Cfalse%29"
   ]
  },
  {
   "cell_type": "code",
   "execution_count": null,
   "id": "12579615",
   "metadata": {},
   "outputs": [],
   "source": [
    "https://www.linkedin.com/feed/update/urn:li:activity:7153632525385351169/?updateEntityUrn=urn%3Ali%3Afs_updateV2%3A%28urn%3Ali%3Aactivity%3A7153632525385351169%2CFEED_DETAIL%2CEMPTY%2CDEFAULT%2Cfalse%29"
   ]
  },
  {
   "cell_type": "code",
   "execution_count": null,
   "id": "65dc968c",
   "metadata": {},
   "outputs": [],
   "source": [
    "https://www.linkedin.com/feed/update/urn:li:activity:7153723731733872640/?updateEntityUrn=urn%3Ali%3Afs_updateV2%3A%28urn%3Ali%3Aactivity%3A7153723731733872640%2CFEED_DETAIL%2CEMPTY%2CDEFAULT%2Cfalse%29"
   ]
  },
  {
   "cell_type": "code",
   "execution_count": null,
   "id": "6e1fd730",
   "metadata": {},
   "outputs": [],
   "source": [
    "https://www.linkedin.com/feed/update/urn:li:activity:7153257141368238081/?updateEntityUrn=urn%3Ali%3Afs_updateV2%3A%28urn%3Ali%3Aactivity%3A7153257141368238081%2CFEED_DETAIL%2CEMPTY%2CDEFAULT%2Cfalse%29"
   ]
  },
  {
   "cell_type": "code",
   "execution_count": null,
   "id": "ac6148d3",
   "metadata": {},
   "outputs": [],
   "source": [
    "https://www.linkedin.com/feed/update/urn:li:activity:7153242052229505026/?updateEntityUrn=urn%3Ali%3Afs_updateV2%3A%28urn%3Ali%3Aactivity%3A7153242052229505026%2CFEED_DETAIL%2CEMPTY%2CDEFAULT%2Cfalse%29"
   ]
  },
  {
   "cell_type": "code",
   "execution_count": null,
   "id": "34bb5a03",
   "metadata": {},
   "outputs": [],
   "source": [
    "https://www.linkedin.com/feed/update/urn:li:activity:7153226935312015361/?updateEntityUrn=urn%3Ali%3Afs_updateV2%3A%28urn%3Ali%3Aactivity%3A7153226935312015361%2CFEED_DETAIL%2CEMPTY%2CDEFAULT%2Cfalse%29"
   ]
  },
  {
   "cell_type": "code",
   "execution_count": null,
   "id": "c61ea094",
   "metadata": {},
   "outputs": [],
   "source": [
    "https://www.linkedin.com/feed/update/urn:li:activity:7152873301529251841/?updateEntityUrn=urn%3Ali%3Afs_updateV2%3A%28urn%3Ali%3Aactivity%3A7152873301529251841%2CFEED_DETAIL%2CEMPTY%2CDEFAULT%2Cfalse%29"
   ]
  },
  {
   "cell_type": "code",
   "execution_count": null,
   "id": "d4ac9d32",
   "metadata": {},
   "outputs": [],
   "source": [
    "https://www.linkedin.com/feed/update/urn:li:activity:7153674536490565633/?updateEntityUrn=urn%3Ali%3Afs_updateV2%3A%28urn%3Ali%3Aactivity%3A7153674536490565633%2CFEED_DETAIL%2CEMPTY%2CDEFAULT%2Cfalse%29#"
   ]
  },
  {
   "cell_type": "code",
   "execution_count": null,
   "id": "fdedca3b",
   "metadata": {},
   "outputs": [],
   "source": [
    "https://www.linkedin.com/feed/update/urn:li:activity:7153769260287188992/?updateEntityUrn=urn%3Ali%3Afs_updateV2%3A%28urn%3Ali%3Aactivity%3A7153769260287188992%2CFEED_DETAIL%2CEMPTY%2CDEFAULT%2Cfalse%29"
   ]
  },
  {
   "cell_type": "code",
   "execution_count": null,
   "id": "efb9829e",
   "metadata": {},
   "outputs": [],
   "source": [
    "https://www.linkedin.com/feed/update/urn:li:activity:7153649088796704768/"
   ]
  },
  {
   "cell_type": "code",
   "execution_count": null,
   "id": "f1399b29",
   "metadata": {},
   "outputs": [],
   "source": [
    "https://www.linkedin.com/feed/update/urn:li:activity:7153746072639582211/?updateEntityUrn=urn%3Ali%3Afs_updateV2%3A%28urn%3Ali%3Aactivity%3A7153746072639582211%2CFEED_DETAIL%2CEMPTY%2CDEFAULT%2Cfalse%29"
   ]
  },
  {
   "cell_type": "code",
   "execution_count": null,
   "id": "dae289fc",
   "metadata": {},
   "outputs": [],
   "source": [
    "https://www.linkedin.com/feed/update/urn:li:activity:7153723759638536192/?updateEntityUrn=urn%3Ali%3Afs_updateV2%3A%28urn%3Ali%3Aactivity%3A7153723759638536192%2CFEED_DETAIL%2CEMPTY%2CDEFAULT%2Cfalse%29"
   ]
  },
  {
   "cell_type": "code",
   "execution_count": null,
   "id": "f569c2e9",
   "metadata": {},
   "outputs": [],
   "source": [
    "https://www.linkedin.com/feed/update/urn:li:activity:7153278163605737472/?updateEntityUrn=urn%3Ali%3Afs_updateV2%3A%28urn%3Ali%3Aactivity%3A7153278163605737472%2CFEED_DETAIL%2CEMPTY%2CDEFAULT%2Cfalse%29"
   ]
  },
  {
   "cell_type": "code",
   "execution_count": null,
   "id": "65977c9e",
   "metadata": {},
   "outputs": [],
   "source": [
    "https://www.linkedin.com/feed/update/urn:li:activity:7153958273434464256/?updateEntityUrn=urn%3Ali%3Afs_updateV2%3A%28urn%3Ali%3Aactivity%3A7153958273434464256%2CFEED_DETAIL%2CEMPTY%2CDEFAULT%2Cfalse%29"
   ]
  },
  {
   "cell_type": "code",
   "execution_count": null,
   "id": "7d68aa55",
   "metadata": {},
   "outputs": [],
   "source": [
    "https://www.linkedin.com/feed/update/urn:li:activity:7154098225799409664/?updateEntityUrn=urn%3Ali%3Afs_updateV2%3A%28urn%3Ali%3Aactivity%3A7154098225799409664%2CFEED_DETAIL%2CEMPTY%2CDEFAULT%2Cfalse%29"
   ]
  },
  {
   "cell_type": "code",
   "execution_count": null,
   "id": "37dbf609",
   "metadata": {},
   "outputs": [],
   "source": [
    "https://www.linkedin.com/feed/update/urn:li:activity:7154155731552747521/?updateEntityUrn=urn%3Ali%3Afs_updateV2%3A%28urn%3Ali%3Aactivity%3A7154155731552747521%2CFEED_DETAIL%2CEMPTY%2CDEFAULT%2Cfalse%29"
   ]
  },
  {
   "cell_type": "code",
   "execution_count": null,
   "id": "42481a6b",
   "metadata": {},
   "outputs": [],
   "source": [
    "https://www.linkedin.com/feed/update/urn:li:activity:7154253703137447936/?updateEntityUrn=urn%3Ali%3Afs_updateV2%3A%28urn%3Ali%3Aactivity%3A7154253703137447936%2CFEED_DETAIL%2CEMPTY%2CDEFAULT%2Cfalse%29"
   ]
  },
  {
   "cell_type": "code",
   "execution_count": null,
   "id": "87758a42",
   "metadata": {},
   "outputs": [],
   "source": [
    "https://www.linkedin.com/feed/update/urn:li:activity:7154003357064404992/?updateEntityUrn=urn%3Ali%3Afs_updateV2%3A%28urn%3Ali%3Aactivity%3A7154003357064404992%2CFEED_DETAIL%2CEMPTY%2CDEFAULT%2Cfalse%29"
   ]
  },
  {
   "cell_type": "code",
   "execution_count": null,
   "id": "3b7e8fdf",
   "metadata": {},
   "outputs": [],
   "source": [
    "https://www.linkedin.com/feed/update/urn:li:activity:7153981916113731584/?updateEntityUrn=urn%3Ali%3Afs_updateV2%3A%28urn%3Ali%3Aactivity%3A7153981916113731584%2CFEED_DETAIL%2CEMPTY%2CDEFAULT%2Cfalse%29"
   ]
  },
  {
   "cell_type": "code",
   "execution_count": null,
   "id": "d0499606",
   "metadata": {},
   "outputs": [],
   "source": [
    "https://www.linkedin.com/feed/update/urn:li:activity:7154011755617095680/?updateEntityUrn=urn%3Ali%3Afs_updateV2%3A%28urn%3Ali%3Aactivity%3A7154011755617095680%2CFEED_DETAIL%2CEMPTY%2CDEFAULT%2Cfalse%29"
   ]
  },
  {
   "cell_type": "code",
   "execution_count": null,
   "id": "916b1dcf",
   "metadata": {},
   "outputs": [],
   "source": [
    "https://www.linkedin.com/feed/update/urn:li:activity:7154424324303564801/?updateEntityUrn=urn%3Ali%3Afs_updateV2%3A%28urn%3Ali%3Aactivity%3A7154424324303564801%2CFEED_DETAIL%2CEMPTY%2CDEFAULT%2Cfalse%29"
   ]
  },
  {
   "cell_type": "code",
   "execution_count": null,
   "id": "8cfb89d0",
   "metadata": {},
   "outputs": [],
   "source": [
    "https://www.linkedin.com/feed/update/urn:li:activity:7154400957626294272/?updateEntityUrn=urn%3Ali%3Afs_updateV2%3A%28urn%3Ali%3Aactivity%3A7154400957626294272%2CFEED_DETAIL%2CEMPTY%2CDEFAULT%2Cfalse%29"
   ]
  },
  {
   "cell_type": "code",
   "execution_count": null,
   "id": "ff6c5289",
   "metadata": {},
   "outputs": [],
   "source": [
    "https://www.linkedin.com/feed/update/urn:li:activity:7154180081769218048/?updateEntityUrn=urn%3Ali%3Afs_updateV2%3A%28urn%3Ali%3Aactivity%3A7154180081769218048%2CFEED_DETAIL%2CEMPTY%2CDEFAULT%2Cfalse%29"
   ]
  },
  {
   "cell_type": "code",
   "execution_count": null,
   "id": "ed0e5f63",
   "metadata": {},
   "outputs": [],
   "source": [
    "https://www.linkedin.com/feed/update/urn:li:activity:7154779952284901376/?updateEntityUrn=urn%3Ali%3Afs_updateV2%3A%28urn%3Ali%3Aactivity%3A7154779952284901376%2CFEED_DETAIL%2CEMPTY%2CDEFAULT%2Cfalse%29"
   ]
  },
  {
   "cell_type": "code",
   "execution_count": null,
   "id": "b57f4207",
   "metadata": {},
   "outputs": [],
   "source": [
    "https://www.linkedin.com/feed/update/urn:li:activity:7154781467653419008/?updateEntityUrn=urn%3Ali%3Afs_updateV2%3A%28urn%3Ali%3Aactivity%3A7154781467653419008%2CFEED_DETAIL%2CEMPTY%2CDEFAULT%2Cfalse%29"
   ]
  },
  {
   "cell_type": "code",
   "execution_count": null,
   "id": "18e41f2a",
   "metadata": {},
   "outputs": [],
   "source": [
    "https://www.linkedin.com/feed/update/urn:li:activity:7153898078574383104/?updateEntityUrn=urn%3Ali%3Afs_updateV2%3A%28urn%3Ali%3Aactivity%3A7153898078574383104%2CFEED_DETAIL%2CEMPTY%2CDEFAULT%2Cfalse%29"
   ]
  },
  {
   "cell_type": "code",
   "execution_count": null,
   "id": "0eeac020",
   "metadata": {},
   "outputs": [],
   "source": [
    "https://www.linkedin.com/feed/update/urn:li:activity:7154312215381086208/?updateEntityUrn=urn%3Ali%3Afs_updateV2%3A%28urn%3Ali%3Aactivity%3A7154312215381086208%2CFEED_DETAIL%2CEMPTY%2CDEFAULT%2Cfalse%29"
   ]
  },
  {
   "cell_type": "code",
   "execution_count": null,
   "id": "f8edad6a",
   "metadata": {},
   "outputs": [],
   "source": [
    "https://www.linkedin.com/feed/update/urn:li:activity:7153571004651331586/?updateEntityUrn=urn%3Ali%3Afs_updateV2%3A%28urn%3Ali%3Aactivity%3A7153571004651331586%2CFEED_DETAIL%2CEMPTY%2CDEFAULT%2Cfalse%29"
   ]
  },
  {
   "cell_type": "code",
   "execution_count": null,
   "id": "6e405a1c",
   "metadata": {},
   "outputs": [],
   "source": [
    "https://www.linkedin.com/feed/update/urn:li:activity:7155046436324179969/?updateEntityUrn=urn%3Ali%3Afs_updateV2%3A%28urn%3Ali%3Aactivity%3A7155046436324179969%2CFEED_DETAIL%2CEMPTY%2CDEFAULT%2Cfalse%29"
   ]
  },
  {
   "cell_type": "code",
   "execution_count": null,
   "id": "6eddcaf4",
   "metadata": {},
   "outputs": [],
   "source": [
    "https://www.linkedin.com/feed/update/urn:li:activity:7150373771634184193/?updateEntityUrn=urn%3Ali%3Afs_updateV2%3A%28urn%3Ali%3Aactivity%3A7150373771634184193%2CFEED_DETAIL%2CEMPTY%2CDEFAULT%2Cfalse%29"
   ]
  },
  {
   "cell_type": "code",
   "execution_count": null,
   "id": "cdf1aa52",
   "metadata": {},
   "outputs": [],
   "source": [
    "https://www.linkedin.com/feed/update/urn:li:activity:7155172302421131264/?updateEntityUrn=urn%3Ali%3Afs_updateV2%3A%28urn%3Ali%3Aactivity%3A7155172302421131264%2CFEED_DETAIL%2CEMPTY%2CDEFAULT%2Cfalse%29"
   ]
  },
  {
   "cell_type": "code",
   "execution_count": null,
   "id": "dbf781b5",
   "metadata": {},
   "outputs": [],
   "source": [
    "https://www.linkedin.com/feed/update/urn:li:activity:7150522507492507648/?updateEntityUrn=urn%3Ali%3Afs_updateV2%3A%28urn%3Ali%3Aactivity%3A7150522507492507648%2CFEED_DETAIL%2CEMPTY%2CDEFAULT%2Cfalse%29"
   ]
  },
  {
   "cell_type": "code",
   "execution_count": null,
   "id": "67ba627d",
   "metadata": {},
   "outputs": [],
   "source": [
    "https://www.linkedin.com/feed/update/urn:li:activity:7155143170287194112/?updateEntityUrn=urn%3Ali%3Afs_updateV2%3A%28urn%3Ali%3Aactivity%3A7155143170287194112%2CFEED_DETAIL%2CEMPTY%2CDEFAULT%2Cfalse%29"
   ]
  },
  {
   "cell_type": "code",
   "execution_count": null,
   "id": "52f918e3",
   "metadata": {},
   "outputs": [],
   "source": [
    "https://www.linkedin.com/feed/update/urn:li:activity:7155104961935118336/?updateEntityUrn=urn%3Ali%3Afs_updateV2%3A%28urn%3Ali%3Aactivity%3A7155104961935118336%2CFEED_DETAIL%2CEMPTY%2CDEFAULT%2Cfalse%29"
   ]
  },
  {
   "cell_type": "code",
   "execution_count": null,
   "id": "df6f186b",
   "metadata": {},
   "outputs": [],
   "source": [
    "https://www.linkedin.com/feed/update/urn:li:activity:7155159694339198976/?updateEntityUrn=urn%3Ali%3Afs_updateV2%3A%28urn%3Ali%3Aactivity%3A7155159694339198976%2CFEED_DETAIL%2CEMPTY%2CDEFAULT%2Cfalse%29"
   ]
  },
  {
   "cell_type": "code",
   "execution_count": null,
   "id": "3875a963",
   "metadata": {},
   "outputs": [],
   "source": [
    "https://www.linkedin.com/feed/update/urn:li:activity:7155753405783642113/?updateEntityUrn=urn%3Ali%3Afs_updateV2%3A%28urn%3Ali%3Aactivity%3A7155753405783642113%2CFEED_DETAIL%2CEMPTY%2CDEFAULT%2Cfalse%29"
   ]
  },
  {
   "cell_type": "code",
   "execution_count": null,
   "id": "1ef77804",
   "metadata": {},
   "outputs": [],
   "source": [
    "https://www.linkedin.com/feed/update/urn:li:activity:7155438045855453185/?updateEntityUrn=urn%3Ali%3Afs_updateV2%3A%28urn%3Ali%3Aactivity%3A7155438045855453185%2CFEED_DETAIL%2CEMPTY%2CDEFAULT%2Cfalse%29"
   ]
  },
  {
   "cell_type": "code",
   "execution_count": null,
   "id": "a3d71bbc",
   "metadata": {},
   "outputs": [],
   "source": [
    "https://www.linkedin.com/feed/update/urn:li:activity:7155432229039464448/?updateEntityUrn=urn%3Ali%3Afs_updateV2%3A%28urn%3Ali%3Aactivity%3A7155432229039464448%2CFEED_DETAIL%2CEMPTY%2CDEFAULT%2Cfalse%29"
   ]
  },
  {
   "cell_type": "code",
   "execution_count": null,
   "id": "460daa75",
   "metadata": {},
   "outputs": [],
   "source": [
    "https://www.linkedin.com/feed/update/urn:li:activity:7150472781778796547/?updateEntityUrn=urn%3Ali%3Afs_updateV2%3A%28urn%3Ali%3Aactivity%3A7150472781778796547%2CFEED_DETAIL%2CEMPTY%2CDEFAULT%2Cfalse%29"
   ]
  },
  {
   "cell_type": "code",
   "execution_count": null,
   "id": "37f37dcd",
   "metadata": {},
   "outputs": [],
   "source": [
    "https://www.linkedin.com/feed/update/urn:li:activity:7155555821546815488/?updateEntityUrn=urn%3Ali%3Afs_updateV2%3A%28urn%3Ali%3Aactivity%3A7155555821546815488%2CFEED_DETAIL%2CEMPTY%2CDEFAULT%2Cfalse%29"
   ]
  },
  {
   "cell_type": "code",
   "execution_count": null,
   "id": "a0c907c8",
   "metadata": {},
   "outputs": [],
   "source": [
    "https://www.linkedin.com/feed/update/urn:li:activity:7155481900785004545/?updateEntityUrn=urn%3Ali%3Afs_updateV2%3A%28urn%3Ali%3Aactivity%3A7155481900785004545%2CFEED_DETAIL%2CEMPTY%2CDEFAULT%2Cfalse%29"
   ]
  },
  {
   "cell_type": "code",
   "execution_count": null,
   "id": "a38fe4aa",
   "metadata": {},
   "outputs": [],
   "source": [
    "https://www.linkedin.com/feed/update/urn:li:activity:7155603907577102337/?updateEntityUrn=urn%3Ali%3Afs_updateV2%3A%28urn%3Ali%3Aactivity%3A7155603907577102337%2CFEED_DETAIL%2CEMPTY%2CDEFAULT%2Cfalse%29"
   ]
  },
  {
   "cell_type": "code",
   "execution_count": null,
   "id": "7e1f4496",
   "metadata": {},
   "outputs": [],
   "source": [
    "https://www.linkedin.com/feed/update/urn:li:activity:7155857663946342402/?updateEntityUrn=urn%3Ali%3Afs_updateV2%3A%28urn%3Ali%3Aactivity%3A7155857663946342402%2CFEED_DETAIL%2CEMPTY%2CDEFAULT%2Cfalse%29"
   ]
  },
  {
   "cell_type": "code",
   "execution_count": null,
   "id": "2f6cdffb",
   "metadata": {},
   "outputs": [],
   "source": [
    "https://www.linkedin.com/feed/update/urn:li:activity:7155778757922861056/?updateEntityUrn=urn%3Ali%3Afs_updateV2%3A%28urn%3Ali%3Aactivity%3A7155778757922861056%2CFEED_DETAIL%2CEMPTY%2CDEFAULT%2Cfalse%29"
   ]
  },
  {
   "cell_type": "code",
   "execution_count": null,
   "id": "9a102033",
   "metadata": {},
   "outputs": [],
   "source": [
    "https://www.linkedin.com/feed/update/urn:li:activity:7153795883795460098/?updateEntityUrn=urn%3Ali%3Afs_updateV2%3A%28urn%3Ali%3Aactivity%3A7153795883795460098%2CFEED_DETAIL%2CEMPTY%2CDEFAULT%2Cfalse%29"
   ]
  },
  {
   "cell_type": "code",
   "execution_count": null,
   "id": "d51f7b00",
   "metadata": {},
   "outputs": [],
   "source": [
    "https://www.linkedin.com/feed/update/urn:li:activity:7155611087818694657/?updateEntityUrn=urn%3Ali%3Afs_updateV2%3A%28urn%3Ali%3Aactivity%3A7155611087818694657%2CFEED_DETAIL%2CEMPTY%2CDEFAULT%2Cfalse%29"
   ]
  },
  {
   "cell_type": "code",
   "execution_count": null,
   "id": "d8444e5e",
   "metadata": {},
   "outputs": [],
   "source": [
    "https://www.linkedin.com/feed/update/urn:li:activity:7155771199170478080/?updateEntityUrn=urn%3Ali%3Afs_updateV2%3A%28urn%3Ali%3Aactivity%3A7155771199170478080%2CFEED_DETAIL%2CEMPTY%2CDEFAULT%2Cfalse%29"
   ]
  },
  {
   "cell_type": "code",
   "execution_count": null,
   "id": "99afc12c",
   "metadata": {},
   "outputs": [],
   "source": [
    "https://www.linkedin.com/feed/update/urn:li:activity:7155614561050488833/?updateEntityUrn=urn%3Ali%3Afs_updateV2%3A%28urn%3Ali%3Aactivity%3A7155614561050488833%2CFEED_DETAIL%2CEMPTY%2CDEFAULT%2Cfalse%29"
   ]
  },
  {
   "cell_type": "code",
   "execution_count": null,
   "id": "4adeba2c",
   "metadata": {},
   "outputs": [],
   "source": [
    "https://www.linkedin.com/feed/update/urn:li:activity:7154318036366180352/?updateEntityUrn=urn%3Ali%3Afs_updateV2%3A%28urn%3Ali%3Aactivity%3A7154318036366180352%2CFEED_DETAIL%2CEMPTY%2CDEFAULT%2Cfalse%29"
   ]
  },
  {
   "cell_type": "code",
   "execution_count": null,
   "id": "37f38457",
   "metadata": {},
   "outputs": [],
   "source": [
    "https://www.linkedin.com/feed/update/urn:li:activity:7153444239211704321/?updateEntityUrn=urn%3Ali%3Afs_updateV2%3A%28urn%3Ali%3Aactivity%3A7153444239211704321%2CFEED_DETAIL%2CEMPTY%2CDEFAULT%2Cfalse%29"
   ]
  },
  {
   "cell_type": "code",
   "execution_count": null,
   "id": "8388d18f",
   "metadata": {},
   "outputs": [],
   "source": [
    "https://www.linkedin.com/feed/update/urn:li:activity:7156496204254650368/?updateEntityUrn=urn%3Ali%3Afs_updateV2%3A%28urn%3Ali%3Aactivity%3A7156496204254650368%2CFEED_DETAIL%2CEMPTY%2CDEFAULT%2Cfalse%29"
   ]
  },
  {
   "cell_type": "code",
   "execution_count": null,
   "id": "31063cc0",
   "metadata": {},
   "outputs": [],
   "source": [
    "https://www.linkedin.com/feed/update/urn:li:activity:7156580897486462977/?updateEntityUrn=urn%3Ali%3Afs_updateV2%3A%28urn%3Ali%3Aactivity%3A7156580897486462977%2CFEED_DETAIL%2CEMPTY%2CDEFAULT%2Cfalse%29"
   ]
  },
  {
   "cell_type": "code",
   "execution_count": null,
   "id": "4ea792d4",
   "metadata": {},
   "outputs": [],
   "source": [
    "https://www.linkedin.com/feed/update/urn:li:activity:7156561411685457920/?updateEntityUrn=urn%3Ali%3Afs_updateV2%3A%28urn%3Ali%3Aactivity%3A7156561411685457920%2CFEED_DETAIL%2CEMPTY%2CDEFAULT%2Cfalse%29"
   ]
  },
  {
   "cell_type": "code",
   "execution_count": null,
   "id": "39067f46",
   "metadata": {},
   "outputs": [],
   "source": [
    "https://www.linkedin.com/feed/update/urn:li:activity:7156172835458060288/?updateEntityUrn=urn%3Ali%3Afs_updateV2%3A%28urn%3Ali%3Aactivity%3A7156172835458060288%2CFEED_DETAIL%2CEMPTY%2CDEFAULT%2Cfalse%29"
   ]
  },
  {
   "cell_type": "code",
   "execution_count": null,
   "id": "97a5f294",
   "metadata": {},
   "outputs": [],
   "source": [
    "https://www.linkedin.com/feed/update/urn:li:activity:7156123797543178240/?updateEntityUrn=urn%3Ali%3Afs_updateV2%3A%28urn%3Ali%3Aactivity%3A7156123797543178240%2CFEED_DETAIL%2CEMPTY%2CDEFAULT%2Cfalse%29"
   ]
  },
  {
   "cell_type": "code",
   "execution_count": null,
   "id": "3f20a8be",
   "metadata": {},
   "outputs": [],
   "source": [
    "https://www.linkedin.com/feed/update/urn:li:activity:7155778757922861056/?updateEntityUrn=urn%3Ali%3Afs_updateV2%3A%28urn%3Ali%3Aactivity%3A7155778757922861056%2CFEED_DETAIL%2CEMPTY%2CDEFAULT%2Cfalse%29"
   ]
  },
  {
   "cell_type": "code",
   "execution_count": null,
   "id": "c5ae4354",
   "metadata": {},
   "outputs": [],
   "source": [
    "https://www.linkedin.com/feed/update/urn:li:activity:7155771206967738368/?updateEntityUrn=urn%3Ali%3Afs_updateV2%3A%28urn%3Ali%3Aactivity%3A7155771206967738368%2CFEED_DETAIL%2CEMPTY%2CDEFAULT%2Cfalse%29"
   ]
  },
  {
   "cell_type": "code",
   "execution_count": null,
   "id": "d44da0f9",
   "metadata": {},
   "outputs": [],
   "source": [
    "https://www.linkedin.com/feed/update/urn:li:activity:7157076688785334272/?updateEntityUrn=urn%3Ali%3Afs_updateV2%3A%28urn%3Ali%3Aactivity%3A7157076688785334272%2CFEED_DETAIL%2CEMPTY%2CDEFAULT%2Cfalse%29"
   ]
  },
  {
   "cell_type": "code",
   "execution_count": null,
   "id": "140a0faf",
   "metadata": {},
   "outputs": [],
   "source": [
    "https://www.linkedin.com/feed/update/urn:li:activity:7157259441036242945/?updateEntityUrn=urn%3Ali%3Afs_updateV2%3A%28urn%3Ali%3Aactivity%3A7157259441036242945%2CFEED_DETAIL%2CEMPTY%2CDEFAULT%2Cfalse%29"
   ]
  },
  {
   "cell_type": "code",
   "execution_count": null,
   "id": "4d0ac40d",
   "metadata": {},
   "outputs": [],
   "source": [
    "https://www.linkedin.com/feed/update/urn:li:activity:7156968642738372608/?updateEntityUrn=urn%3Ali%3Afs_updateV2%3A%28urn%3Ali%3Aactivity%3A7156968642738372608%2CFEED_DETAIL%2CEMPTY%2CDEFAULT%2Cfalse%29"
   ]
  },
  {
   "cell_type": "code",
   "execution_count": null,
   "id": "ed84a7de",
   "metadata": {},
   "outputs": [],
   "source": [
    "https://www.linkedin.com/feed/update/urn:li:activity:7151769833020293120/?updateEntityUrn=urn%3Ali%3Afs_updateV2%3A%28urn%3Ali%3Aactivity%3A7151769833020293120%2CFEED_DETAIL%2CEMPTY%2CDEFAULT%2Cfalse%29"
   ]
  },
  {
   "cell_type": "code",
   "execution_count": null,
   "id": "f6f4fced",
   "metadata": {},
   "outputs": [],
   "source": [
    "https://www.linkedin.com/feed/update/urn:li:activity:7156686834490568704/?updateEntityUrn=urn%3Ali%3Afs_updateV2%3A%28urn%3Ali%3Aactivity%3A7156686834490568704%2CFEED_DETAIL%2CEMPTY%2CDEFAULT%2Cfalse%29"
   ]
  },
  {
   "cell_type": "code",
   "execution_count": null,
   "id": "b2518cc0",
   "metadata": {},
   "outputs": [],
   "source": [
    "https://www.linkedin.com/feed/update/urn:li:activity:7156846664094216192/?updateEntityUrn=urn%3Ali%3Afs_updateV2%3A%28urn%3Ali%3Aactivity%3A7156846664094216192%2CFEED_DETAIL%2CEMPTY%2CDEFAULT%2Cfalse%29"
   ]
  },
  {
   "cell_type": "code",
   "execution_count": null,
   "id": "1fee61d2",
   "metadata": {},
   "outputs": [],
   "source": [
    "https://www.linkedin.com/feed/update/urn:li:activity:7157816391272693760/?updateEntityUrn=urn%3Ali%3Afs_updateV2%3A%28urn%3Ali%3Aactivity%3A7157816391272693760%2CFEED_DETAIL%2CEMPTY%2CDEFAULT%2Cfalse%29"
   ]
  },
  {
   "cell_type": "code",
   "execution_count": null,
   "id": "53877c3e",
   "metadata": {},
   "outputs": [],
   "source": [
    "https://www.linkedin.com/feed/update/urn:li:activity:7157945530659045376/?updateEntityUrn=urn%3Ali%3Afs_updateV2%3A%28urn%3Ali%3Aactivity%3A7157945530659045376%2CFEED_DETAIL%2CEMPTY%2CDEFAULT%2Cfalse%29"
   ]
  },
  {
   "cell_type": "code",
   "execution_count": null,
   "id": "1a0e0869",
   "metadata": {},
   "outputs": [],
   "source": [
    "https://www.linkedin.com/feed/update/urn:li:activity:7157776219399192577/?updateEntityUrn=urn%3Ali%3Afs_updateV2%3A%28urn%3Ali%3Aactivity%3A7157776219399192577%2CFEED_DETAIL%2CEMPTY%2CDEFAULT%2Cfalse%29"
   ]
  },
  {
   "cell_type": "code",
   "execution_count": null,
   "id": "e333184c",
   "metadata": {},
   "outputs": [],
   "source": [
    "https://www.linkedin.com/feed/update/urn:li:activity:7157424944006496256/?updateEntityUrn=urn%3Ali%3Afs_updateV2%3A%28urn%3Ali%3Aactivity%3A7157424944006496256%2CFEED_DETAIL%2CEMPTY%2CDEFAULT%2Cfalse%29"
   ]
  },
  {
   "cell_type": "code",
   "execution_count": null,
   "id": "f531b421",
   "metadata": {},
   "outputs": [],
   "source": [
    "https://www.linkedin.com/feed/update/urn:li:activity:7157407102997594112/?updateEntityUrn=urn%3Ali%3Afs_updateV2%3A%28urn%3Ali%3Aactivity%3A7157407102997594112%2CFEED_DETAIL%2CEMPTY%2CDEFAULT%2Cfalse%29"
   ]
  },
  {
   "cell_type": "code",
   "execution_count": null,
   "id": "0fb20c27",
   "metadata": {},
   "outputs": [],
   "source": [
    "https://www.linkedin.com/feed/update/urn:li:activity:7157694495315177472/?updateEntityUrn=urn%3Ali%3Afs_updateV2%3A%28urn%3Ali%3Aactivity%3A7157694495315177472%2CFEED_DETAIL%2CEMPTY%2CDEFAULT%2Cfalse%29"
   ]
  },
  {
   "cell_type": "code",
   "execution_count": null,
   "id": "4c3a437c",
   "metadata": {},
   "outputs": [],
   "source": [
    "https://www.linkedin.com/feed/update/urn:li:activity:7157027703404032000/?updateEntityUrn=urn%3Ali%3Afs_updateV2%3A%28urn%3Ali%3Aactivity%3A7157027703404032000%2CFEED_DETAIL%2CEMPTY%2CDEFAULT%2Cfalse%29"
   ]
  },
  {
   "cell_type": "code",
   "execution_count": null,
   "id": "0873d11a",
   "metadata": {},
   "outputs": [],
   "source": [
    "https://www.linkedin.com/feed/update/urn:li:activity:7157605785810653185/?updateEntityUrn=urn%3Ali%3Afs_updateV2%3A%28urn%3Ali%3Aactivity%3A7157605785810653185%2CFEED_DETAIL%2CEMPTY%2CDEFAULT%2Cfalse%29"
   ]
  },
  {
   "cell_type": "code",
   "execution_count": null,
   "id": "8dde4b11",
   "metadata": {},
   "outputs": [],
   "source": [
    "https://www.linkedin.com/feed/update/urn:li:activity:7157747062535598080/?updateEntityUrn=urn%3Ali%3Afs_updateV2%3A%28urn%3Ali%3Aactivity%3A7157747062535598080%2CFEED_DETAIL%2CEMPTY%2CDEFAULT%2Cfalse%29"
   ]
  },
  {
   "cell_type": "code",
   "execution_count": null,
   "id": "31781df0",
   "metadata": {},
   "outputs": [],
   "source": [
    "https://www.linkedin.com/feed/update/urn:li:activity:7158730699447922688/?updateEntityUrn=urn%3Ali%3Afs_updateV2%3A%28urn%3Ali%3Aactivity%3A7158730699447922688%2CFEED_DETAIL%2CEMPTY%2CDEFAULT%2Cfalse%29"
   ]
  },
  {
   "cell_type": "code",
   "execution_count": null,
   "id": "9ac6b121",
   "metadata": {},
   "outputs": [],
   "source": [
    "https://www.linkedin.com/feed/update/urn:li:activity:7158437515488616448/?updateEntityUrn=urn%3Ali%3Afs_updateV2%3A%28urn%3Ali%3Aactivity%3A7158437515488616448%2CFEED_DETAIL%2CEMPTY%2CDEFAULT%2Cfalse%29"
   ]
  },
  {
   "cell_type": "code",
   "execution_count": null,
   "id": "1a89145b",
   "metadata": {},
   "outputs": [],
   "source": [
    "https://www.linkedin.com/feed/update/urn:li:activity:7158115290583601152/?updateEntityUrn=urn%3Ali%3Afs_updateV2%3A%28urn%3Ali%3Aactivity%3A7158115290583601152%2CFEED_DETAIL%2CEMPTY%2CDEFAULT%2Cfalse%29"
   ]
  },
  {
   "cell_type": "code",
   "execution_count": null,
   "id": "64d8dcd9",
   "metadata": {},
   "outputs": [],
   "source": [
    "https://www.linkedin.com/feed/update/urn:li:activity:7158432814760091648/?updateEntityUrn=urn%3Ali%3Afs_updateV2%3A%28urn%3Ali%3Aactivity%3A7158432814760091648%2CFEED_DETAIL%2CEMPTY%2CDEFAULT%2Cfalse%29"
   ]
  },
  {
   "cell_type": "code",
   "execution_count": null,
   "id": "6ea7f7f8",
   "metadata": {},
   "outputs": [],
   "source": [
    "https://www.linkedin.com/feed/update/urn:li:activity:7158675676089196544/?updateEntityUrn=urn%3Ali%3Afs_updateV2%3A%28urn%3Ali%3Aactivity%3A7158675676089196544%2CFEED_DETAIL%2CEMPTY%2CDEFAULT%2Cfalse%29"
   ]
  },
  {
   "cell_type": "code",
   "execution_count": null,
   "id": "058ea932",
   "metadata": {},
   "outputs": [],
   "source": [
    "https://www.linkedin.com/feed/update/urn:li:activity:7158360828998529025/?updateEntityUrn=urn%3Ali%3Afs_updateV2%3A%28urn%3Ali%3Aactivity%3A7158360828998529025%2CFEED_DETAIL%2CEMPTY%2CDEFAULT%2Cfalse%29"
   ]
  },
  {
   "cell_type": "code",
   "execution_count": null,
   "id": "26c760cb",
   "metadata": {},
   "outputs": [],
   "source": [
    "https://www.linkedin.com/feed/update/urn:li:activity:7158332106736078848/?updateEntityUrn=urn%3Ali%3Afs_updateV2%3A%28urn%3Ali%3Aactivity%3A7158332106736078848%2CFEED_DETAIL%2CEMPTY%2CDEFAULT%2Cfalse%29"
   ]
  },
  {
   "cell_type": "code",
   "execution_count": null,
   "id": "bba4a0b3",
   "metadata": {},
   "outputs": [],
   "source": [
    "https://www.linkedin.com/feed/update/urn:li:activity:7153709755075604482/?updateEntityUrn=urn%3Ali%3Afs_updateV2%3A%28urn%3Ali%3Aactivity%3A7153709755075604482%2CFEED_DETAIL%2CEMPTY%2CDEFAULT%2Cfalse%29"
   ]
  },
  {
   "cell_type": "code",
   "execution_count": null,
   "id": "0787c2e5",
   "metadata": {},
   "outputs": [],
   "source": [
    "https://www.linkedin.com/feed/update/urn:li:activity:7157551218842632193/?updateEntityUrn=urn%3Ali%3Afs_updateV2%3A%28urn%3Ali%3Aactivity%3A7157551218842632193%2CFEED_DETAIL%2CEMPTY%2CDEFAULT%2Cfalse%29"
   ]
  },
  {
   "cell_type": "code",
   "execution_count": null,
   "id": "d2ab7b4a",
   "metadata": {},
   "outputs": [],
   "source": [
    "https://www.linkedin.com/feed/update/urn:li:activity:7156933864098013184/?updateEntityUrn=urn%3Ali%3Afs_updateV2%3A%28urn%3Ali%3Aactivity%3A7156933864098013184%2CFEED_DETAIL%2CEMPTY%2CDEFAULT%2Cfalse%29"
   ]
  },
  {
   "cell_type": "code",
   "execution_count": null,
   "id": "9807ed6a",
   "metadata": {},
   "outputs": [],
   "source": [
    "https://www.linkedin.com/feed/update/urn:li:activity:7158042221110304768/?updateEntityUrn=urn%3Ali%3Afs_updateV2%3A%28urn%3Ali%3Aactivity%3A7158042221110304768%2CFEED_DETAIL%2CEMPTY%2CDEFAULT%2Cfalse%29"
   ]
  },
  {
   "cell_type": "code",
   "execution_count": null,
   "id": "5c22b88a",
   "metadata": {},
   "outputs": [],
   "source": [
    "https://www.linkedin.com/feed/update/urn:li:activity:7158894678061334528/?updateEntityUrn=urn%3Ali%3Afs_updateV2%3A%28urn%3Ali%3Aactivity%3A7158894678061334528%2CFEED_DETAIL%2CEMPTY%2CDEFAULT%2Cfalse%29"
   ]
  },
  {
   "cell_type": "code",
   "execution_count": null,
   "id": "b05d17de",
   "metadata": {},
   "outputs": [],
   "source": [
    "https://www.linkedin.com/feed/update/urn:li:activity:7156490924280225792/?updateEntityUrn=urn%3Ali%3Afs_updateV2%3A%28urn%3Ali%3Aactivity%3A7156490924280225792%2CFEED_DETAIL%2CEMPTY%2CDEFAULT%2Cfalse%29"
   ]
  },
  {
   "cell_type": "code",
   "execution_count": null,
   "id": "e5907c63",
   "metadata": {},
   "outputs": [],
   "source": []
  },
  {
   "cell_type": "code",
   "execution_count": null,
   "id": "2f796ce4",
   "metadata": {},
   "outputs": [],
   "source": []
  },
  {
   "cell_type": "code",
   "execution_count": null,
   "id": "825a07c8",
   "metadata": {},
   "outputs": [],
   "source": []
  },
  {
   "cell_type": "code",
   "execution_count": null,
   "id": "f0cc15a4",
   "metadata": {},
   "outputs": [],
   "source": []
  },
  {
   "cell_type": "code",
   "execution_count": null,
   "id": "cc37b1cc",
   "metadata": {},
   "outputs": [],
   "source": []
  },
  {
   "cell_type": "code",
   "execution_count": null,
   "id": "8e576df0",
   "metadata": {},
   "outputs": [],
   "source": []
  },
  {
   "cell_type": "code",
   "execution_count": null,
   "id": "d950803c",
   "metadata": {},
   "outputs": [],
   "source": []
  },
  {
   "cell_type": "code",
   "execution_count": null,
   "id": "908aa460",
   "metadata": {},
   "outputs": [],
   "source": []
  },
  {
   "cell_type": "code",
   "execution_count": null,
   "id": "c3b5199f",
   "metadata": {},
   "outputs": [],
   "source": []
  },
  {
   "cell_type": "code",
   "execution_count": null,
   "id": "3bbec259",
   "metadata": {},
   "outputs": [],
   "source": []
  },
  {
   "cell_type": "code",
   "execution_count": null,
   "id": "1e85e072",
   "metadata": {},
   "outputs": [],
   "source": [
    "https://www.linkedin.com/feed/update/urn:li:activity:7149314832926670848/?updateEntityUrn=urn%3Ali%3Afs_updateV2%3A%28urn%3Ali%3Aactivity%3A7149314832926670848%2CFEED_DETAIL%2CEMPTY%2CDEFAULT%2Cfalse%29\n",
    "\n",
    "https://www.dsfaisal.com/articles/sql/hackerrank-sql-problem-solving\n",
    "https://www.dsfaisal.com/articles/sql/leetcode-sql-problem-solving#178-rank-scores--medium--leetcode"
   ]
  },
  {
   "cell_type": "code",
   "execution_count": null,
   "id": "5b9cd64e",
   "metadata": {},
   "outputs": [],
   "source": [
    "https://github.com/wasim7568/Pyspark-Interview-Questions/blob/main/Pyspark%20Interview%20Qns%20-%20part(2).ipynb"
   ]
  },
  {
   "cell_type": "code",
   "execution_count": null,
   "id": "f85ffb32",
   "metadata": {},
   "outputs": [],
   "source": [
    "# project\n",
    "\n",
    "https://www.linkedin.com/feed/update/urn:li:activity:7155232892925661184/?updateEntityUrn=urn%3Ali%3Afs_updateV2%3A%28urn%3Ali%3Aactivity%3A7155232892925661184%2CFEED_DETAIL%2CEMPTY%2CDEFAULT%2Cfalse%29\n",
    "                \n",
    "https://github.com/Shoaib9288/Azure_DataEngineering_Projects/tree/main/tokyo-olympic-azure-data-engineering-project                "
   ]
  },
  {
   "cell_type": "code",
   "execution_count": null,
   "id": "e9c8beb2",
   "metadata": {},
   "outputs": [],
   "source": [
    "# sql\n",
    "\n",
    "https://www.linkedin.com/feed/update/urn:li:activity:7157349094405910528/?updateEntityUrn=urn%3Ali%3Afs_updateV2%3A%28urn%3Ali%3Aactivity%3A7157349094405910528%2CFEED_DETAIL%2CEMPTY%2CDEFAULT%2Cfalse%29"
   ]
  },
  {
   "cell_type": "code",
   "execution_count": null,
   "id": "4e8157bd",
   "metadata": {},
   "outputs": [],
   "source": []
  },
  {
   "cell_type": "code",
   "execution_count": null,
   "id": "7be217ff",
   "metadata": {},
   "outputs": [],
   "source": []
  }
 ],
 "metadata": {
  "kernelspec": {
   "display_name": "Python 3 (ipykernel)",
   "language": "python",
   "name": "python3"
  },
  "language_info": {
   "codemirror_mode": {
    "name": "ipython",
    "version": 3
   },
   "file_extension": ".py",
   "mimetype": "text/x-python",
   "name": "python",
   "nbconvert_exporter": "python",
   "pygments_lexer": "ipython3",
   "version": "3.11.5"
  }
 },
 "nbformat": 4,
 "nbformat_minor": 5
}
